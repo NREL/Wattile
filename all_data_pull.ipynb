{
 "cells": [
  {
   "cell_type": "code",
   "execution_count": 36,
   "metadata": {},
   "outputs": [],
   "source": [
    "import numpy as np\n",
    "import pandas as pd\n",
    "import glob\n",
    "import datetime\n",
    "import os.path\n",
    "from dateutil.parser import parse"
   ]
  },
  {
   "cell_type": "code",
   "execution_count": 3,
   "metadata": {},
   "outputs": [],
   "source": [
    "cols = ['datetime_str','Garage_Real_Power_Total']"
   ]
  },
  {
   "cell_type": "code",
   "execution_count": 7,
   "metadata": {},
   "outputs": [],
   "source": [
    "foo_df = pd.read_csv('garage_data/Garage_Real_Power_Total_201701.csv')"
   ]
  },
  {
   "cell_type": "code",
   "execution_count": 40,
   "metadata": {},
   "outputs": [
    {
     "data": {
      "text/plain": [
       "(240000, 2)"
      ]
     },
     "execution_count": 40,
     "metadata": {},
     "output_type": "execute_result"
    }
   ],
   "source": [
    "path = './garage_data'\n",
    "all_files = glob.glob(path + \"/*.csv\")\n",
    "all_files.sort()\n",
    "\n",
    "garage = pd.concat([pd.read_csv(f, skipinitialspace = True, skiprows=(1),float_precision='round_trip',\n",
    "                                      delimiter=',', index_col=False,header=None, names=cols) for f in all_files],ignore_index=True)\n",
    "garage.shape"
   ]
  },
  {
   "cell_type": "code",
   "execution_count": 29,
   "metadata": {},
   "outputs": [],
   "source": [
    "Jan2017 = pd.read_csv('./garage_data/Garage_Real_Power_Total_201701.csv')\n",
    "Feb2017 = pd.read_csv('./garage_data/Garage_Real_Power_Total_201702.csv')\n",
    "Mar2017 = pd.read_csv('./garage_data/Garage_Real_Power_Total_201703.csv')\n",
    "Apr2017 = pd.read_csv('./garage_data/Garage_Real_Power_Total_201704.csv')\n",
    "May2017 = pd.read_csv('./garage_data/Garage_Real_Power_Total_201705.csv')\n",
    "Jun2017 = pd.read_csv('./garage_data/Garage_Real_Power_Total_201706.csv')\n",
    "Jul2017 = pd.read_csv('./garage_data/Garage_Real_Power_Total_201707.csv')\n",
    "Aug2017 = pd.read_csv('./garage_data/Garage_Real_Power_Total_201708.csv')\n",
    "Sep2017 = pd.read_csv('./garage_data/Garage_Real_Power_Total_201709.csv')\n",
    "Oct2017 = pd.read_csv('./garage_data/Garage_Real_Power_Total_201710.csv')\n",
    "Nov2017 = pd.read_csv('./garage_data/Garage_Real_Power_Total_201711.csv')\n",
    "Dec2017 = pd.read_csv('./garage_data/Garage_Real_Power_Total_201712.csv')\n",
    "\n",
    "Jan2018 = pd.read_csv('./garage_data/Garage_Real_Power_Total_201801.csv')\n",
    "Feb2018 = pd.read_csv('./garage_data/Garage_Real_Power_Total_201802.csv')\n",
    "Mar2018 = pd.read_csv('./garage_data/Garage_Real_Power_Total_201803.csv')\n",
    "Apr2018 = pd.read_csv('./garage_data/Garage_Real_Power_Total_201804.csv')\n",
    "May2018 = pd.read_csv('./garage_data/Garage_Real_Power_Total_201805.csv')\n",
    "Jun2018 = pd.read_csv('./garage_data/Garage_Real_Power_Total_201806.csv')\n",
    "Jul2018 = pd.read_csv('./garage_data/Garage_Real_Power_Total_201807.csv')\n",
    "Aug2018 = pd.read_csv('./garage_data/Garage_Real_Power_Total_201808.csv')\n",
    "Sep2018 = pd.read_csv('./garage_data/Garage_Real_Power_Total_201809.csv')\n",
    "Oct2018 = pd.read_csv('./garage_data/Garage_Real_Power_Total_201810.csv')\n",
    "Nov2018 = pd.read_csv('./garage_data/Garage_Real_Power_Total_201811.csv')\n",
    "Dec2018 = pd.read_csv('./garage_data/Garage_Real_Power_Total_201812.csv')"
   ]
  },
  {
   "cell_type": "code",
   "execution_count": 30,
   "metadata": {},
   "outputs": [
    {
     "name": "stdout",
     "output_type": "stream",
     "text": [
      "Jan 2017 shape: (10000, 2)\n",
      "Feb 2017 shape: (10000, 2)\n",
      "Mar 2017 shape: (10000, 2)\n",
      "Apr 2017 shape: (10000, 2)\n",
      "May 2017 shape: (10000, 2)\n",
      "Jun 2017 shape: (10000, 2)\n",
      "Jul 2017 shape: (10000, 2)\n",
      "Aug 2017 shape: (10000, 2)\n",
      "Sep 2017 shape: (10000, 2)\n",
      "Oct 2017 shape: (10000, 2)\n",
      "Nov 2017 shape: (10000, 2)\n",
      "Dec 2017 shape: (10000, 2)\n",
      "Jan 2018 shape: (10000, 2)\n",
      "Feb 2018 shape: (10000, 2)\n",
      "Mar 2018 shape: (10000, 2)\n",
      "Apr 2018 shape: (10000, 2)\n",
      "May 2018 shape: (10000, 2)\n",
      "Jun 2018 shape: (10000, 2)\n",
      "Jul 2018 shape: (10000, 2)\n",
      "Aug 2018 shape: (10000, 2)\n",
      "Sep 2018 shape: (10000, 2)\n",
      "Oct 2018 shape: (10000, 2)\n",
      "Nov 2018 shape: (10000, 2)\n",
      "Dec 2018 shape: (10000, 2)\n"
     ]
    }
   ],
   "source": [
    "print(\"Jan 2017 shape: {}\".format(Jan2017.shape))\n",
    "print(\"Feb 2017 shape: {}\".format(Feb2017.shape))\n",
    "print(\"Mar 2017 shape: {}\".format(Mar2017.shape))\n",
    "print(\"Apr 2017 shape: {}\".format(Apr2017.shape))\n",
    "print(\"May 2017 shape: {}\".format(May2017.shape))\n",
    "print(\"Jun 2017 shape: {}\".format(Jun2017.shape))\n",
    "print(\"Jul 2017 shape: {}\".format(Jul2017.shape))\n",
    "print(\"Aug 2017 shape: {}\".format(Aug2017.shape))\n",
    "print(\"Sep 2017 shape: {}\".format(Sep2017.shape))\n",
    "print(\"Oct 2017 shape: {}\".format(Oct2017.shape))\n",
    "print(\"Nov 2017 shape: {}\".format(Nov2017.shape))\n",
    "print(\"Dec 2017 shape: {}\".format(Dec2017.shape))\n",
    "\n",
    "print(\"Jan 2018 shape: {}\".format(Jan2018.shape))\n",
    "print(\"Feb 2018 shape: {}\".format(Feb2018.shape))\n",
    "print(\"Mar 2018 shape: {}\".format(Mar2018.shape))\n",
    "print(\"Apr 2018 shape: {}\".format(Apr2018.shape))\n",
    "print(\"May 2018 shape: {}\".format(May2018.shape))\n",
    "print(\"Jun 2018 shape: {}\".format(Jun2018.shape))\n",
    "print(\"Jul 2018 shape: {}\".format(Jul2018.shape))\n",
    "print(\"Aug 2018 shape: {}\".format(Aug2018.shape))\n",
    "print(\"Sep 2018 shape: {}\".format(Sep2018.shape))\n",
    "print(\"Oct 2018 shape: {}\".format(Oct2018.shape))\n",
    "print(\"Nov 2018 shape: {}\".format(Nov2018.shape))\n",
    "print(\"Dec 2018 shape: {}\".format(Dec2018.shape))\n"
   ]
  },
  {
   "cell_type": "code",
   "execution_count": 41,
   "metadata": {},
   "outputs": [],
   "source": [
    "def date_parser(row):\n",
    "    row = row.strip(\" Denver\")\n",
    "    parsed = parse(row)\n",
    "    datetime_var = parsed.strftime(format='%m-%d-%y %H:%M:%S')\n",
    "    date = parsed.date()\n",
    "    time = parsed.time()\n",
    "    return (datetime_var ,date, time)"
   ]
  },
  {
   "cell_type": "code",
   "execution_count": 55,
   "metadata": {},
   "outputs": [],
   "source": [
    "garage.datetime_str = list(zip(*garage.datetime_str.apply(lambda row:date_parser(row))))[0]"
   ]
  },
  {
   "cell_type": "code",
   "execution_count": 58,
   "metadata": {},
   "outputs": [
    {
     "data": {
      "text/html": [
       "<div>\n",
       "<style scoped>\n",
       "    .dataframe tbody tr th:only-of-type {\n",
       "        vertical-align: middle;\n",
       "    }\n",
       "\n",
       "    .dataframe tbody tr th {\n",
       "        vertical-align: top;\n",
       "    }\n",
       "\n",
       "    .dataframe thead th {\n",
       "        text-align: right;\n",
       "    }\n",
       "</style>\n",
       "<table border=\"1\" class=\"dataframe\">\n",
       "  <thead>\n",
       "    <tr style=\"text-align: right;\">\n",
       "      <th></th>\n",
       "      <th>datetime_str</th>\n",
       "      <th>Garage_Real_Power_Total</th>\n",
       "    </tr>\n",
       "  </thead>\n",
       "  <tbody>\n",
       "    <tr>\n",
       "      <th>0</th>\n",
       "      <td>12-31-16 23:59:00</td>\n",
       "      <td>8.83</td>\n",
       "    </tr>\n",
       "    <tr>\n",
       "      <th>1</th>\n",
       "      <td>01-01-17 00:00:00</td>\n",
       "      <td>8.86</td>\n",
       "    </tr>\n",
       "    <tr>\n",
       "      <th>2</th>\n",
       "      <td>01-01-17 00:01:00</td>\n",
       "      <td>8.86</td>\n",
       "    </tr>\n",
       "    <tr>\n",
       "      <th>3</th>\n",
       "      <td>01-01-17 00:02:00</td>\n",
       "      <td>8.83</td>\n",
       "    </tr>\n",
       "    <tr>\n",
       "      <th>4</th>\n",
       "      <td>01-01-17 00:03:00</td>\n",
       "      <td>6.69</td>\n",
       "    </tr>\n",
       "    <tr>\n",
       "      <th>5</th>\n",
       "      <td>01-01-17 00:04:00</td>\n",
       "      <td>6.68</td>\n",
       "    </tr>\n",
       "    <tr>\n",
       "      <th>6</th>\n",
       "      <td>01-01-17 00:05:00</td>\n",
       "      <td>6.75</td>\n",
       "    </tr>\n",
       "    <tr>\n",
       "      <th>7</th>\n",
       "      <td>01-01-17 00:06:00</td>\n",
       "      <td>6.74</td>\n",
       "    </tr>\n",
       "    <tr>\n",
       "      <th>8</th>\n",
       "      <td>01-01-17 00:07:00</td>\n",
       "      <td>8.15</td>\n",
       "    </tr>\n",
       "    <tr>\n",
       "      <th>9</th>\n",
       "      <td>01-01-17 00:08:00</td>\n",
       "      <td>8.18</td>\n",
       "    </tr>\n",
       "    <tr>\n",
       "      <th>10</th>\n",
       "      <td>01-01-17 00:09:00</td>\n",
       "      <td>8.21</td>\n",
       "    </tr>\n",
       "    <tr>\n",
       "      <th>11</th>\n",
       "      <td>01-01-17 00:10:00</td>\n",
       "      <td>8.11</td>\n",
       "    </tr>\n",
       "    <tr>\n",
       "      <th>12</th>\n",
       "      <td>01-01-17 00:11:00</td>\n",
       "      <td>8.80</td>\n",
       "    </tr>\n",
       "    <tr>\n",
       "      <th>13</th>\n",
       "      <td>01-01-17 00:12:00</td>\n",
       "      <td>8.80</td>\n",
       "    </tr>\n",
       "    <tr>\n",
       "      <th>14</th>\n",
       "      <td>01-01-17 00:13:00</td>\n",
       "      <td>7.40</td>\n",
       "    </tr>\n",
       "  </tbody>\n",
       "</table>\n",
       "</div>"
      ],
      "text/plain": [
       "         datetime_str  Garage_Real_Power_Total\n",
       "0   12-31-16 23:59:00                     8.83\n",
       "1   01-01-17 00:00:00                     8.86\n",
       "2   01-01-17 00:01:00                     8.86\n",
       "3   01-01-17 00:02:00                     8.83\n",
       "4   01-01-17 00:03:00                     6.69\n",
       "5   01-01-17 00:04:00                     6.68\n",
       "6   01-01-17 00:05:00                     6.75\n",
       "7   01-01-17 00:06:00                     6.74\n",
       "8   01-01-17 00:07:00                     8.15\n",
       "9   01-01-17 00:08:00                     8.18\n",
       "10  01-01-17 00:09:00                     8.21\n",
       "11  01-01-17 00:10:00                     8.11\n",
       "12  01-01-17 00:11:00                     8.80\n",
       "13  01-01-17 00:12:00                     8.80\n",
       "14  01-01-17 00:13:00                     7.40"
      ]
     },
     "execution_count": 58,
     "metadata": {},
     "output_type": "execute_result"
    }
   ],
   "source": [
    "garage.head(15)"
   ]
  },
  {
   "cell_type": "code",
   "execution_count": null,
   "metadata": {},
   "outputs": [],
   "source": []
  }
 ],
 "metadata": {
  "kernelspec": {
   "display_name": "python3.5",
   "language": "python",
   "name": "python3.5"
  },
  "language_info": {
   "codemirror_mode": {
    "name": "ipython",
    "version": 3
   },
   "file_extension": ".py",
   "mimetype": "text/x-python",
   "name": "python",
   "nbconvert_exporter": "python",
   "pygments_lexer": "ipython3",
   "version": "3.5.6"
  }
 },
 "nbformat": 4,
 "nbformat_minor": 2
}
