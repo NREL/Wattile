{
 "cells": [
  {
   "cell_type": "code",
   "execution_count": 1,
   "metadata": {},
   "outputs": [],
   "source": [
    "import numpy as np\n",
    "import pandas as pd\n",
    "import requests\n",
    "import json\n",
    "import re\n",
    "from functools import reduce\n",
    "\n",
    "import dateutil\n",
    "from dateutil.parser import parse\n",
    "import datetime\n",
    "from sklearn import preprocessing\n",
    "import seaborn as sns\n",
    "from scipy import stats\n",
    "import matplotlib.pyplot as plt\n",
    "%matplotlib inline"
   ]
  },
  {
   "cell_type": "code",
   "execution_count": 2,
   "metadata": {},
   "outputs": [],
   "source": [
    "# ESIF *Main Real Power Total* and *Main Energy Net*\n",
    "start_date = '2017-03-01'\n",
    "end_date = '2018-12-29'\n",
    "start_time = '12:00:00'\n",
    "end_time = '23:00:00'"
   ]
  },
  {
   "cell_type": "code",
   "execution_count": 12,
   "metadata": {},
   "outputs": [
    {
     "name": "stdout",
     "output_type": "stream",
     "text": [
      "dict_keys(['resp_ESIF_Energy_Net'])\n",
      "https://internal-apis.nrel.gov/intelligentcampus/hisRead?id=@p:stm_campus:r:23752630-794c8dba&range=\"2018-04-01%2c2018-04-30\"\n",
      "https://internal-apis.nrel.gov/intelligentcampus/hisRead?id=@p:stm_campus:r:23752630-794c8dba&range=\"2018-05-01%2c2018-05-31\"\n",
      "dict_keys(['resp_ESIF_Real_Power_Total', 'resp_ESIF_Energy_Net'])\n",
      "https://internal-apis.nrel.gov/intelligentcampus/hisRead?id=@p:stm_campus:r:1faa61e0-fca6c387&range=\"2018-04-01%2c2018-04-30\"\n",
      "https://internal-apis.nrel.gov/intelligentcampus/hisRead?id=@p:stm_campus:r:1faa61e0-fca6c387&range=\"2018-05-01%2c2018-05-31\"\n"
     ]
    }
   ],
   "source": [
    "root_url = 'https://internal-apis.nrel.gov/intelligentcampus/hisRead?id='\n",
    "reference_id = ['@p:stm_campus:r:23752630-794c8dba','@p:stm_campus:r:1faa61e0-fca6c387']\n",
    "feat_name = ['ESIF_Energy_Net','ESIF_Real_Power_Total']\n",
    "start_date = ['2018-04-01','2018-05-01']\n",
    "end_date = ['2018-04-30','2018-05-31']\n",
    "\n",
    "response_dict = {}\n",
    "for i in range(len(reference_id)):\n",
    "    response_dict['resp_'+feat_name[i]] = {}\n",
    "    print(response_dict.keys())\n",
    "    for j in range(len(start_date)):\n",
    "        date_range = '&range=\\\"'+start_date[j]+'%2c'+end_date[j]+'\\\"'\n",
    "        url_temp = root_url+reference_id[i]+date_range\n",
    "        print(url_temp)\n",
    "        response_dict['resp_'+feat_name[i]]['d-range_'+str(j)] = requests.get(url_temp)\n",
    "        if response_dict['resp_'+feat_name[i]]['d-range_'+str(j)].status_code == 200:\n",
    "            pass\n",
    "        else:\n",
    "            print(\"response from {} is not getting fetched from API\".format(feat_name[i]))\n",
    "            print(\"the reponse code of failed request is: {}\".format(response_dict['resp_'+feat_name[i]]['d-range_'+str(j)].status_code))\n",
    "            pass"
   ]
  },
  {
   "cell_type": "code",
   "execution_count": 18,
   "metadata": {},
   "outputs": [],
   "source": [
    "#pd.concat({k: pd.DataFrame(v) for k,v in response_dict.items()})"
   ]
  },
  {
   "cell_type": "code",
   "execution_count": 19,
   "metadata": {},
   "outputs": [],
   "source": [
    "def str_split(row):\n",
    "    time_val = row.split(\",\")[0].strip(\" Denver\")\n",
    "    energy_val = row.split(\",\")[1]\n",
    "    energy_val = re.sub('[kwh%RHmbar°FW/m²_irrp]','', energy_val)\n",
    "    return (time_val, float(energy_val))\n",
    "\n",
    "def date_parser(row):\n",
    "    parsed = parse(row)\n",
    "    datetime_var = parsed.strftime(format='%m-%d-%y %H:%M:%S')\n",
    "    date = parsed.date()\n",
    "    time = parsed.time()\n",
    "    return (datetime_var ,date, time)"
   ]
  },
  {
   "cell_type": "code",
   "execution_count": null,
   "metadata": {},
   "outputs": [],
   "source": []
  },
  {
   "cell_type": "code",
   "execution_count": 40,
   "metadata": {},
   "outputs": [
    {
     "name": "stdout",
     "output_type": "stream",
     "text": [
      "0\n",
      "1\n",
      "0\n",
      "1\n"
     ]
    }
   ],
   "source": [
    "feat_name = ['ESIF_Energy_Net','ESIF_Real_Power_Total']\n",
    "start_date = ['2018-04-01','2018-05-01']\n",
    "end_date = ['2018-04-30','2018-05-31']\n",
    "\n",
    "parsed_dict = {}\n",
    "for i in range(len(feat_name)):\n",
    "    parsed_dict[feat_name[i]] = {}\n",
    "    parsed_dict[feat_name[i]+'_dt_parsed'] = {}\n",
    "    for j in range(len(start_date)):\n",
    "        parsed_dict[feat_name[i]]['d-range_'+str(j)] = {}\n",
    "        parsed_dict[feat_name[i]]['d-range_'+str(j)] = response_dict['resp_'+feat_name[i]]['d-range_'+str(j)].content.decode('utf-8').split(\"\\n\")\n",
    "        parsed_dict[feat_name[i]]['d-range_'+str(j)] = parsed_dict[feat_name[i]]['d-range_'+str(j)][2:]\n",
    "        parsed_dict[feat_name[i]]['d-range_'+str(j)] = filter(None, parsed_dict[feat_name[i]]['d-range_'+str(j)])\n",
    "        parsed_dict[feat_name[i]]['d-range_'+str(j)] = list(map(str_split, parsed_dict[feat_name[i]]['d-range_'+str(j)]))\n",
    "        print(j)\n",
    "        parsed_dict[feat_name[i]]['d-range_'+str(j)] = list(zip(*parsed_dict[feat_name[i]]['d-range_'+str(j)]))\n",
    "        \n",
    "        \n",
    "        parsed_dict[feat_name[i]+'_dt_parsed']['d-range_'+str(j)] = list(map(date_parser, parsed_dict[feat_name[i]]['d-range_'+str(j)][0]))\n",
    "        parsed_dict[feat_name[i]+'_dt_parsed']['d-range_'+str(j)] = list(zip(*parsed_dict[feat_name[i]+'_dt_parsed']['d-range_'+str(j)]))"
   ]
  },
  {
   "cell_type": "code",
   "execution_count": null,
   "metadata": {},
   "outputs": [],
   "source": []
  }
 ],
 "metadata": {
  "kernelspec": {
   "display_name": "python3_ve",
   "language": "python",
   "name": "python3_ve"
  },
  "language_info": {
   "codemirror_mode": {
    "name": "ipython",
    "version": 3
   },
   "file_extension": ".py",
   "mimetype": "text/x-python",
   "name": "python",
   "nbconvert_exporter": "python",
   "pygments_lexer": "ipython3",
   "version": "3.5.6"
  }
 },
 "nbformat": 4,
 "nbformat_minor": 2
}
