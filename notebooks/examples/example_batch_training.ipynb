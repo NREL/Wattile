{
 "cells": [
  {
   "cell_type": "code",
   "execution_count": 1,
   "metadata": {},
   "outputs": [
    {
     "name": "stdout",
     "output_type": "stream",
     "text": [
      "PROJECT_DIRECTORY = C:\\Users\\JKIM4\\Anaconda3\\envs\\wattile\\Lib\\site-packages\\wattile\n"
     ]
    }
   ],
   "source": [
    "import json\n",
    "import logging\n",
    "import os\n",
    "from pathlib import Path\n",
    "\n",
    "from wattile.buildings_processing import prep_for_rnn\n",
    "from wattile.data_reading import read_dataset_from_file\n",
    "from wattile.entry_point import init_logging\n",
    "from wattile.models import AlfaModel\n",
    "\n",
    "PROJECT_DIRECTORY = Path().resolve().parents[1]\n",
    "logger = logging.getLogger(str(os.getpid()))"
   ]
  },
  {
   "cell_type": "code",
   "execution_count": 2,
   "metadata": {},
   "outputs": [],
   "source": [
    "\"\"\"\n",
    "define parametric space\n",
    "\"\"\"\n",
    "parametric_space = {\n",
    "    1: {\n",
    "        \"building\": \"Synthetic Site\",\n",
    "        \"targets\": [\n",
    "            \"Synthetic Site Electricity Main Total Power\"\n",
    "            # add more targets if necessary\n",
    "        ],\n",
    "        \"dir_data\": \"tests/data/Synthetic Site\",\n",
    "    }\n",
    "    # add more entries if necessary\n",
    "}"
   ]
  },
  {
   "cell_type": "code",
   "execution_count": 3,
   "metadata": {},
   "outputs": [
    {
     "name": "stdout",
     "output_type": "stream",
     "text": [
      "Logging to: C:\\Users\\JKIM4\\Documents\\GitHub\\intelligentcampus-pred-analytics\\Synthetic Site\\Synthetic Site Electricity Main Total Power\\output.out, PID: 9264\n",
      "saving timeseries comparison in C:\\Users\\JKIM4\\Documents\\GitHub\\intelligentcampus-pred-analytics\\Synthetic Site\\Synthetic Site Electricity Main Total Power/Vis_TimeseriesComparisons.svg\n",
      "saving timeseries comparison in C:\\Users\\JKIM4\\Documents\\GitHub\\intelligentcampus-pred-analytics\\Synthetic Site\\Synthetic Site Electricity Main Total Power/Vis_TimeseriesComparisons.svg\n"
     ]
    }
   ],
   "source": [
    "\"\"\"\n",
    "run model training for the entire sample space\n",
    "\"\"\"\n",
    "for entry in parametric_space:\n",
    "\n",
    "    # set building name\n",
    "    building = parametric_space[entry][\"building\"]\n",
    "\n",
    "    # set data directory\n",
    "    data_dir = parametric_space[entry][\"dir_data\"]\n",
    "\n",
    "    for target in parametric_space[entry][\"targets\"]:\n",
    "\n",
    "        logger.info(\n",
    "            \"training for building = {} and target = {}\".format(building, target)\n",
    "        )\n",
    "\n",
    "        # read configs file for training\n",
    "        with open(\n",
    "            PROJECT_DIRECTORY / \"wattile\" / \"configs\" / \"configs.json\", \"r\"\n",
    "        ) as f:\n",
    "            configs = json.load(f)\n",
    "\n",
    "        # override configs params based on the sample space information\n",
    "        configs[\"data_input\"][\"data_dir\"] = str(PROJECT_DIRECTORY / data_dir)\n",
    "        configs[\"data_input\"][\"data_config\"] = \"{} Config.json\".format(building)\n",
    "        configs[\"data_input\"][\"target_var\"] = target\n",
    "        exp_dir = PROJECT_DIRECTORY / building / target\n",
    "        configs[\"data_output\"][\"exp_dir\"] = str(exp_dir)\n",
    "\n",
    "        # create results folder\n",
    "        init_logging(local_results_dir=configs[\"data_output\"][\"exp_dir\"])\n",
    "\n",
    "        # read data\n",
    "        data = read_dataset_from_file(configs)\n",
    "\n",
    "        # prepare data for training\n",
    "        train_df, val_df = prep_for_rnn(configs, data)\n",
    "\n",
    "        # train model\n",
    "        model = AlfaModel(configs)\n",
    "        results = model.main(train_df, val_df)\n",
    "\n",
    "        logger.info(\n",
    "            \"validating for building = {} and target = {}\".format(building, target)\n",
    "        )\n",
    "\n",
    "        # read configs file for validation\n",
    "        with open(exp_dir / \"configs.json\", \"r\") as f:\n",
    "            configs = json.load(f)\n",
    "\n",
    "        # reset config param for validation\n",
    "        configs[\"data_output\"][\"plot_comparison_portion_start\"] = 0.0\n",
    "        configs[\"data_output\"][\"plot_comparison_portion_end\"] = 1.0\n",
    "        configs[\"learning_algorithm\"][\"use_case\"] = \"validation\"\n",
    "\n",
    "        # prepare data for training\n",
    "        train_df, val_df = prep_for_rnn(configs, data)\n",
    "\n",
    "        # train model\n",
    "        model = AlfaModel(configs)\n",
    "        results = model.main(train_df, val_df)\n",
    "\n"
   ]
  },
  {
   "cell_type": "code",
   "execution_count": null,
   "metadata": {},
   "outputs": [],
   "source": []
  }
 ],
 "metadata": {
  "kernelspec": {
   "display_name": "wattile",
   "language": "python",
   "name": "wattile"
  },
  "language_info": {
   "codemirror_mode": {
    "name": "ipython",
    "version": 3
   },
   "file_extension": ".py",
   "mimetype": "text/x-python",
   "name": "python",
   "nbconvert_exporter": "python",
   "pygments_lexer": "ipython3",
   "version": "3.8.13"
  }
 },
 "nbformat": 4,
 "nbformat_minor": 4
}
