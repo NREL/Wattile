{
 "cells": [
  {
   "cell_type": "markdown",
   "metadata": {},
   "source": [
    "# Example Notebook"
   ]
  },
  {
   "cell_type": "code",
   "execution_count": null,
   "metadata": {},
   "outputs": [],
   "source": [
    "import json \n",
    "from pathlib import Path\n",
    "import shutil\n",
    "\n",
    "from wattile.entry_point import init_logging\n",
    "from wattile.data_reading import read_dataset_from_file\n",
    "from wattile.buildings_processing import prep_for_rnn\n",
    "from wattile.models import AlfaModel\n",
    "\n",
    "\n",
    "PROJECT_DIRECTORY = Path().resolve().parents[1]\n"
   ]
  },
  {
   "cell_type": "code",
   "execution_count": null,
   "metadata": {},
   "outputs": [],
   "source": [
    "\"\"\"\n",
    "For this example, we will be using the default configs.\n",
    "Check out the docs for an explaination of each config.\n",
    "\"\"\"\n",
    "with open(PROJECT_DIRECTORY / \"wattile\" / \"configs\" / \"configs.json\", \"r\") as f:\n",
    "    configs = json.load(f)\n",
    "\n",
    "exp_dir = PROJECT_DIRECTORY / \"notebooks\" / \"exp_dir\"\n",
    "if exp_dir.exists():\n",
    "    shutil.rmtree(exp_dir)\n",
    "exp_dir.mkdir()\n",
    "\n",
    "configs[\"data_output\"][\"exp_dir\"] = str(exp_dir)\n",
    "configs[\"data_input\"][\"data_dir\"] = str(PROJECT_DIRECTORY / \"tests\" / \"data\" / \"Synthetic Site\")\n",
    "\n",
    "configs"
   ]
  },
  {
   "cell_type": "code",
   "execution_count": null,
   "metadata": {},
   "outputs": [],
   "source": [
    "\"\"\"\n",
    "Firstly, we will read the raw data from the dataset. \n",
    "Checkout the docs for an indepth explaination of necessary dataset structure.\n",
    "\"\"\"\n",
    "data = read_dataset_from_file(configs)\n",
    "data\n"
   ]
  },
  {
   "cell_type": "code",
   "execution_count": null,
   "metadata": {},
   "outputs": [],
   "source": [
    "\"\"\"\n",
    "Next, we call `prep_for_rnn` do preform some data preprocessing.\n",
    "\"\"\"\n",
    "train_df, val_df = prep_for_rnn(configs, data)\n",
    "train_df"
   ]
  },
  {
   "cell_type": "code",
   "execution_count": null,
   "metadata": {},
   "outputs": [],
   "source": [
    "\"\"\"\n",
    "Finally, we are ready to train our model!\n",
    "\"\"\"\n",
    "init_logging(local_results_dir=configs[\"data_output\"][\"exp_dir\"])\n",
    "model = AlfaModel(configs)\n",
    "model.train(train_df, val_df)"
   ]
  },
  {
   "cell_type": "code",
   "execution_count": null,
   "metadata": {},
   "outputs": [],
   "source": [
    "f\"\"\"\n",
    "See {exp_dir} for the results.\n",
    "\"\"\""
   ]
  },
  {
   "cell_type": "code",
   "execution_count": null,
   "metadata": {},
   "outputs": [],
   "source": []
  }
 ],
 "metadata": {
  "kernelspec": {
   "display_name": "Python 3.10.0 64-bit ('3.10.0')",
   "language": "python",
   "name": "python3"
  },
  "language_info": {
   "codemirror_mode": {
    "name": "ipython",
    "version": 3
   },
   "file_extension": ".py",
   "mimetype": "text/x-python",
   "name": "python",
   "nbconvert_exporter": "python",
   "pygments_lexer": "ipython3",
   "version": "3.10.0"
  },
  "vscode": {
   "interpreter": {
    "hash": "050b4ce936b11791d7b8f3e010d2bda88e07dbd3a9996e3c82dc775bc9b4401b"
   }
  }
 },
 "nbformat": 4,
 "nbformat_minor": 5
}
