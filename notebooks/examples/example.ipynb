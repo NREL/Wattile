{
 "cells": [
  {
   "cell_type": "markdown",
   "id": "e642701b",
   "metadata": {},
   "source": [
    "# Example Notebook"
   ]
  },
  {
   "cell_type": "code",
   "execution_count": null,
   "id": "96b5a96e",
   "metadata": {},
   "outputs": [],
   "source": [
    "import json \n",
    "from pathlib import Path\n",
    "import shutil\n",
    "\n",
    "from wattile.entry_point import init_logging, create_input_dataframe, run_model\n",
    "from wattile.data_reading import read_dataset_from_file\n",
    "from wattile.buildings_processing import prep_for_rnn\n",
    "from wattile.entry_point import run_model\n",
    "\n",
    "\n",
    "PROJECT_DIRECTORY = Path().resolve().parents[1]\n"
   ]
  },
  {
   "cell_type": "code",
   "execution_count": null,
   "id": "60a9e470",
   "metadata": {},
   "outputs": [],
   "source": [
    "\"\"\"\n",
    "For this example, we will be using the default configs.\n",
    "Check out the docs for an explaination of each config.\n",
    "\"\"\"\n",
    "with open(PROJECT_DIRECTORY / \"wattile\" / \"configs\" / \"configs.json\", \"r\") as f:\n",
    "    configs = json.load(f)\n",
    "\n",
    "exp_dir = PROJECT_DIRECTORY / \"notebooks\" / \"exp_dir\"\n",
    "if exp_dir.exists():\n",
    "    shutil.rmtree(exp_dir)\n",
    "exp_dir.mkdir()\n",
    "\n",
    "configs[\"data_output\"][\"exp_dir\"] = str(exp_dir)\n",
    "configs[\"data_input\"][\"data_dir\"] = str(PROJECT_DIRECTORY / \"tests\" / \"data\" / \"Synthetic Site\")\n",
    "\n",
    "configs"
   ]
  },
  {
   "cell_type": "code",
   "execution_count": null,
   "id": "ab128b91",
   "metadata": {},
   "outputs": [],
   "source": [
    "\"\"\"\n",
    "Firstly, we will read the raw data from the dataset. \n",
    "Checkout the docs for an indepth explaination of necessary dataset structure.\n",
    "\"\"\"\n",
    "data, configs = read_dataset_from_file(configs)\n",
    "data\n"
   ]
  },
  {
   "cell_type": "code",
   "execution_count": null,
   "id": "cda76a61",
   "metadata": {},
   "outputs": [],
   "source": [
    "\"\"\"\n",
    "Next, we call `prep_for_rnn` do preform some data preprocessing.\n",
    "\"\"\"\n",
    "train_df, val_df = prep_for_rnn(configs, data)\n",
    "train_df"
   ]
  },
  {
   "cell_type": "code",
   "execution_count": null,
   "id": "252607e3",
   "metadata": {},
   "outputs": [],
   "source": [
    "\"\"\"\n",
    "Finally, we are ready to train our model!\n",
    "\"\"\"\n",
    "init_logging(local_results_dir=configs[\"data_output\"][\"exp_dir\"])\n",
    "run_model(configs, train_df, val_df)"
   ]
  },
  {
   "cell_type": "code",
   "execution_count": null,
   "id": "a5f08dc4",
   "metadata": {},
   "outputs": [],
   "source": [
    "f\"\"\"\n",
    "See {exp_dir} for the results.\n",
    "\"\"\""
   ]
  },
  {
   "cell_type": "code",
   "execution_count": null,
   "id": "34f5dc16",
   "metadata": {},
   "outputs": [],
   "source": []
  }
 ],
 "metadata": {
  "kernelspec": {
   "display_name": "Python 3.8.13 ('wattile')",
   "language": "python",
   "name": "python3"
  },
  "language_info": {
   "codemirror_mode": {
    "name": "ipython",
    "version": 3
   },
   "file_extension": ".py",
   "mimetype": "text/x-python",
   "name": "python",
   "nbconvert_exporter": "python",
   "pygments_lexer": "ipython3",
   "version": "3.8.13"
  },
  "vscode": {
   "interpreter": {
    "hash": "a3d7992f432f96ae3537a07130bf6bb89a3537aaffa9e8a50d9b84deed54720e"
   }
  }
 },
 "nbformat": 4,
 "nbformat_minor": 5
}
