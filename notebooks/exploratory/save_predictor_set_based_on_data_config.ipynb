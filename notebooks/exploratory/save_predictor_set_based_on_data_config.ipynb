{
 "cells": [
  {
   "cell_type": "code",
   "execution_count": 1,
   "metadata": {},
   "outputs": [
    {
     "name": "stdout",
     "output_type": "stream",
     "text": [
      "PROJECT_DIRECTORY = C:\\Users\\JKIM4\\Anaconda3\\envs\\wattile\\Lib\\site-packages\\wattile\n"
     ]
    }
   ],
   "source": [
    "import numpy as np\n",
    "import pandas as pd\n",
    "import random\n",
    "import time\n",
    "import math\n",
    "import os\n",
    "import matplotlib.pyplot as plt\n",
    "import torch\n",
    "import torch.nn as nn\n",
    "import torch.nn.functional as F\n",
    "import torch.optim as optim\n",
    "from torch.nn import init\n",
    "from dateutil import parser\n",
    "from pathlib import Path\n",
    "import json \n",
    "import shutil\n",
    "import logging\n",
    "logger = logging.getLogger(str(os.getpid()))\n",
    "\n",
    "from wattile.data_reading import read_dataset_from_file, _concat_data_from_files\n",
    "PROJECT_DIRECTORY = Path().resolve().parent.parent"
   ]
  },
  {
   "cell_type": "code",
   "execution_count": 2,
   "metadata": {},
   "outputs": [],
   "source": [
    "import copy"
   ]
  },
  {
   "cell_type": "markdown",
   "metadata": {},
   "source": [
    "# reading configs"
   ]
  },
  {
   "cell_type": "code",
   "execution_count": 3,
   "metadata": {},
   "outputs": [
    {
     "data": {
      "text/plain": [
       "{'data_input': {'data_dir': 'C:\\\\Users\\\\JKIM4\\\\Documents\\\\GitHub\\\\intelligentcampus-pred-analytics\\\\data\\\\Synthetic Site',\n",
       "  'data_config': 'Synthetic Site Config.json',\n",
       "  'start_time': '2018-01-01T00:00:00-07:00',\n",
       "  'end_time': '2022-01-01T00:00:00-07:00',\n",
       "  'predictor_columns': ['Synthetic Weather Station Dew Point Temperature',\n",
       "   'Synthetic Weather Station Diffuse Horizontal Irradiance',\n",
       "   'Synthetic Weather Station Direct Normal Irradiance',\n",
       "   'Synthetic Weather Station Dry Bulb Temperature',\n",
       "   'Synthetic Weather Station Global Horizontal Irradiance',\n",
       "   'Synthetic Weather Station Relative Humidity',\n",
       "   'Synthetic Weather Station Wind Speed'],\n",
       "  'target_var': 'Synthetic Site Electricity Main Total Power',\n",
       "  'exp_dir': 'C:\\\\Users\\\\JKIM4\\\\Documents\\\\GitHub\\\\intelligentcampus-pred-analytics\\\\notebooks\\\\exp_dir'},\n",
       " 'data_output': {'exp_dir': 'exp_dir',\n",
       "  'plot_comparison': True,\n",
       "  'plot_comparison_portion_start': 0.0,\n",
       "  'plot_comparison_portion_end': 1.0},\n",
       " 'data_processing': {'feat_time': {'month_of_year': ['sincos'],\n",
       "   'day_of_week': ['binary_reg', 'binary_fuzzy'],\n",
       "   'hour_of_day': ['sincos', 'binary_reg', 'binary_fuzzy'],\n",
       "   'holidays': False},\n",
       "  'resample': {'bin_interval': '15min',\n",
       "   'bin_closed': 'right',\n",
       "   'bin_label': 'right'},\n",
       "  'feat_stats': {'active': True, 'window_width': '15min'},\n",
       "  'feat_timelag': {'lag_interval': '15min', 'lag_count': 24},\n",
       "  'input_output_window': {'window_width_source': '180min',\n",
       "   'window_width_futurecast': '0min',\n",
       "   'window_width_target': '45min'},\n",
       "  'random_seed': 382,\n",
       "  'sequential_splicer': {'active': False, 'window_width': '1W'},\n",
       "  'data_split': '80:20:0',\n",
       "  'train_size_factor': 1},\n",
       " 'learning_algorithm': {'arch_type': 'RNN',\n",
       "  'arch_version': 'alfa',\n",
       "  'arch_type_variant': 'lstm',\n",
       "  'use_case': 'train',\n",
       "  'num_epochs': 100,\n",
       "  'hidden_size': 25,\n",
       "  'num_layers': 1,\n",
       "  'quantiles': [0.025, 0.05, 0.1, 0.25, 0.5, 0.75, 0.9, 0.95, 0.975],\n",
       "  'transformation_method': 'minmaxscale',\n",
       "  'train_batch_size': 26,\n",
       "  'val_batch_size': 1,\n",
       "  'run_resume': False,\n",
       "  'optimizer_config': {'weight_decay': 0.001,\n",
       "   'base': 0.001,\n",
       "   'schedule': False,\n",
       "   'type': 'performance',\n",
       "   'factor': 0.1,\n",
       "   'min': 1e-05,\n",
       "   'patience': 30,\n",
       "   'step_size': 75},\n",
       "  'smoothing_alpha': 0.001,\n",
       "  'eval_frequency': 500,\n",
       "  'test_method': 'external'}}"
      ]
     },
     "execution_count": 3,
     "metadata": {},
     "output_type": "execute_result"
    }
   ],
   "source": [
    "\"\"\"\n",
    "For this example, we will be using the default configs.\n",
    "Check out the docs for an explaination of each config.\n",
    "\"\"\"\n",
    "##################################################################################\n",
    "# choose the configs file to use as an input\n",
    "##################################################################################\n",
    "# main configs file\n",
    "with open(PROJECT_DIRECTORY / \"wattile\" / \"configs\" / \"configs.json\", \"r\") as f:\n",
    "    configs = json.load(f)\n",
    "##################################################################################\n",
    "# code testing configs file\n",
    "# with open(PROJECT_DIRECTORY / \"tests\" / \"fixtures\" / \"test_configs.json\", \"r\") as f:\n",
    "#     configs = json.load(f)\n",
    "##################################################################################\n",
    "\n",
    "exp_dir = PROJECT_DIRECTORY / \"notebooks\" / \"exp_dir\"\n",
    "if exp_dir.exists():\n",
    "    shutil.rmtree(exp_dir)\n",
    "exp_dir.mkdir()\n",
    "\n",
    "configs[\"data_input\"][\"exp_dir\"] = str(PROJECT_DIRECTORY / exp_dir)\n",
    "configs[\"data_input\"][\"data_dir\"] = str(PROJECT_DIRECTORY / \"data\" / \"Synthetic Site\")\n",
    "\n",
    "configs"
   ]
  },
  {
   "cell_type": "code",
   "execution_count": 4,
   "metadata": {},
   "outputs": [],
   "source": [
    "def _get_dataset_config(configs):\n",
    "    \"\"\"Get dataset config as dataframe\n",
    "\n",
    "    :param configs: configs\n",
    "    :type configs: dict\n",
    "    :return: dataset config\n",
    "    :rtype: pd.DataFrame\n",
    "    \"\"\"\n",
    "    dataset_dir = Path(configs[\"data_input\"][\"data_dir\"])\n",
    "    configs_file_inputdata = dataset_dir / configs[\"data_input\"][\"data_config\"]\n",
    "\n",
    "    logger.info(\n",
    "        \"Pre-process: reading input data summary json file from {}\".format(\n",
    "            configs_file_inputdata\n",
    "        )\n",
    "    )\n",
    "\n",
    "    with open(configs_file_inputdata, \"r\") as read_file:\n",
    "        configs_input = json.load(read_file)\n",
    "        df_inputdata = pd.DataFrame(configs_input[\"files\"])\n",
    "\n",
    "    # converting date time column into pandas datetime (raw format based on ISO 8601)\n",
    "    df_inputdata[\"start\"] = pd.to_datetime(\n",
    "        df_inputdata.start, format=\"t:%Y-%m-%dT%H:%M:%S%z\", exact=False, utc=True\n",
    "    )\n",
    "    df_inputdata[\"end\"] = pd.to_datetime(\n",
    "        df_inputdata.end, format=\"t:%Y-%m-%dT%H:%M:%S%z\", exact=False, utc=True\n",
    "    )\n",
    "\n",
    "    df_inputdata[\"path\"] = str(dataset_dir) + \"/\" + df_inputdata[\"filename\"]\n",
    "\n",
    "    return df_inputdata, configs_input"
   ]
  },
  {
   "cell_type": "markdown",
   "metadata": {},
   "source": [
    "# reading final selected predictors"
   ]
  },
  {
   "cell_type": "code",
   "execution_count": 5,
   "metadata": {},
   "outputs": [
    {
     "data": {
      "text/plain": [
       "{'dates': {'start': 't:2021-12-01T00:00:00-07:00 Denver',\n",
       "  'end': 't:2021-12-08T00:00:00-07:00 Denver'},\n",
       " 'predictors': [{'site': 'Synthetic Site',\n",
       "   'column': 'Synthetic Weather Station Dew Point Temperature',\n",
       "   'id': 'r:278f8943-6a199bd7 Synthetic Weather Station Dew Point Temperature',\n",
       "   'description': 'Synthetic Weather Station Dew Point Temperature',\n",
       "   'unit': 'Â°F',\n",
       "   'pv': False},\n",
       "  {'site': 'Synthetic Site',\n",
       "   'column': 'Synthetic Weather Station Diffuse Horizontal Irradiance',\n",
       "   'id': 'r:278f79c0-03da5abc Synthetic Weather Station Diffuse Horizontal Irradiance',\n",
       "   'description': 'Synthetic Weather Station Diffuse Horizontal Irradiance',\n",
       "   'unit': 'W/mÂ²_irr',\n",
       "   'pv': False},\n",
       "  {'site': 'Synthetic Site',\n",
       "   'column': 'Synthetic Weather Station Direct Normal Irradiance',\n",
       "   'id': 'r:278f79c0-4fe536b4 Synthetic Weather Station Direct Normal Irradiance',\n",
       "   'description': 'Synthetic Weather Station Direct Normal Irradiance',\n",
       "   'unit': 'W/mÂ²_irr',\n",
       "   'pv': False},\n",
       "  {'site': 'Synthetic Site',\n",
       "   'column': 'Synthetic Weather Station Dry Bulb Temperature',\n",
       "   'id': 'r:278f79c0-8a8f26b0 Synthetic Weather Station Dry Bulb Temperature',\n",
       "   'description': 'Synthetic Weather Station Dry Bulb Temperature',\n",
       "   'unit': 'Â°F',\n",
       "   'pv': False},\n",
       "  {'site': 'Synthetic Site',\n",
       "   'column': 'Synthetic Weather Station Global Horizontal Irradiance',\n",
       "   'id': 'r:278f79c0-8d722bdb Synthetic Weather Station Global Horizontal Irradiance',\n",
       "   'description': 'Synthetic Weather Station Global Horizontal Irradiance',\n",
       "   'unit': 'W/mÂ²_irr',\n",
       "   'pv': False},\n",
       "  {'site': 'Synthetic Site',\n",
       "   'column': 'Synthetic Weather Station Relative Humidity',\n",
       "   'id': 'r:278f79c0-e7db4305 Synthetic Weather Station Relative Humidity',\n",
       "   'description': 'Synthetic Weather Station Relative Humidity',\n",
       "   'unit': '%RH',\n",
       "   'pv': False},\n",
       "  {'site': 'Synthetic Site',\n",
       "   'column': 'Synthetic Weather Station Wind Speed',\n",
       "   'id': 'r:278f79c0-c1f48e5c Synthetic Weather Station Wind Speed',\n",
       "   'description': 'Synthetic Weather Station Wind Speed',\n",
       "   'unit': 'mph',\n",
       "   'pv': False}],\n",
       " 'targets': [{'site': 'Synthetic Site',\n",
       "   'column': 'Synthetic Site Electricity Main Total Power',\n",
       "   'id': 'r:294fd256-a17bb5c7 Synthetic Site Electricity Main Total Power',\n",
       "   'description': 'Synthetic Site Electricity Main Total Power',\n",
       "   'unit': 'kW',\n",
       "   'pv': False}],\n",
       " 'files': [{'filename': 'Synthetic Site Targets 2021-12-01.csv',\n",
       "   'contentType': 'targets',\n",
       "   'start': 't:2021-12-01T00:00:00-07:00 Denver',\n",
       "   'end': 't:2021-12-02T00:00:00-07:00 Denver'},\n",
       "  {'filename': 'Synthetic Site Targets 2021-12-02.csv',\n",
       "   'contentType': 'targets',\n",
       "   'start': 't:2021-12-02T00:00:00-07:00 Denver',\n",
       "   'end': 't:2021-12-03T00:00:00-07:00 Denver'},\n",
       "  {'filename': 'Synthetic Site Targets 2021-12-03.csv',\n",
       "   'contentType': 'targets',\n",
       "   'start': 't:2021-12-03T00:00:00-07:00 Denver',\n",
       "   'end': 't:2021-12-04T00:00:00-07:00 Denver'},\n",
       "  {'filename': 'Synthetic Site Targets 2021-12-04.csv',\n",
       "   'contentType': 'targets',\n",
       "   'start': 't:2021-12-04T00:00:00-07:00 Denver',\n",
       "   'end': 't:2021-12-05T00:00:00-07:00 Denver'},\n",
       "  {'filename': 'Synthetic Site Targets 2021-12-05.csv',\n",
       "   'contentType': 'targets',\n",
       "   'start': 't:2021-12-05T00:00:00-07:00 Denver',\n",
       "   'end': 't:2021-12-06T00:00:00-07:00 Denver'},\n",
       "  {'filename': 'Synthetic Site Targets 2021-12-06.csv',\n",
       "   'contentType': 'targets',\n",
       "   'start': 't:2021-12-06T00:00:00-07:00 Denver',\n",
       "   'end': 't:2021-12-07T00:00:00-07:00 Denver'},\n",
       "  {'filename': 'Synthetic Site Targets 2021-12-07.csv',\n",
       "   'contentType': 'targets',\n",
       "   'start': 't:2021-12-07T00:00:00-07:00 Denver',\n",
       "   'end': 't:2021-12-08T00:00:00-07:00 Denver'},\n",
       "  {'filename': 'Synthetic Site Predictors 2021-12-01.csv',\n",
       "   'contentType': 'predictors',\n",
       "   'start': 't:2021-12-01T00:00:00-07:00 Denver',\n",
       "   'end': 't:2021-12-02T00:00:00-07:00 Denver'},\n",
       "  {'filename': 'Synthetic Site Predictors 2021-12-02.csv',\n",
       "   'contentType': 'predictors',\n",
       "   'start': 't:2021-12-02T00:00:00-07:00 Denver',\n",
       "   'end': 't:2021-12-03T00:00:00-07:00 Denver'},\n",
       "  {'filename': 'Synthetic Site Predictors 2021-12-03.csv',\n",
       "   'contentType': 'predictors',\n",
       "   'start': 't:2021-12-03T00:00:00-07:00 Denver',\n",
       "   'end': 't:2021-12-04T00:00:00-07:00 Denver'},\n",
       "  {'filename': 'Synthetic Site Predictors 2021-12-04.csv',\n",
       "   'contentType': 'predictors',\n",
       "   'start': 't:2021-12-04T00:00:00-07:00 Denver',\n",
       "   'end': 't:2021-12-05T00:00:00-07:00 Denver'},\n",
       "  {'filename': 'Synthetic Site Predictors 2021-12-05.csv',\n",
       "   'contentType': 'predictors',\n",
       "   'start': 't:2021-12-05T00:00:00-07:00 Denver',\n",
       "   'end': 't:2021-12-06T00:00:00-07:00 Denver'},\n",
       "  {'filename': 'Synthetic Site Predictors 2021-12-06.csv',\n",
       "   'contentType': 'predictors',\n",
       "   'start': 't:2021-12-06T00:00:00-07:00 Denver',\n",
       "   'end': 't:2021-12-07T00:00:00-07:00 Denver'},\n",
       "  {'filename': 'Synthetic Site Predictors 2021-12-07.csv',\n",
       "   'contentType': 'predictors',\n",
       "   'start': 't:2021-12-07T00:00:00-07:00 Denver',\n",
       "   'end': 't:2021-12-08T00:00:00-07:00 Denver'}],\n",
       " 'export_options': {'path': 'u:io/Training/',\n",
       "  'predictorFilter': '(air and temp) or (dewPoint and temp) or humidity or ((global or direct or diffuse) and irradiance) or (wind and speed)',\n",
       "  'format': 'CSV',\n",
       "  'interval': 'n:1 min',\n",
       "  'splitBy': 'day'}}"
      ]
     },
     "execution_count": 5,
     "metadata": {},
     "output_type": "execute_result"
    }
   ],
   "source": [
    "df_inputdata, configs_input = _get_dataset_config(configs)\n",
    "configs_input"
   ]
  },
  {
   "cell_type": "code",
   "execution_count": 6,
   "metadata": {},
   "outputs": [
    {
     "data": {
      "text/plain": [
       "[{'site': 'Synthetic Site',\n",
       "  'column': 'Synthetic Weather Station Dew Point Temperature',\n",
       "  'id': 'r:278f8943-6a199bd7 Synthetic Weather Station Dew Point Temperature',\n",
       "  'description': 'Synthetic Weather Station Dew Point Temperature',\n",
       "  'unit': 'Â°F',\n",
       "  'pv': False},\n",
       " {'site': 'Synthetic Site',\n",
       "  'column': 'Synthetic Weather Station Diffuse Horizontal Irradiance',\n",
       "  'id': 'r:278f79c0-03da5abc Synthetic Weather Station Diffuse Horizontal Irradiance',\n",
       "  'description': 'Synthetic Weather Station Diffuse Horizontal Irradiance',\n",
       "  'unit': 'W/mÂ²_irr',\n",
       "  'pv': False},\n",
       " {'site': 'Synthetic Site',\n",
       "  'column': 'Synthetic Weather Station Direct Normal Irradiance',\n",
       "  'id': 'r:278f79c0-4fe536b4 Synthetic Weather Station Direct Normal Irradiance',\n",
       "  'description': 'Synthetic Weather Station Direct Normal Irradiance',\n",
       "  'unit': 'W/mÂ²_irr',\n",
       "  'pv': False},\n",
       " {'site': 'Synthetic Site',\n",
       "  'column': 'Synthetic Weather Station Dry Bulb Temperature',\n",
       "  'id': 'r:278f79c0-8a8f26b0 Synthetic Weather Station Dry Bulb Temperature',\n",
       "  'description': 'Synthetic Weather Station Dry Bulb Temperature',\n",
       "  'unit': 'Â°F',\n",
       "  'pv': False},\n",
       " {'site': 'Synthetic Site',\n",
       "  'column': 'Synthetic Weather Station Global Horizontal Irradiance',\n",
       "  'id': 'r:278f79c0-8d722bdb Synthetic Weather Station Global Horizontal Irradiance',\n",
       "  'description': 'Synthetic Weather Station Global Horizontal Irradiance',\n",
       "  'unit': 'W/mÂ²_irr',\n",
       "  'pv': False},\n",
       " {'site': 'Synthetic Site',\n",
       "  'column': 'Synthetic Weather Station Relative Humidity',\n",
       "  'id': 'r:278f79c0-e7db4305 Synthetic Weather Station Relative Humidity',\n",
       "  'description': 'Synthetic Weather Station Relative Humidity',\n",
       "  'unit': '%RH',\n",
       "  'pv': False},\n",
       " {'site': 'Synthetic Site',\n",
       "  'column': 'Synthetic Weather Station Wind Speed',\n",
       "  'id': 'r:278f79c0-c1f48e5c Synthetic Weather Station Wind Speed',\n",
       "  'description': 'Synthetic Weather Station Wind Speed',\n",
       "  'unit': 'mph',\n",
       "  'pv': False}]"
      ]
     },
     "execution_count": 6,
     "metadata": {},
     "output_type": "execute_result"
    }
   ],
   "source": [
    "configs_input[\"predictors\"]"
   ]
  },
  {
   "cell_type": "code",
   "execution_count": 7,
   "metadata": {},
   "outputs": [],
   "source": [
    "list_ref = [\"Synthetic Weather Station Diffuse Horizontal Irradiance\",\"Synthetic Weather Station Relative Humidity\"]"
   ]
  },
  {
   "cell_type": "code",
   "execution_count": 8,
   "metadata": {},
   "outputs": [
    {
     "data": {
      "text/plain": [
       "{'column': [{'site': 'Synthetic Site',\n",
       "   'column': 'Synthetic Weather Station Diffuse Horizontal Irradiance',\n",
       "   'id': 'r:278f79c0-03da5abc Synthetic Weather Station Diffuse Horizontal Irradiance',\n",
       "   'description': 'Synthetic Weather Station Diffuse Horizontal Irradiance',\n",
       "   'unit': 'W/mÂ²_irr',\n",
       "   'pv': False},\n",
       "  {'site': 'Synthetic Site',\n",
       "   'column': 'Synthetic Weather Station Relative Humidity',\n",
       "   'id': 'r:278f79c0-e7db4305 Synthetic Weather Station Relative Humidity',\n",
       "   'description': 'Synthetic Weather Station Relative Humidity',\n",
       "   'unit': '%RH',\n",
       "   'pv': False}]}"
      ]
     },
     "execution_count": 8,
     "metadata": {},
     "output_type": "execute_result"
    }
   ],
   "source": [
    "# create list of final predictors with the same format in data_config\n",
    "predictor_final_temp = []\n",
    "for entry in configs_input[\"predictors\"]:\n",
    "    if entry[\"column\"] in list_ref:\n",
    "        predictor_final_temp.append(entry)\n",
    "predictor_final = {}\n",
    "predictor_final[\"column\"] = predictor_final_temp\n",
    "predictor_final"
   ]
  },
  {
   "cell_type": "code",
   "execution_count": 9,
   "metadata": {},
   "outputs": [],
   "source": [
    "# # create list of final predictors with the same format in data_config\n",
    "# predictor_final = {}\n",
    "# predictor_final[\"column\"] = []\n",
    "# for entry in configs_input[\"predictors\"]:\n",
    "#     if entry[\"column\"] in list_ref:\n",
    "#         if entry[\"column\"] not in predictor_final[\"column\"]:\n",
    "#             predictor_final[\"column\"].append(entry)\n",
    "# predictor_final"
   ]
  },
  {
   "cell_type": "code",
   "execution_count": 10,
   "metadata": {},
   "outputs": [],
   "source": [
    "# # create separate json file including final predictors\n",
    "# file_prefix = Path(configs[\"data_output\"][\"exp_dir\"])\n",
    "# path = os.path.join(file_prefix, \"predictors config.json\")\n",
    "# with open(path, \"w\") as fp:\n",
    "#     json.dump(predictor_final, fp, indent=1)"
   ]
  },
  {
   "cell_type": "code",
   "execution_count": null,
   "metadata": {},
   "outputs": [],
   "source": []
  }
 ],
 "metadata": {
  "kernelspec": {
   "display_name": "wattile",
   "language": "python",
   "name": "wattile"
  },
  "language_info": {
   "codemirror_mode": {
    "name": "ipython",
    "version": 3
   },
   "file_extension": ".py",
   "mimetype": "text/x-python",
   "name": "python",
   "nbconvert_exporter": "python",
   "pygments_lexer": "ipython3",
   "version": "3.8.13"
  }
 },
 "nbformat": 4,
 "nbformat_minor": 4
}
