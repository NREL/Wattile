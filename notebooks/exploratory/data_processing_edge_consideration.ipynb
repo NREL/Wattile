{
 "cells": [
  {
   "cell_type": "code",
   "execution_count": null,
   "metadata": {},
   "outputs": [],
   "source": [
    "import numpy as np\n",
    "import pandas as pd\n",
    "import pathlib\n",
    "import random\n",
    "import time\n",
    "import math\n",
    "import os\n",
    "import matplotlib.pyplot as plt\n",
    "import torch\n",
    "import torch.nn as nn\n",
    "import torch.nn.functional as F\n",
    "import torch.optim as optim\n",
    "from torch.nn import init\n",
    "from dateutil import parser\n",
    "from pathlib import Path\n",
    "import json \n",
    "import shutil\n",
    "import logging\n",
    "logger = logging.getLogger(str(os.getpid()))\n",
    "\n",
    "from wattile.data_reading import read_dataset_from_file\n",
    "from wattile.buildings_processing import correct_predictor_columns, correct_timestamps, resample_or_rolling_stats, timelag_predictors, timelag_predictors_target, roll_predictors_target, input_data_split\n",
    "from wattile.time_processing import add_processed_time_columns\n",
    "from wattile.models import ModelFactory\n",
    "from wattile.entry_point import init_logging, create_input_dataframe, run_model\n",
    "PROJECT_DIRECTORY = Path().resolve().parent.parent"
   ]
  },
  {
   "cell_type": "markdown",
   "metadata": {},
   "source": [
    "# reading configs"
   ]
  },
  {
   "cell_type": "code",
   "execution_count": null,
   "metadata": {},
   "outputs": [],
   "source": [
    "\"\"\"\n",
    "For this example, we will be using the default configs.\n",
    "Check out the docs for an explaination of each config.\n",
    "\"\"\"\n",
    "##################################################################################\n",
    "# choose the configs file to use as an input\n",
    "##################################################################################\n",
    "# main configs file\n",
    "with open(PROJECT_DIRECTORY / \"wattile\" / \"configs\" / \"configs.json\", \"r\") as f:\n",
    "    configs = json.load(f)\n",
    "##################################################################################\n",
    "# code testing configs file\n",
    "# with open(PROJECT_DIRECTORY / \"tests\" / \"fixtures\" / \"test_configs.json\", \"r\") as f:\n",
    "#     configs = json.load(f)\n",
    "##################################################################################\n",
    "\n",
    "exp_dir = PROJECT_DIRECTORY / \"notebooks\" / \"exp_dir\"\n",
    "if exp_dir.exists():\n",
    "    shutil.rmtree(exp_dir)\n",
    "exp_dir.mkdir()\n",
    "\n",
    "configs[\"data_input\"][\"exp_dir\"] = str(PROJECT_DIRECTORY / exp_dir)\n",
    "configs[\"data_input\"][\"data_dir\"] = str(PROJECT_DIRECTORY / \"tests\" / \"data\" / \"Synthetic Site\")\n",
    "\n",
    "configs"
   ]
  },
  {
   "cell_type": "code",
   "execution_count": null,
   "metadata": {},
   "outputs": [],
   "source": [
    "configs[\"data_processing\"][\"feat_stats\"][\"active\"] = True\n",
    "configs[\"data_processing\"][\"feat_stats\"][\"window_width\"] = \"5min\"\n",
    "configs[\"data_processing\"][\"resample\"][\"bin_interval\"] = \"1min\"\n",
    "configs[\"data_processing\"][\"resample\"][\"bin_closed\"] = \"right\"\n",
    "configs[\"data_processing\"][\"resample\"][\"bin_label\"] = \"right\""
   ]
  },
  {
   "cell_type": "markdown",
   "metadata": {},
   "source": [
    "### read data"
   ]
  },
  {
   "cell_type": "code",
   "execution_count": null,
   "metadata": {},
   "outputs": [],
   "source": [
    "filepath = str(PROJECT_DIRECTORY / \"tests/fixtures/rolling_stats_input_w_target.csv\")\n",
    "\n",
    "data = pd.read_csv(filepath, index_col=0)\n",
    "data.index = pd.to_datetime(data.index)\n",
    "\n",
    "data_raw = data.copy()\n",
    "data_raw = data_raw.add_suffix(\"_raw\")\n",
    "\n",
    "data_raw"
   ]
  },
  {
   "cell_type": "markdown",
   "metadata": {},
   "source": [
    "### process data"
   ]
  },
  {
   "cell_type": "code",
   "execution_count": null,
   "metadata": {},
   "outputs": [],
   "source": [
    "# # assert we have the correct columns and order them\n",
    "# data = correct_predictor_columns(configs, data)\n",
    "\n",
    "# # sort and trim data specified time period\n",
    "# data = correct_timestamps(configs, data)\n",
    "\n",
    "# # Add time-based features\n",
    "# data = add_processed_time_columns(data, configs)\n",
    "\n",
    "# Add statistics features\n",
    "data = resample_or_rolling_stats(data, configs)\n",
    "\n",
    "data"
   ]
  },
  {
   "cell_type": "markdown",
   "metadata": {},
   "source": [
    "### plot data"
   ]
  },
  {
   "cell_type": "code",
   "execution_count": null,
   "metadata": {},
   "outputs": [],
   "source": [
    "import plotly.graph_objects as go\n",
    "from plotly.colors import n_colors\n",
    "from plotly.validators.scatter.marker import SymbolValidator"
   ]
  },
  {
   "cell_type": "code",
   "execution_count": null,
   "metadata": {
    "scrolled": false
   },
   "outputs": [],
   "source": [
    "##########################################################################################\n",
    "list_color = n_colors(\"rgb(237,198,17)\", \"rgb(105,122,130)\", data_raw.shape[1], colortype=\"rgb\")\n",
    "\n",
    "dict_color = {}\n",
    "for count, label in enumerate(data_raw.columns):\n",
    "    label_revised = label.split(\"_raw\")[0]\n",
    "    dict_color[label_revised] = list_color[count]\n",
    "\n",
    "##########################################################################################\n",
    "raw_symbols = SymbolValidator().values\n",
    "symbols = []\n",
    "for i in range(0,len(raw_symbols),3):\n",
    "    name = raw_symbols[i+2]\n",
    "    symbols.append(name)\n",
    "\n",
    "##########################################################################################\n",
    "fig = go.Figure()\n",
    "\n",
    "##########################################################################################\n",
    "i_col = 0\n",
    "dict_symbol = {}\n",
    "for col in data_raw.columns:\n",
    "    \n",
    "    fig.add_trace(go.Scatter(\n",
    "        x=data_raw.index,\n",
    "        y=data_raw[col],\n",
    "        name=col,\n",
    "        mode=\"markers\",\n",
    "        marker=dict(\n",
    "            symbol=symbols[i_col*4+2],\n",
    "            size=12,\n",
    "            line=dict(\n",
    "                width=2,\n",
    "            ),\n",
    "            color=list_color[i_col],\n",
    "        ),\n",
    "    ))\n",
    "    \n",
    "    label_revised = col.split(\"_raw\")[0]\n",
    "    dict_symbol[label_revised] = symbols[i_col*4+2]\n",
    "    \n",
    "    i_col+=1\n",
    "\n",
    "##########################################################################################\n",
    "for col in data.columns:\n",
    "    \n",
    "    for label in dict_color.keys():\n",
    "        if label in col:\n",
    "            color_line = dict_color[label]\n",
    "                        \n",
    "    for label in dict_symbol.keys():\n",
    "        if label in col:\n",
    "            symbol_line = dict_symbol[label]\n",
    "            break\n",
    "        else:\n",
    "            symbol_line = \"circle\"\n",
    "    \n",
    "    fig.add_trace(go.Scatter(\n",
    "        x=data.index,\n",
    "        y=data[col],\n",
    "        name=col,\n",
    "        mode=\"markers+lines\",\n",
    "        line=dict(\n",
    "            width=1,\n",
    "            color=color_line,\n",
    "        ),\n",
    "        marker=dict(\n",
    "            symbol=symbol_line,\n",
    "            size=8,\n",
    "#             line=dict(\n",
    "#                 width=2,\n",
    "#             ),\n",
    "        ),\n",
    "    ))\n",
    "\n",
    "##########################################################################################\n",
    "fig.update_layout(\n",
    "    width=800,\n",
    "    height=500,\n",
    "    margin=dict(\n",
    "        l=0,\n",
    "        r=0,\n",
    "        t=0,\n",
    "        b=150,\n",
    "    ),\n",
    "    legend=dict(\n",
    "        orientation=\"h\",\n",
    "        yanchor=\"top\",\n",
    "        y=-0.15,\n",
    "        xanchor=\"center\",\n",
    "        x=0.5,\n",
    "        font=dict(\n",
    "            size=10,\n",
    "            color=\"black\",\n",
    "        ),\n",
    "    )\n",
    ")\n",
    "\n",
    "##########################################################################################\n",
    "fig.update_xaxes(\n",
    "    dtick=1000*60,\n",
    "    showgrid=True,\n",
    "    gridwidth=2, \n",
    ")\n",
    "\n",
    "##########################################################################################\n",
    "fig.show()"
   ]
  },
  {
   "cell_type": "code",
   "execution_count": null,
   "metadata": {},
   "outputs": [],
   "source": []
  }
 ],
 "metadata": {
  "kernelspec": {
   "display_name": "wattile",
   "language": "python",
   "name": "wattile"
  },
  "language_info": {
   "codemirror_mode": {
    "name": "ipython",
    "version": 3
   },
   "file_extension": ".py",
   "mimetype": "text/x-python",
   "name": "python",
   "nbconvert_exporter": "python",
   "pygments_lexer": "ipython3",
   "version": "3.8.13"
  }
 },
 "nbformat": 4,
 "nbformat_minor": 4
}
