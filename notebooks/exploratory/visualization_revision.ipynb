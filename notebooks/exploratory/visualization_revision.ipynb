{
 "cells": [
  {
   "cell_type": "code",
   "execution_count": 1,
   "metadata": {},
   "outputs": [],
   "source": [
    "import pandas as pd\n",
    "import plotly.graph_objects as go\n",
    "import plotly.io as pio\n",
    "from plotly.colors import n_colors\n",
    "from plotly.subplots import make_subplots"
   ]
  },
  {
   "cell_type": "code",
   "execution_count": 2,
   "metadata": {},
   "outputs": [],
   "source": [
    "import json \n",
    "from pathlib import Path\n",
    "import shutil\n",
    "PROJECT_DIRECTORY = Path().resolve().parent.parent"
   ]
  },
  {
   "cell_type": "code",
   "execution_count": 3,
   "metadata": {},
   "outputs": [
    {
     "data": {
      "text/plain": [
       "{'target_var': 'Synthetic Site Electricity Main Total Power',\n",
       " 'start_time': '2018-01-01T00:00:00-07:00',\n",
       " 'end_time': '2022-01-01T00:00:00-07:00',\n",
       " 'predictor_columns': ['Synthetic Weather Station Dew Point Temperature',\n",
       "  'Synthetic Weather Station Diffuse Horizontal Irradiance',\n",
       "  'Synthetic Weather Station Direct Normal Irradiance',\n",
       "  'Synthetic Weather Station Dry Bulb Temperature',\n",
       "  'Synthetic Weather Station Global Horizontal Irradiance',\n",
       "  'Synthetic Weather Station Relative Humidity',\n",
       "  'Synthetic Weather Station Wind Speed'],\n",
       " 'arch_version': 'charlie',\n",
       " 'exp_id': '7-9-21',\n",
       " 'arch_type': 'RNN',\n",
       " 'arch_type_variant': 'lstm',\n",
       " 'transformation_method': 'minmaxscale',\n",
       " 'train_batch_size': 26,\n",
       " 'val_batch_size': 1,\n",
       " 'convert_csvs': False,\n",
       " 'exp_dir': 'C:\\\\Users\\\\JKIM4\\\\Documents\\\\GitHub\\\\intelligentcampus-pred-analytics\\\\notebooks\\\\exp_dir',\n",
       " 'data_dir': 'C:\\\\Users\\\\JKIM4\\\\Documents\\\\GitHub\\\\intelligentcampus-pred-analytics\\\\data\\\\Synthetic Site',\n",
       " 'data_config': 'Synthetic Site Config.json',\n",
       " 'resample_freq': 15,\n",
       " 'resample_interval': '15min',\n",
       " 'sequential_splicer': {'active': False, 'window_width': '1W'},\n",
       " 'feat_time': {'month_of_year': ['sincos'],\n",
       "  'day_of_week': ['binary_reg', 'binary_fuzzy'],\n",
       "  'hour_of_day': ['sincos', 'binary_reg', 'binary_fuzzy'],\n",
       "  'holidays': False},\n",
       " 'feat_stats': {'active': True, 'window_width': '15min'},\n",
       " 'feat_timelag': {'lag_interval': '15min',\n",
       "  'lag_count': 24,\n",
       "  'lag_interval_forecast': '0min'},\n",
       " 'S2S_window': {'window_width_source': '180min',\n",
       "  'window_width_target': '45min',\n",
       "  'normalization': False},\n",
       " 'S2S_learning': {'cell_type': 'lstm',\n",
       "  'attention_model': 'BA',\n",
       "  'la_method': 'none',\n",
       "  'batch_size': 256,\n",
       "  'hidden_size': 64,\n",
       "  'cuda': False,\n",
       "  'save_model': False},\n",
       " 'S2S_stagger': {'initial_num': 72, 'decay': 0, 'secondary_num': 0},\n",
       " 'train_size_factor': 1,\n",
       " 'train_val_split': 'Random',\n",
       " 'data_split': '80:20:0',\n",
       " 'random_seed': 382,\n",
       " 'qs': [0.025, 0.05, 0.1, 0.25, 0.5, 0.75, 0.9, 0.95, 0.975],\n",
       " 'use_case': 'train',\n",
       " 'run_resume': False,\n",
       " 'num_epochs': 100,\n",
       " 'weight_decay': 0.001,\n",
       " 'hidden_nodes': 25,\n",
       " 'layer_dim': 1,\n",
       " 'eval_frequency': 500,\n",
       " 'lr_config': {'base': 0.001,\n",
       "  'schedule': False,\n",
       "  'type': 'performance',\n",
       "  'factor': 0.1,\n",
       "  'min': 1e-05,\n",
       "  'patience': 30,\n",
       "  'step_size': 75},\n",
       " 'smoothing_alpha': 0.001,\n",
       " 'test_method': 'external',\n",
       " 'external_test': {'year': '2020', 'month': [1, 2, 3, 4, 5, 6]},\n",
       " 'trained_model_path': './EnergyForecasting_Results/RNN_MSyntheticSiteElectricityMainTotalPower_T7-9-21',\n",
       " 'plot_comparison': True,\n",
       " 'plot_comparison_portion_start': 0.0,\n",
       " 'plot_comparison_portion_end': 1.0}"
      ]
     },
     "execution_count": 3,
     "metadata": {},
     "output_type": "execute_result"
    }
   ],
   "source": [
    "\"\"\"\n",
    "For this example, we will be using the default configs.\n",
    "Check out the docs for an explaination of each config.\n",
    "\"\"\"\n",
    "##################################################################################\n",
    "# choose the configs file to use as an input\n",
    "##################################################################################\n",
    "# main configs file\n",
    "with open(PROJECT_DIRECTORY / \"wattile\" / \"configs\" / \"configs.json\", \"r\") as f:\n",
    "    configs = json.load(f)\n",
    "##################################################################################\n",
    "# code testing configs file\n",
    "# with open(PROJECT_DIRECTORY / \"tests\" / \"fixtures\" / \"test_configs.json\", \"r\") as f:\n",
    "#     configs = json.load(f)\n",
    "##################################################################################\n",
    "\n",
    "configs[\"exp_dir\"] = str(PROJECT_DIRECTORY / \"notebooks\" / \"exp_dir\")\n",
    "configs[\"data_dir\"] = str(PROJECT_DIRECTORY / \"data\" / \"Synthetic Site\")\n",
    "\n",
    "configs"
   ]
  },
  {
   "cell_type": "code",
   "execution_count": 4,
   "metadata": {},
   "outputs": [],
   "source": [
    "#################################################\n",
    "# Common settings for graphics\n",
    "#################################################\n",
    "font_family = \"Raleway, PT Sans Narrow, Overpass, Arial\"\n",
    "width_graphic = 1500\n",
    "color_base = \"rgb(236,200,178)\"\n",
    "color_accent = \"rgb(80,70,69)\""
   ]
  },
  {
   "cell_type": "code",
   "execution_count": 5,
   "metadata": {},
   "outputs": [
    {
     "data": {
      "text/html": [
       "<div>\n",
       "<style scoped>\n",
       "    .dataframe tbody tr th:only-of-type {\n",
       "        vertical-align: middle;\n",
       "    }\n",
       "\n",
       "    .dataframe tbody tr th {\n",
       "        vertical-align: top;\n",
       "    }\n",
       "\n",
       "    .dataframe thead th {\n",
       "        text-align: right;\n",
       "    }\n",
       "</style>\n",
       "<table border=\"1\" class=\"dataframe\">\n",
       "  <thead>\n",
       "    <tr style=\"text-align: right;\">\n",
       "      <th></th>\n",
       "      <th>0.5_0</th>\n",
       "      <th>0.5_1</th>\n",
       "      <th>0.5_2</th>\n",
       "    </tr>\n",
       "  </thead>\n",
       "  <tbody>\n",
       "    <tr>\n",
       "      <th>0</th>\n",
       "      <td>101.106140</td>\n",
       "      <td>100.521271</td>\n",
       "      <td>100.302223</td>\n",
       "    </tr>\n",
       "    <tr>\n",
       "      <th>1</th>\n",
       "      <td>100.527672</td>\n",
       "      <td>99.556831</td>\n",
       "      <td>99.423378</td>\n",
       "    </tr>\n",
       "    <tr>\n",
       "      <th>2</th>\n",
       "      <td>96.544724</td>\n",
       "      <td>95.281425</td>\n",
       "      <td>94.003265</td>\n",
       "    </tr>\n",
       "    <tr>\n",
       "      <th>3</th>\n",
       "      <td>101.870895</td>\n",
       "      <td>102.104439</td>\n",
       "      <td>100.942848</td>\n",
       "    </tr>\n",
       "    <tr>\n",
       "      <th>4</th>\n",
       "      <td>100.086372</td>\n",
       "      <td>100.029823</td>\n",
       "      <td>101.113686</td>\n",
       "    </tr>\n",
       "    <tr>\n",
       "      <th>...</th>\n",
       "      <td>...</td>\n",
       "      <td>...</td>\n",
       "      <td>...</td>\n",
       "    </tr>\n",
       "    <tr>\n",
       "      <th>127</th>\n",
       "      <td>106.520233</td>\n",
       "      <td>107.061310</td>\n",
       "      <td>107.640663</td>\n",
       "    </tr>\n",
       "    <tr>\n",
       "      <th>128</th>\n",
       "      <td>106.587448</td>\n",
       "      <td>106.178368</td>\n",
       "      <td>106.085228</td>\n",
       "    </tr>\n",
       "    <tr>\n",
       "      <th>129</th>\n",
       "      <td>105.244652</td>\n",
       "      <td>104.689812</td>\n",
       "      <td>104.834282</td>\n",
       "    </tr>\n",
       "    <tr>\n",
       "      <th>130</th>\n",
       "      <td>105.341545</td>\n",
       "      <td>105.163162</td>\n",
       "      <td>106.105186</td>\n",
       "    </tr>\n",
       "    <tr>\n",
       "      <th>131</th>\n",
       "      <td>105.360497</td>\n",
       "      <td>105.506203</td>\n",
       "      <td>106.436073</td>\n",
       "    </tr>\n",
       "  </tbody>\n",
       "</table>\n",
       "<p>132 rows × 3 columns</p>\n",
       "</div>"
      ],
      "text/plain": [
       "          0.5_0       0.5_1       0.5_2\n",
       "0    101.106140  100.521271  100.302223\n",
       "1    100.527672   99.556831   99.423378\n",
       "2     96.544724   95.281425   94.003265\n",
       "3    101.870895  102.104439  100.942848\n",
       "4    100.086372  100.029823  101.113686\n",
       "..          ...         ...         ...\n",
       "127  106.520233  107.061310  107.640663\n",
       "128  106.587448  106.178368  106.085228\n",
       "129  105.244652  104.689812  104.834282\n",
       "130  105.341545  105.163162  106.105186\n",
       "131  105.360497  105.506203  106.436073\n",
       "\n",
       "[132 rows x 3 columns]"
      ]
     },
     "execution_count": 5,
     "metadata": {},
     "output_type": "execute_result"
    }
   ],
   "source": [
    "pd.read_hdf(configs[\"exp_dir\"] + \"/predictions.h5\")"
   ]
  },
  {
   "cell_type": "code",
   "execution_count": 6,
   "metadata": {},
   "outputs": [
    {
     "data": {
      "text/html": [
       "<div>\n",
       "<style scoped>\n",
       "    .dataframe tbody tr th:only-of-type {\n",
       "        vertical-align: middle;\n",
       "    }\n",
       "\n",
       "    .dataframe tbody tr th {\n",
       "        vertical-align: top;\n",
       "    }\n",
       "\n",
       "    .dataframe thead th {\n",
       "        text-align: right;\n",
       "    }\n",
       "</style>\n",
       "<table border=\"1\" class=\"dataframe\">\n",
       "  <thead>\n",
       "    <tr style=\"text-align: right;\">\n",
       "      <th></th>\n",
       "      <th>0</th>\n",
       "      <th>1</th>\n",
       "      <th>2</th>\n",
       "    </tr>\n",
       "  </thead>\n",
       "  <tbody>\n",
       "    <tr>\n",
       "      <th>0</th>\n",
       "      <td>97.650002</td>\n",
       "      <td>104.699997</td>\n",
       "      <td>95.300003</td>\n",
       "    </tr>\n",
       "    <tr>\n",
       "      <th>1</th>\n",
       "      <td>101.500000</td>\n",
       "      <td>98.504036</td>\n",
       "      <td>103.149178</td>\n",
       "    </tr>\n",
       "    <tr>\n",
       "      <th>2</th>\n",
       "      <td>100.414070</td>\n",
       "      <td>82.724808</td>\n",
       "      <td>86.570908</td>\n",
       "    </tr>\n",
       "    <tr>\n",
       "      <th>3</th>\n",
       "      <td>82.724808</td>\n",
       "      <td>86.570908</td>\n",
       "      <td>114.733170</td>\n",
       "    </tr>\n",
       "    <tr>\n",
       "      <th>4</th>\n",
       "      <td>111.237549</td>\n",
       "      <td>113.646477</td>\n",
       "      <td>116.546089</td>\n",
       "    </tr>\n",
       "    <tr>\n",
       "      <th>...</th>\n",
       "      <td>...</td>\n",
       "      <td>...</td>\n",
       "      <td>...</td>\n",
       "    </tr>\n",
       "    <tr>\n",
       "      <th>127</th>\n",
       "      <td>108.841797</td>\n",
       "      <td>104.730003</td>\n",
       "      <td>102.471001</td>\n",
       "    </tr>\n",
       "    <tr>\n",
       "      <th>128</th>\n",
       "      <td>102.471001</td>\n",
       "      <td>107.028603</td>\n",
       "      <td>102.547798</td>\n",
       "    </tr>\n",
       "    <tr>\n",
       "      <th>129</th>\n",
       "      <td>102.918999</td>\n",
       "      <td>108.709801</td>\n",
       "      <td>103.291397</td>\n",
       "    </tr>\n",
       "    <tr>\n",
       "      <th>130</th>\n",
       "      <td>105.448799</td>\n",
       "      <td>107.037003</td>\n",
       "      <td>111.518997</td>\n",
       "    </tr>\n",
       "    <tr>\n",
       "      <th>131</th>\n",
       "      <td>111.518997</td>\n",
       "      <td>109.573402</td>\n",
       "      <td>104.668396</td>\n",
       "    </tr>\n",
       "  </tbody>\n",
       "</table>\n",
       "<p>132 rows × 3 columns</p>\n",
       "</div>"
      ],
      "text/plain": [
       "              0           1           2\n",
       "0     97.650002  104.699997   95.300003\n",
       "1    101.500000   98.504036  103.149178\n",
       "2    100.414070   82.724808   86.570908\n",
       "3     82.724808   86.570908  114.733170\n",
       "4    111.237549  113.646477  116.546089\n",
       "..          ...         ...         ...\n",
       "127  108.841797  104.730003  102.471001\n",
       "128  102.471001  107.028603  102.547798\n",
       "129  102.918999  108.709801  103.291397\n",
       "130  105.448799  107.037003  111.518997\n",
       "131  111.518997  109.573402  104.668396\n",
       "\n",
       "[132 rows x 3 columns]"
      ]
     },
     "execution_count": 6,
     "metadata": {},
     "output_type": "execute_result"
    }
   ],
   "source": [
    "pd.read_hdf(configs[\"exp_dir\"] + \"/measured.h5\")"
   ]
  },
  {
   "cell_type": "code",
   "execution_count": 7,
   "metadata": {},
   "outputs": [],
   "source": [
    "configs[\"arch_version\"] = \"charlie\"\n",
    "configs[\"qs\"] = [0.5]"
   ]
  },
  {
   "cell_type": "code",
   "execution_count": 8,
   "metadata": {},
   "outputs": [],
   "source": [
    "time_ahead = 0"
   ]
  },
  {
   "cell_type": "code",
   "execution_count": 10,
   "metadata": {},
   "outputs": [
    {
     "name": "stdout",
     "output_type": "stream",
     "text": [
      "saving timeseries comparison in C:\\Users\\JKIM4\\Documents\\GitHub\\intelligentcampus-pred-analytics\\notebooks\\exp_dir/Vis_TimeseriesComparisons.svg\n"
     ]
    },
    {
     "data": {
      "application/vnd.plotly.v1+json": {
       "config": {
        "plotlyServerURL": "https://plot.ly"
       },
       "data": [
        {
         "legendgroup": "Median",
         "line": {
          "color": "black",
          "dash": "dot",
          "width": 1
         },
         "mode": "lines",
         "name": "Median",
         "type": "scatter",
         "xaxis": "x",
         "y": [
          101.10614013671875,
          100.52767181396484,
          96.54472351074219,
          101.87089538574219,
          100.08637237548828,
          112.34619903564453,
          113.83030700683594,
          111.62297821044922,
          114.8772964477539,
          103.21605682373047,
          103.25054931640625,
          102.05094146728516,
          101.74340057373047,
          101.64189910888672,
          100.59229278564453,
          101.81116485595703,
          101.17788696289062,
          100.9942626953125,
          95.89522552490234,
          98.87356567382812,
          99.69609069824219,
          111.94139862060547,
          112.83248138427734,
          114.60344696044922,
          103.0415267944336,
          100.8248519897461,
          101.2748031616211,
          101.53411102294922,
          99.59844207763672,
          99.41088104248047,
          100.32691192626953,
          99.71479797363281,
          99.5343017578125,
          99.0097427368164,
          99.77641296386719,
          100.13094329833984,
          100.12339782714844,
          100.56910705566406,
          98.58472442626953,
          98.8880844116211,
          105.98218536376953,
          91.63396453857422,
          90.19984436035156,
          88.00450134277344,
          86.44026947021484,
          91.86788940429688,
          104.17394256591797,
          104.9542007446289,
          114.3087387084961,
          106.82371520996094,
          109.18667602539062,
          110.16268157958984,
          110.7074966430664,
          109.01863861083984,
          108.74211883544922,
          108.30883026123047,
          107.9710464477539,
          108.10009002685547,
          109.83273315429688,
          109.93428802490234,
          109.39979553222656,
          94.0308837890625,
          88.14484405517578,
          84.75379180908203,
          89.47005462646484,
          90.42569732666016,
          100.41742706298828,
          100.42204284667969,
          103.48619842529297,
          103.51849365234375,
          101.8304672241211,
          101.08744049072266,
          100.92960357666016,
          98.82965850830078,
          100.754638671875,
          100.4186782836914,
          99.69602966308594,
          99.37736511230469,
          99.31568145751953,
          98.65229034423828,
          95.54088592529297,
          93.67252349853516,
          98.00370025634766,
          100.43025207519531,
          114.62195587158203,
          108.07622528076172,
          109.12775421142578,
          114.21744537353516,
          123.30799102783203,
          125.11558532714844,
          126.8893814086914,
          128.7994842529297,
          129.61691284179688,
          129.2955780029297,
          129.25393676757812,
          129.33680725097656,
          129.5340576171875,
          129.57846069335938,
          129.43299865722656,
          127.93850708007812,
          126.2461929321289,
          123.892333984375,
          125.58451080322266,
          123.8558120727539,
          128.1779327392578,
          127.3510513305664,
          123.10476684570312,
          125.87055969238281,
          127.17028045654297,
          106.11866760253906,
          106.04520416259766,
          105.60401916503906,
          106.18696594238281,
          106.3525161743164,
          106.32887268066406,
          106.122314453125,
          105.8941650390625,
          105.68238067626953,
          105.72310638427734,
          106.54615783691406,
          110.90441131591797,
          102.84654998779297,
          106.5027084350586,
          111.94550323486328,
          107.74844360351562,
          114.6897964477539,
          109.29500579833984,
          106.52023315429688,
          106.58744812011719,
          105.2446517944336,
          105.34154510498047,
          105.3604965209961
         ],
         "yaxis": "y"
        },
        {
         "legendgroup": "Target",
         "line": {
          "color": "rgb(228,26,28)",
          "width": 1
         },
         "mode": "lines",
         "name": "Target",
         "type": "scatter",
         "xaxis": "x",
         "y": [
          97.6500015258789,
          101.5,
          100.41407012939453,
          82.72480773925781,
          111.237548828125,
          112.07854461669922,
          130.36111450195312,
          131.81509399414062,
          108.10487365722656,
          97.16999816894531,
          98.99000549316406,
          106.21199798583984,
          100.10599517822266,
          100.0780029296875,
          99.17599487304688,
          101.46399688720703,
          104.41400146484375,
          98.5,
          96.15280151367188,
          116.13285064697266,
          96.6591796875,
          106.91875457763672,
          115.4893569946289,
          121.8924789428711,
          100.75,
          95.6500015258789,
          101.70999908447266,
          97,
          104.8499984741211,
          98.4000015258789,
          95.55000305175781,
          104.25,
          97.80000305175781,
          101.75,
          101.55000305175781,
          100.44999694824219,
          99.69999694824219,
          96.5999984741211,
          95.1500015258789,
          100.6500015258789,
          111.24320220947266,
          90.08670806884766,
          95.59190368652344,
          81.69878387451172,
          75.02935791015625,
          89.63594055175781,
          110.5864486694336,
          119.1004638671875,
          114.90399932861328,
          102.81659698486328,
          103.81480407714844,
          114.25879669189453,
          112.93040466308594,
          111.49359893798828,
          107.15039825439453,
          105.23719787597656,
          112.80619812011719,
          105.75959777832031,
          117.54440307617188,
          116.19940185546875,
          104.9990005493164,
          86.25183868408203,
          91.71961975097656,
          69.9133071899414,
          78.60750579833984,
          70.22885131835938,
          77.65559387207031,
          74.99699401855469,
          102.4749984741211,
          99.69999694824219,
          95.75,
          100.4000015258789,
          95.8499984741211,
          97.94999694824219,
          99.69999694824219,
          95.69999694824219,
          100.4000015258789,
          98.69999694824219,
          103.30000305175781,
          100.85781860351562,
          100.7653579711914,
          93.59854125976562,
          92.60407257080078,
          89.13465881347656,
          121.28971862792969,
          93.16236877441406,
          86.11799621582031,
          133.22703552246094,
          133.51878356933594,
          125.45120239257812,
          126.57319641113281,
          125.33180236816406,
          129.3347930908203,
          131.35479736328125,
          134.03599548339844,
          127.2323989868164,
          127.96199798583984,
          135.2263946533203,
          137.4951629638672,
          124.45408630371094,
          120.14168548583984,
          107.95365905761719,
          122.64691925048828,
          143.28616333007812,
          139.2464599609375,
          137.9585723876953,
          140.31529235839844,
          132.21107482910156,
          126.44718933105469,
          107.48320007324219,
          107.5886001586914,
          108.16719818115234,
          106.02780151367188,
          103.59259796142578,
          104.4865951538086,
          108.80999755859375,
          106.09420013427734,
          100.07160186767578,
          102.49380493164062,
          112.9802017211914,
          115.46432495117188,
          104.55889129638672,
          99.51124572753906,
          116.521728515625,
          132.24575805664062,
          114.54541778564453,
          107.2655029296875,
          108.841796875,
          102.47100067138672,
          102.91899871826172,
          105.44879913330078,
          111.51899719238281
         ],
         "yaxis": "y"
        }
       ],
       "layout": {
        "height": 500,
        "legend": {
         "font": {
          "family": "Raleway, PT Sans Narrow, Overpass, Arial",
          "size": 12
         },
         "orientation": "h",
         "x": 0.5,
         "xanchor": "center",
         "y": 1,
         "yanchor": "bottom"
        },
        "margin": {
         "b": 0,
         "l": 30,
         "r": 0,
         "t": 30
        },
        "plot_bgcolor": "rgb(245,245,245)",
        "template": {
         "data": {
          "bar": [
           {
            "error_x": {
             "color": "#2a3f5f"
            },
            "error_y": {
             "color": "#2a3f5f"
            },
            "marker": {
             "line": {
              "color": "#E5ECF6",
              "width": 0.5
             },
             "pattern": {
              "fillmode": "overlay",
              "size": 10,
              "solidity": 0.2
             }
            },
            "type": "bar"
           }
          ],
          "barpolar": [
           {
            "marker": {
             "line": {
              "color": "#E5ECF6",
              "width": 0.5
             },
             "pattern": {
              "fillmode": "overlay",
              "size": 10,
              "solidity": 0.2
             }
            },
            "type": "barpolar"
           }
          ],
          "carpet": [
           {
            "aaxis": {
             "endlinecolor": "#2a3f5f",
             "gridcolor": "white",
             "linecolor": "white",
             "minorgridcolor": "white",
             "startlinecolor": "#2a3f5f"
            },
            "baxis": {
             "endlinecolor": "#2a3f5f",
             "gridcolor": "white",
             "linecolor": "white",
             "minorgridcolor": "white",
             "startlinecolor": "#2a3f5f"
            },
            "type": "carpet"
           }
          ],
          "choropleth": [
           {
            "colorbar": {
             "outlinewidth": 0,
             "ticks": ""
            },
            "type": "choropleth"
           }
          ],
          "contour": [
           {
            "colorbar": {
             "outlinewidth": 0,
             "ticks": ""
            },
            "colorscale": [
             [
              0,
              "#0d0887"
             ],
             [
              0.1111111111111111,
              "#46039f"
             ],
             [
              0.2222222222222222,
              "#7201a8"
             ],
             [
              0.3333333333333333,
              "#9c179e"
             ],
             [
              0.4444444444444444,
              "#bd3786"
             ],
             [
              0.5555555555555556,
              "#d8576b"
             ],
             [
              0.6666666666666666,
              "#ed7953"
             ],
             [
              0.7777777777777778,
              "#fb9f3a"
             ],
             [
              0.8888888888888888,
              "#fdca26"
             ],
             [
              1,
              "#f0f921"
             ]
            ],
            "type": "contour"
           }
          ],
          "contourcarpet": [
           {
            "colorbar": {
             "outlinewidth": 0,
             "ticks": ""
            },
            "type": "contourcarpet"
           }
          ],
          "heatmap": [
           {
            "colorbar": {
             "outlinewidth": 0,
             "ticks": ""
            },
            "colorscale": [
             [
              0,
              "#0d0887"
             ],
             [
              0.1111111111111111,
              "#46039f"
             ],
             [
              0.2222222222222222,
              "#7201a8"
             ],
             [
              0.3333333333333333,
              "#9c179e"
             ],
             [
              0.4444444444444444,
              "#bd3786"
             ],
             [
              0.5555555555555556,
              "#d8576b"
             ],
             [
              0.6666666666666666,
              "#ed7953"
             ],
             [
              0.7777777777777778,
              "#fb9f3a"
             ],
             [
              0.8888888888888888,
              "#fdca26"
             ],
             [
              1,
              "#f0f921"
             ]
            ],
            "type": "heatmap"
           }
          ],
          "heatmapgl": [
           {
            "colorbar": {
             "outlinewidth": 0,
             "ticks": ""
            },
            "colorscale": [
             [
              0,
              "#0d0887"
             ],
             [
              0.1111111111111111,
              "#46039f"
             ],
             [
              0.2222222222222222,
              "#7201a8"
             ],
             [
              0.3333333333333333,
              "#9c179e"
             ],
             [
              0.4444444444444444,
              "#bd3786"
             ],
             [
              0.5555555555555556,
              "#d8576b"
             ],
             [
              0.6666666666666666,
              "#ed7953"
             ],
             [
              0.7777777777777778,
              "#fb9f3a"
             ],
             [
              0.8888888888888888,
              "#fdca26"
             ],
             [
              1,
              "#f0f921"
             ]
            ],
            "type": "heatmapgl"
           }
          ],
          "histogram": [
           {
            "marker": {
             "pattern": {
              "fillmode": "overlay",
              "size": 10,
              "solidity": 0.2
             }
            },
            "type": "histogram"
           }
          ],
          "histogram2d": [
           {
            "colorbar": {
             "outlinewidth": 0,
             "ticks": ""
            },
            "colorscale": [
             [
              0,
              "#0d0887"
             ],
             [
              0.1111111111111111,
              "#46039f"
             ],
             [
              0.2222222222222222,
              "#7201a8"
             ],
             [
              0.3333333333333333,
              "#9c179e"
             ],
             [
              0.4444444444444444,
              "#bd3786"
             ],
             [
              0.5555555555555556,
              "#d8576b"
             ],
             [
              0.6666666666666666,
              "#ed7953"
             ],
             [
              0.7777777777777778,
              "#fb9f3a"
             ],
             [
              0.8888888888888888,
              "#fdca26"
             ],
             [
              1,
              "#f0f921"
             ]
            ],
            "type": "histogram2d"
           }
          ],
          "histogram2dcontour": [
           {
            "colorbar": {
             "outlinewidth": 0,
             "ticks": ""
            },
            "colorscale": [
             [
              0,
              "#0d0887"
             ],
             [
              0.1111111111111111,
              "#46039f"
             ],
             [
              0.2222222222222222,
              "#7201a8"
             ],
             [
              0.3333333333333333,
              "#9c179e"
             ],
             [
              0.4444444444444444,
              "#bd3786"
             ],
             [
              0.5555555555555556,
              "#d8576b"
             ],
             [
              0.6666666666666666,
              "#ed7953"
             ],
             [
              0.7777777777777778,
              "#fb9f3a"
             ],
             [
              0.8888888888888888,
              "#fdca26"
             ],
             [
              1,
              "#f0f921"
             ]
            ],
            "type": "histogram2dcontour"
           }
          ],
          "mesh3d": [
           {
            "colorbar": {
             "outlinewidth": 0,
             "ticks": ""
            },
            "type": "mesh3d"
           }
          ],
          "parcoords": [
           {
            "line": {
             "colorbar": {
              "outlinewidth": 0,
              "ticks": ""
             }
            },
            "type": "parcoords"
           }
          ],
          "pie": [
           {
            "automargin": true,
            "type": "pie"
           }
          ],
          "scatter": [
           {
            "fillpattern": {
             "fillmode": "overlay",
             "size": 10,
             "solidity": 0.2
            },
            "type": "scatter"
           }
          ],
          "scatter3d": [
           {
            "line": {
             "colorbar": {
              "outlinewidth": 0,
              "ticks": ""
             }
            },
            "marker": {
             "colorbar": {
              "outlinewidth": 0,
              "ticks": ""
             }
            },
            "type": "scatter3d"
           }
          ],
          "scattercarpet": [
           {
            "marker": {
             "colorbar": {
              "outlinewidth": 0,
              "ticks": ""
             }
            },
            "type": "scattercarpet"
           }
          ],
          "scattergeo": [
           {
            "marker": {
             "colorbar": {
              "outlinewidth": 0,
              "ticks": ""
             }
            },
            "type": "scattergeo"
           }
          ],
          "scattergl": [
           {
            "marker": {
             "colorbar": {
              "outlinewidth": 0,
              "ticks": ""
             }
            },
            "type": "scattergl"
           }
          ],
          "scattermapbox": [
           {
            "marker": {
             "colorbar": {
              "outlinewidth": 0,
              "ticks": ""
             }
            },
            "type": "scattermapbox"
           }
          ],
          "scatterpolar": [
           {
            "marker": {
             "colorbar": {
              "outlinewidth": 0,
              "ticks": ""
             }
            },
            "type": "scatterpolar"
           }
          ],
          "scatterpolargl": [
           {
            "marker": {
             "colorbar": {
              "outlinewidth": 0,
              "ticks": ""
             }
            },
            "type": "scatterpolargl"
           }
          ],
          "scatterternary": [
           {
            "marker": {
             "colorbar": {
              "outlinewidth": 0,
              "ticks": ""
             }
            },
            "type": "scatterternary"
           }
          ],
          "surface": [
           {
            "colorbar": {
             "outlinewidth": 0,
             "ticks": ""
            },
            "colorscale": [
             [
              0,
              "#0d0887"
             ],
             [
              0.1111111111111111,
              "#46039f"
             ],
             [
              0.2222222222222222,
              "#7201a8"
             ],
             [
              0.3333333333333333,
              "#9c179e"
             ],
             [
              0.4444444444444444,
              "#bd3786"
             ],
             [
              0.5555555555555556,
              "#d8576b"
             ],
             [
              0.6666666666666666,
              "#ed7953"
             ],
             [
              0.7777777777777778,
              "#fb9f3a"
             ],
             [
              0.8888888888888888,
              "#fdca26"
             ],
             [
              1,
              "#f0f921"
             ]
            ],
            "type": "surface"
           }
          ],
          "table": [
           {
            "cells": {
             "fill": {
              "color": "#EBF0F8"
             },
             "line": {
              "color": "white"
             }
            },
            "header": {
             "fill": {
              "color": "#C8D4E3"
             },
             "line": {
              "color": "white"
             }
            },
            "type": "table"
           }
          ]
         },
         "layout": {
          "annotationdefaults": {
           "arrowcolor": "#2a3f5f",
           "arrowhead": 0,
           "arrowwidth": 1
          },
          "autotypenumbers": "strict",
          "coloraxis": {
           "colorbar": {
            "outlinewidth": 0,
            "ticks": ""
           }
          },
          "colorscale": {
           "diverging": [
            [
             0,
             "#8e0152"
            ],
            [
             0.1,
             "#c51b7d"
            ],
            [
             0.2,
             "#de77ae"
            ],
            [
             0.3,
             "#f1b6da"
            ],
            [
             0.4,
             "#fde0ef"
            ],
            [
             0.5,
             "#f7f7f7"
            ],
            [
             0.6,
             "#e6f5d0"
            ],
            [
             0.7,
             "#b8e186"
            ],
            [
             0.8,
             "#7fbc41"
            ],
            [
             0.9,
             "#4d9221"
            ],
            [
             1,
             "#276419"
            ]
           ],
           "sequential": [
            [
             0,
             "#0d0887"
            ],
            [
             0.1111111111111111,
             "#46039f"
            ],
            [
             0.2222222222222222,
             "#7201a8"
            ],
            [
             0.3333333333333333,
             "#9c179e"
            ],
            [
             0.4444444444444444,
             "#bd3786"
            ],
            [
             0.5555555555555556,
             "#d8576b"
            ],
            [
             0.6666666666666666,
             "#ed7953"
            ],
            [
             0.7777777777777778,
             "#fb9f3a"
            ],
            [
             0.8888888888888888,
             "#fdca26"
            ],
            [
             1,
             "#f0f921"
            ]
           ],
           "sequentialminus": [
            [
             0,
             "#0d0887"
            ],
            [
             0.1111111111111111,
             "#46039f"
            ],
            [
             0.2222222222222222,
             "#7201a8"
            ],
            [
             0.3333333333333333,
             "#9c179e"
            ],
            [
             0.4444444444444444,
             "#bd3786"
            ],
            [
             0.5555555555555556,
             "#d8576b"
            ],
            [
             0.6666666666666666,
             "#ed7953"
            ],
            [
             0.7777777777777778,
             "#fb9f3a"
            ],
            [
             0.8888888888888888,
             "#fdca26"
            ],
            [
             1,
             "#f0f921"
            ]
           ]
          },
          "colorway": [
           "#636efa",
           "#EF553B",
           "#00cc96",
           "#ab63fa",
           "#FFA15A",
           "#19d3f3",
           "#FF6692",
           "#B6E880",
           "#FF97FF",
           "#FECB52"
          ],
          "font": {
           "color": "#2a3f5f"
          },
          "geo": {
           "bgcolor": "white",
           "lakecolor": "white",
           "landcolor": "#E5ECF6",
           "showlakes": true,
           "showland": true,
           "subunitcolor": "white"
          },
          "hoverlabel": {
           "align": "left"
          },
          "hovermode": "closest",
          "mapbox": {
           "style": "light"
          },
          "paper_bgcolor": "white",
          "plot_bgcolor": "#E5ECF6",
          "polar": {
           "angularaxis": {
            "gridcolor": "white",
            "linecolor": "white",
            "ticks": ""
           },
           "bgcolor": "#E5ECF6",
           "radialaxis": {
            "gridcolor": "white",
            "linecolor": "white",
            "ticks": ""
           }
          },
          "scene": {
           "xaxis": {
            "backgroundcolor": "#E5ECF6",
            "gridcolor": "white",
            "gridwidth": 2,
            "linecolor": "white",
            "showbackground": true,
            "ticks": "",
            "zerolinecolor": "white"
           },
           "yaxis": {
            "backgroundcolor": "#E5ECF6",
            "gridcolor": "white",
            "gridwidth": 2,
            "linecolor": "white",
            "showbackground": true,
            "ticks": "",
            "zerolinecolor": "white"
           },
           "zaxis": {
            "backgroundcolor": "#E5ECF6",
            "gridcolor": "white",
            "gridwidth": 2,
            "linecolor": "white",
            "showbackground": true,
            "ticks": "",
            "zerolinecolor": "white"
           }
          },
          "shapedefaults": {
           "line": {
            "color": "#2a3f5f"
           }
          },
          "ternary": {
           "aaxis": {
            "gridcolor": "white",
            "linecolor": "white",
            "ticks": ""
           },
           "baxis": {
            "gridcolor": "white",
            "linecolor": "white",
            "ticks": ""
           },
           "bgcolor": "#E5ECF6",
           "caxis": {
            "gridcolor": "white",
            "linecolor": "white",
            "ticks": ""
           }
          },
          "title": {
           "x": 0.05
          },
          "xaxis": {
           "automargin": true,
           "gridcolor": "white",
           "linecolor": "white",
           "ticks": "",
           "title": {
            "standoff": 15
           },
           "zerolinecolor": "white",
           "zerolinewidth": 2
          },
          "yaxis": {
           "automargin": true,
           "gridcolor": "white",
           "linecolor": "white",
           "ticks": "",
           "title": {
            "standoff": 15
           },
           "zerolinecolor": "white",
           "zerolinewidth": 2
          }
         }
        },
        "width": 1500,
        "xaxis": {
         "anchor": "y",
         "domain": [
          0,
          1
         ],
         "matches": "x4",
         "showgrid": false,
         "showticklabels": false
        },
        "xaxis2": {
         "anchor": "y2",
         "domain": [
          0,
          1
         ],
         "matches": "x4",
         "showgrid": false,
         "showticklabels": false
        },
        "xaxis3": {
         "anchor": "y3",
         "domain": [
          0,
          1
         ],
         "matches": "x4",
         "showgrid": false,
         "showticklabels": false
        },
        "xaxis4": {
         "anchor": "y4",
         "domain": [
          0,
          1
         ],
         "showgrid": false,
         "showticklabels": false,
         "title": {
          "font": {
           "family": "Raleway, PT Sans Narrow, Overpass, Arial",
           "size": 14
          },
          "text": "<b>Appended Multiple Time Windows</b><br>(single window size = 1W)"
         }
        },
        "yaxis": {
         "anchor": "x",
         "domain": [
          0.5052631578947369,
          1
         ],
         "range": [
          66.41764183044434,
          150.45047149658203
         ],
         "showgrid": false,
         "tickfont": {
          "family": "Raleway, PT Sans Narrow, Overpass, Arial"
         },
         "title": {
          "font": {
           "family": "Raleway, PT Sans Narrow, Overpass, Arial",
           "size": 14
          },
          "text": "<b>Power<br>Consumption<b>"
         }
        },
        "yaxis2": {
         "anchor": "x2",
         "domain": [
          0.33684210526315783,
          0.48526315789473673
         ],
         "showgrid": false,
         "tickfont": {
          "family": "Raleway, PT Sans Narrow, Overpass, Arial"
         },
         "title": {
          "font": {
           "family": "Raleway, PT Sans Narrow, Overpass, Arial",
           "size": 14
          },
          "text": "<b>Penalty<br>Low</b>"
         }
        },
        "yaxis3": {
         "anchor": "x3",
         "domain": [
          0.16842105263157892,
          0.3168421052631578
         ],
         "showgrid": false,
         "tickfont": {
          "family": "Raleway, PT Sans Narrow, Overpass, Arial"
         },
         "title": {
          "font": {
           "family": "Raleway, PT Sans Narrow, Overpass, Arial",
           "size": 14
          },
          "text": "<b>Penalty<br>High</b>"
         }
        },
        "yaxis4": {
         "anchor": "x4",
         "domain": [
          0,
          0.14842105263157893
         ],
         "showgrid": false,
         "tickfont": {
          "family": "Raleway, PT Sans Narrow, Overpass, Arial"
         },
         "title": {
          "font": {
           "family": "Raleway, PT Sans Narrow, Overpass, Arial",
           "size": 14
          },
          "text": "<b>Interval<br>Score</b>"
         }
        }
       }
      },
      "text/html": [
       "<div>                            <div id=\"096f419f-1902-487a-9e81-2e5c45a765fb\" class=\"plotly-graph-div\" style=\"height:500px; width:1500px;\"></div>            <script type=\"text/javascript\">                require([\"plotly\"], function(Plotly) {                    window.PLOTLYENV=window.PLOTLYENV || {};                                    if (document.getElementById(\"096f419f-1902-487a-9e81-2e5c45a765fb\")) {                    Plotly.newPlot(                        \"096f419f-1902-487a-9e81-2e5c45a765fb\",                        [{\"legendgroup\":\"Median\",\"line\":{\"color\":\"black\",\"dash\":\"dot\",\"width\":1},\"mode\":\"lines\",\"name\":\"Median\",\"xaxis\":\"x\",\"y\":[101.10614013671875,100.52767181396484,96.54472351074219,101.87089538574219,100.08637237548828,112.34619903564453,113.83030700683594,111.62297821044922,114.8772964477539,103.21605682373047,103.25054931640625,102.05094146728516,101.74340057373047,101.64189910888672,100.59229278564453,101.81116485595703,101.17788696289062,100.9942626953125,95.89522552490234,98.87356567382812,99.69609069824219,111.94139862060547,112.83248138427734,114.60344696044922,103.0415267944336,100.8248519897461,101.2748031616211,101.53411102294922,99.59844207763672,99.41088104248047,100.32691192626953,99.71479797363281,99.5343017578125,99.0097427368164,99.77641296386719,100.13094329833984,100.12339782714844,100.56910705566406,98.58472442626953,98.8880844116211,105.98218536376953,91.63396453857422,90.19984436035156,88.00450134277344,86.44026947021484,91.86788940429688,104.17394256591797,104.9542007446289,114.3087387084961,106.82371520996094,109.18667602539062,110.16268157958984,110.7074966430664,109.01863861083984,108.74211883544922,108.30883026123047,107.9710464477539,108.10009002685547,109.83273315429688,109.93428802490234,109.39979553222656,94.0308837890625,88.14484405517578,84.75379180908203,89.47005462646484,90.42569732666016,100.41742706298828,100.42204284667969,103.48619842529297,103.51849365234375,101.8304672241211,101.08744049072266,100.92960357666016,98.82965850830078,100.754638671875,100.4186782836914,99.69602966308594,99.37736511230469,99.31568145751953,98.65229034423828,95.54088592529297,93.67252349853516,98.00370025634766,100.43025207519531,114.62195587158203,108.07622528076172,109.12775421142578,114.21744537353516,123.30799102783203,125.11558532714844,126.8893814086914,128.7994842529297,129.61691284179688,129.2955780029297,129.25393676757812,129.33680725097656,129.5340576171875,129.57846069335938,129.43299865722656,127.93850708007812,126.2461929321289,123.892333984375,125.58451080322266,123.8558120727539,128.1779327392578,127.3510513305664,123.10476684570312,125.87055969238281,127.17028045654297,106.11866760253906,106.04520416259766,105.60401916503906,106.18696594238281,106.3525161743164,106.32887268066406,106.122314453125,105.8941650390625,105.68238067626953,105.72310638427734,106.54615783691406,110.90441131591797,102.84654998779297,106.5027084350586,111.94550323486328,107.74844360351562,114.6897964477539,109.29500579833984,106.52023315429688,106.58744812011719,105.2446517944336,105.34154510498047,105.3604965209961],\"type\":\"scatter\",\"yaxis\":\"y\"},{\"legendgroup\":\"Target\",\"line\":{\"color\":\"rgb(228,26,28)\",\"width\":1},\"mode\":\"lines\",\"name\":\"Target\",\"xaxis\":\"x\",\"y\":[97.6500015258789,101.5,100.41407012939453,82.72480773925781,111.237548828125,112.07854461669922,130.36111450195312,131.81509399414062,108.10487365722656,97.16999816894531,98.99000549316406,106.21199798583984,100.10599517822266,100.0780029296875,99.17599487304688,101.46399688720703,104.41400146484375,98.5,96.15280151367188,116.13285064697266,96.6591796875,106.91875457763672,115.4893569946289,121.8924789428711,100.75,95.6500015258789,101.70999908447266,97.0,104.8499984741211,98.4000015258789,95.55000305175781,104.25,97.80000305175781,101.75,101.55000305175781,100.44999694824219,99.69999694824219,96.5999984741211,95.1500015258789,100.6500015258789,111.24320220947266,90.08670806884766,95.59190368652344,81.69878387451172,75.02935791015625,89.63594055175781,110.5864486694336,119.1004638671875,114.90399932861328,102.81659698486328,103.81480407714844,114.25879669189453,112.93040466308594,111.49359893798828,107.15039825439453,105.23719787597656,112.80619812011719,105.75959777832031,117.54440307617188,116.19940185546875,104.9990005493164,86.25183868408203,91.71961975097656,69.9133071899414,78.60750579833984,70.22885131835938,77.65559387207031,74.99699401855469,102.4749984741211,99.69999694824219,95.75,100.4000015258789,95.8499984741211,97.94999694824219,99.69999694824219,95.69999694824219,100.4000015258789,98.69999694824219,103.30000305175781,100.85781860351562,100.7653579711914,93.59854125976562,92.60407257080078,89.13465881347656,121.28971862792969,93.16236877441406,86.11799621582031,133.22703552246094,133.51878356933594,125.45120239257812,126.57319641113281,125.33180236816406,129.3347930908203,131.35479736328125,134.03599548339844,127.2323989868164,127.96199798583984,135.2263946533203,137.4951629638672,124.45408630371094,120.14168548583984,107.95365905761719,122.64691925048828,143.28616333007812,139.2464599609375,137.9585723876953,140.31529235839844,132.21107482910156,126.44718933105469,107.48320007324219,107.5886001586914,108.16719818115234,106.02780151367188,103.59259796142578,104.4865951538086,108.80999755859375,106.09420013427734,100.07160186767578,102.49380493164062,112.9802017211914,115.46432495117188,104.55889129638672,99.51124572753906,116.521728515625,132.24575805664062,114.54541778564453,107.2655029296875,108.841796875,102.47100067138672,102.91899871826172,105.44879913330078,111.51899719238281],\"type\":\"scatter\",\"yaxis\":\"y\"}],                        {\"template\":{\"data\":{\"histogram2dcontour\":[{\"type\":\"histogram2dcontour\",\"colorbar\":{\"outlinewidth\":0,\"ticks\":\"\"},\"colorscale\":[[0.0,\"#0d0887\"],[0.1111111111111111,\"#46039f\"],[0.2222222222222222,\"#7201a8\"],[0.3333333333333333,\"#9c179e\"],[0.4444444444444444,\"#bd3786\"],[0.5555555555555556,\"#d8576b\"],[0.6666666666666666,\"#ed7953\"],[0.7777777777777778,\"#fb9f3a\"],[0.8888888888888888,\"#fdca26\"],[1.0,\"#f0f921\"]]}],\"choropleth\":[{\"type\":\"choropleth\",\"colorbar\":{\"outlinewidth\":0,\"ticks\":\"\"}}],\"histogram2d\":[{\"type\":\"histogram2d\",\"colorbar\":{\"outlinewidth\":0,\"ticks\":\"\"},\"colorscale\":[[0.0,\"#0d0887\"],[0.1111111111111111,\"#46039f\"],[0.2222222222222222,\"#7201a8\"],[0.3333333333333333,\"#9c179e\"],[0.4444444444444444,\"#bd3786\"],[0.5555555555555556,\"#d8576b\"],[0.6666666666666666,\"#ed7953\"],[0.7777777777777778,\"#fb9f3a\"],[0.8888888888888888,\"#fdca26\"],[1.0,\"#f0f921\"]]}],\"heatmap\":[{\"type\":\"heatmap\",\"colorbar\":{\"outlinewidth\":0,\"ticks\":\"\"},\"colorscale\":[[0.0,\"#0d0887\"],[0.1111111111111111,\"#46039f\"],[0.2222222222222222,\"#7201a8\"],[0.3333333333333333,\"#9c179e\"],[0.4444444444444444,\"#bd3786\"],[0.5555555555555556,\"#d8576b\"],[0.6666666666666666,\"#ed7953\"],[0.7777777777777778,\"#fb9f3a\"],[0.8888888888888888,\"#fdca26\"],[1.0,\"#f0f921\"]]}],\"heatmapgl\":[{\"type\":\"heatmapgl\",\"colorbar\":{\"outlinewidth\":0,\"ticks\":\"\"},\"colorscale\":[[0.0,\"#0d0887\"],[0.1111111111111111,\"#46039f\"],[0.2222222222222222,\"#7201a8\"],[0.3333333333333333,\"#9c179e\"],[0.4444444444444444,\"#bd3786\"],[0.5555555555555556,\"#d8576b\"],[0.6666666666666666,\"#ed7953\"],[0.7777777777777778,\"#fb9f3a\"],[0.8888888888888888,\"#fdca26\"],[1.0,\"#f0f921\"]]}],\"contourcarpet\":[{\"type\":\"contourcarpet\",\"colorbar\":{\"outlinewidth\":0,\"ticks\":\"\"}}],\"contour\":[{\"type\":\"contour\",\"colorbar\":{\"outlinewidth\":0,\"ticks\":\"\"},\"colorscale\":[[0.0,\"#0d0887\"],[0.1111111111111111,\"#46039f\"],[0.2222222222222222,\"#7201a8\"],[0.3333333333333333,\"#9c179e\"],[0.4444444444444444,\"#bd3786\"],[0.5555555555555556,\"#d8576b\"],[0.6666666666666666,\"#ed7953\"],[0.7777777777777778,\"#fb9f3a\"],[0.8888888888888888,\"#fdca26\"],[1.0,\"#f0f921\"]]}],\"surface\":[{\"type\":\"surface\",\"colorbar\":{\"outlinewidth\":0,\"ticks\":\"\"},\"colorscale\":[[0.0,\"#0d0887\"],[0.1111111111111111,\"#46039f\"],[0.2222222222222222,\"#7201a8\"],[0.3333333333333333,\"#9c179e\"],[0.4444444444444444,\"#bd3786\"],[0.5555555555555556,\"#d8576b\"],[0.6666666666666666,\"#ed7953\"],[0.7777777777777778,\"#fb9f3a\"],[0.8888888888888888,\"#fdca26\"],[1.0,\"#f0f921\"]]}],\"mesh3d\":[{\"type\":\"mesh3d\",\"colorbar\":{\"outlinewidth\":0,\"ticks\":\"\"}}],\"scatter\":[{\"fillpattern\":{\"fillmode\":\"overlay\",\"size\":10,\"solidity\":0.2},\"type\":\"scatter\"}],\"parcoords\":[{\"type\":\"parcoords\",\"line\":{\"colorbar\":{\"outlinewidth\":0,\"ticks\":\"\"}}}],\"scatterpolargl\":[{\"type\":\"scatterpolargl\",\"marker\":{\"colorbar\":{\"outlinewidth\":0,\"ticks\":\"\"}}}],\"bar\":[{\"error_x\":{\"color\":\"#2a3f5f\"},\"error_y\":{\"color\":\"#2a3f5f\"},\"marker\":{\"line\":{\"color\":\"#E5ECF6\",\"width\":0.5},\"pattern\":{\"fillmode\":\"overlay\",\"size\":10,\"solidity\":0.2}},\"type\":\"bar\"}],\"scattergeo\":[{\"type\":\"scattergeo\",\"marker\":{\"colorbar\":{\"outlinewidth\":0,\"ticks\":\"\"}}}],\"scatterpolar\":[{\"type\":\"scatterpolar\",\"marker\":{\"colorbar\":{\"outlinewidth\":0,\"ticks\":\"\"}}}],\"histogram\":[{\"marker\":{\"pattern\":{\"fillmode\":\"overlay\",\"size\":10,\"solidity\":0.2}},\"type\":\"histogram\"}],\"scattergl\":[{\"type\":\"scattergl\",\"marker\":{\"colorbar\":{\"outlinewidth\":0,\"ticks\":\"\"}}}],\"scatter3d\":[{\"type\":\"scatter3d\",\"line\":{\"colorbar\":{\"outlinewidth\":0,\"ticks\":\"\"}},\"marker\":{\"colorbar\":{\"outlinewidth\":0,\"ticks\":\"\"}}}],\"scattermapbox\":[{\"type\":\"scattermapbox\",\"marker\":{\"colorbar\":{\"outlinewidth\":0,\"ticks\":\"\"}}}],\"scatterternary\":[{\"type\":\"scatterternary\",\"marker\":{\"colorbar\":{\"outlinewidth\":0,\"ticks\":\"\"}}}],\"scattercarpet\":[{\"type\":\"scattercarpet\",\"marker\":{\"colorbar\":{\"outlinewidth\":0,\"ticks\":\"\"}}}],\"carpet\":[{\"aaxis\":{\"endlinecolor\":\"#2a3f5f\",\"gridcolor\":\"white\",\"linecolor\":\"white\",\"minorgridcolor\":\"white\",\"startlinecolor\":\"#2a3f5f\"},\"baxis\":{\"endlinecolor\":\"#2a3f5f\",\"gridcolor\":\"white\",\"linecolor\":\"white\",\"minorgridcolor\":\"white\",\"startlinecolor\":\"#2a3f5f\"},\"type\":\"carpet\"}],\"table\":[{\"cells\":{\"fill\":{\"color\":\"#EBF0F8\"},\"line\":{\"color\":\"white\"}},\"header\":{\"fill\":{\"color\":\"#C8D4E3\"},\"line\":{\"color\":\"white\"}},\"type\":\"table\"}],\"barpolar\":[{\"marker\":{\"line\":{\"color\":\"#E5ECF6\",\"width\":0.5},\"pattern\":{\"fillmode\":\"overlay\",\"size\":10,\"solidity\":0.2}},\"type\":\"barpolar\"}],\"pie\":[{\"automargin\":true,\"type\":\"pie\"}]},\"layout\":{\"autotypenumbers\":\"strict\",\"colorway\":[\"#636efa\",\"#EF553B\",\"#00cc96\",\"#ab63fa\",\"#FFA15A\",\"#19d3f3\",\"#FF6692\",\"#B6E880\",\"#FF97FF\",\"#FECB52\"],\"font\":{\"color\":\"#2a3f5f\"},\"hovermode\":\"closest\",\"hoverlabel\":{\"align\":\"left\"},\"paper_bgcolor\":\"white\",\"plot_bgcolor\":\"#E5ECF6\",\"polar\":{\"bgcolor\":\"#E5ECF6\",\"angularaxis\":{\"gridcolor\":\"white\",\"linecolor\":\"white\",\"ticks\":\"\"},\"radialaxis\":{\"gridcolor\":\"white\",\"linecolor\":\"white\",\"ticks\":\"\"}},\"ternary\":{\"bgcolor\":\"#E5ECF6\",\"aaxis\":{\"gridcolor\":\"white\",\"linecolor\":\"white\",\"ticks\":\"\"},\"baxis\":{\"gridcolor\":\"white\",\"linecolor\":\"white\",\"ticks\":\"\"},\"caxis\":{\"gridcolor\":\"white\",\"linecolor\":\"white\",\"ticks\":\"\"}},\"coloraxis\":{\"colorbar\":{\"outlinewidth\":0,\"ticks\":\"\"}},\"colorscale\":{\"sequential\":[[0.0,\"#0d0887\"],[0.1111111111111111,\"#46039f\"],[0.2222222222222222,\"#7201a8\"],[0.3333333333333333,\"#9c179e\"],[0.4444444444444444,\"#bd3786\"],[0.5555555555555556,\"#d8576b\"],[0.6666666666666666,\"#ed7953\"],[0.7777777777777778,\"#fb9f3a\"],[0.8888888888888888,\"#fdca26\"],[1.0,\"#f0f921\"]],\"sequentialminus\":[[0.0,\"#0d0887\"],[0.1111111111111111,\"#46039f\"],[0.2222222222222222,\"#7201a8\"],[0.3333333333333333,\"#9c179e\"],[0.4444444444444444,\"#bd3786\"],[0.5555555555555556,\"#d8576b\"],[0.6666666666666666,\"#ed7953\"],[0.7777777777777778,\"#fb9f3a\"],[0.8888888888888888,\"#fdca26\"],[1.0,\"#f0f921\"]],\"diverging\":[[0,\"#8e0152\"],[0.1,\"#c51b7d\"],[0.2,\"#de77ae\"],[0.3,\"#f1b6da\"],[0.4,\"#fde0ef\"],[0.5,\"#f7f7f7\"],[0.6,\"#e6f5d0\"],[0.7,\"#b8e186\"],[0.8,\"#7fbc41\"],[0.9,\"#4d9221\"],[1,\"#276419\"]]},\"xaxis\":{\"gridcolor\":\"white\",\"linecolor\":\"white\",\"ticks\":\"\",\"title\":{\"standoff\":15},\"zerolinecolor\":\"white\",\"automargin\":true,\"zerolinewidth\":2},\"yaxis\":{\"gridcolor\":\"white\",\"linecolor\":\"white\",\"ticks\":\"\",\"title\":{\"standoff\":15},\"zerolinecolor\":\"white\",\"automargin\":true,\"zerolinewidth\":2},\"scene\":{\"xaxis\":{\"backgroundcolor\":\"#E5ECF6\",\"gridcolor\":\"white\",\"linecolor\":\"white\",\"showbackground\":true,\"ticks\":\"\",\"zerolinecolor\":\"white\",\"gridwidth\":2},\"yaxis\":{\"backgroundcolor\":\"#E5ECF6\",\"gridcolor\":\"white\",\"linecolor\":\"white\",\"showbackground\":true,\"ticks\":\"\",\"zerolinecolor\":\"white\",\"gridwidth\":2},\"zaxis\":{\"backgroundcolor\":\"#E5ECF6\",\"gridcolor\":\"white\",\"linecolor\":\"white\",\"showbackground\":true,\"ticks\":\"\",\"zerolinecolor\":\"white\",\"gridwidth\":2}},\"shapedefaults\":{\"line\":{\"color\":\"#2a3f5f\"}},\"annotationdefaults\":{\"arrowcolor\":\"#2a3f5f\",\"arrowhead\":0,\"arrowwidth\":1},\"geo\":{\"bgcolor\":\"white\",\"landcolor\":\"#E5ECF6\",\"subunitcolor\":\"white\",\"showland\":true,\"showlakes\":true,\"lakecolor\":\"white\"},\"title\":{\"x\":0.05},\"mapbox\":{\"style\":\"light\"}}},\"xaxis\":{\"anchor\":\"y\",\"domain\":[0.0,1.0],\"matches\":\"x4\",\"showticklabels\":false,\"showgrid\":false},\"yaxis\":{\"anchor\":\"x\",\"domain\":[0.5052631578947369,1.0],\"title\":{\"font\":{\"size\":14,\"family\":\"Raleway, PT Sans Narrow, Overpass, Arial\"},\"text\":\"<b>Power<br>Consumption<b>\"},\"tickfont\":{\"family\":\"Raleway, PT Sans Narrow, Overpass, Arial\"},\"range\":[66.41764183044434,150.45047149658203],\"showgrid\":false},\"xaxis2\":{\"anchor\":\"y2\",\"domain\":[0.0,1.0],\"matches\":\"x4\",\"showticklabels\":false,\"showgrid\":false},\"yaxis2\":{\"anchor\":\"x2\",\"domain\":[0.33684210526315783,0.48526315789473673],\"title\":{\"font\":{\"size\":14,\"family\":\"Raleway, PT Sans Narrow, Overpass, Arial\"},\"text\":\"<b>Penalty<br>Low</b>\"},\"tickfont\":{\"family\":\"Raleway, PT Sans Narrow, Overpass, Arial\"},\"showgrid\":false},\"xaxis3\":{\"anchor\":\"y3\",\"domain\":[0.0,1.0],\"matches\":\"x4\",\"showticklabels\":false,\"showgrid\":false},\"yaxis3\":{\"anchor\":\"x3\",\"domain\":[0.16842105263157892,0.3168421052631578],\"title\":{\"font\":{\"size\":14,\"family\":\"Raleway, PT Sans Narrow, Overpass, Arial\"},\"text\":\"<b>Penalty<br>High</b>\"},\"tickfont\":{\"family\":\"Raleway, PT Sans Narrow, Overpass, Arial\"},\"showgrid\":false},\"xaxis4\":{\"anchor\":\"y4\",\"domain\":[0.0,1.0],\"title\":{\"font\":{\"size\":14,\"family\":\"Raleway, PT Sans Narrow, Overpass, Arial\"},\"text\":\"<b>Appended Multiple Time Windows</b><br>(single window size = 1W)\"},\"showticklabels\":false,\"showgrid\":false},\"yaxis4\":{\"anchor\":\"x4\",\"domain\":[0.0,0.14842105263157893],\"title\":{\"font\":{\"size\":14,\"family\":\"Raleway, PT Sans Narrow, Overpass, Arial\"},\"text\":\"<b>Interval<br>Score</b>\"},\"tickfont\":{\"family\":\"Raleway, PT Sans Narrow, Overpass, Arial\"},\"showgrid\":false},\"margin\":{\"l\":30,\"r\":0,\"t\":30,\"b\":0},\"legend\":{\"font\":{\"size\":12,\"family\":\"Raleway, PT Sans Narrow, Overpass, Arial\"},\"orientation\":\"h\",\"yanchor\":\"bottom\",\"y\":1,\"xanchor\":\"center\",\"x\":0.5},\"width\":1500,\"height\":500,\"plot_bgcolor\":\"rgb(245,245,245)\"},                        {\"responsive\": true}                    ).then(function(){\n",
       "                            \n",
       "var gd = document.getElementById('096f419f-1902-487a-9e81-2e5c45a765fb');\n",
       "var x = new MutationObserver(function (mutations, observer) {{\n",
       "        var display = window.getComputedStyle(gd).display;\n",
       "        if (!display || display === 'none') {{\n",
       "            console.log([gd, 'removed!']);\n",
       "            Plotly.purge(gd);\n",
       "            observer.disconnect();\n",
       "        }}\n",
       "}});\n",
       "\n",
       "// Listen for the removal of the full notebook cells\n",
       "var notebookContainer = gd.closest('#notebook-container');\n",
       "if (notebookContainer) {{\n",
       "    x.observe(notebookContainer, {childList: true});\n",
       "}}\n",
       "\n",
       "// Listen for the clearing of the current output cell\n",
       "var outputEl = gd.closest('.output');\n",
       "if (outputEl) {{\n",
       "    x.observe(outputEl, {childList: true});\n",
       "}}\n",
       "\n",
       "                        })                };                });            </script>        </div>"
      ]
     },
     "metadata": {},
     "output_type": "display_data"
    }
   ],
   "source": [
    "######################################################################\n",
    "# reading measured and prediction files\n",
    "######################################################################\n",
    "predictions = pd.read_hdf(configs[\"exp_dir\"] + \"/predictions.h5\")\n",
    "measured = pd.read_hdf(configs[\"exp_dir\"] + \"/measured.h5\")\n",
    "\n",
    "######################################################################\n",
    "# filter data based on portion defined in configs.json\n",
    "######################################################################\n",
    "plot_comparison_portion_start = configs[\"plot_comparison_portion_start\"]\n",
    "plot_comparison_portion_end = configs[\"plot_comparison_portion_end\"]\n",
    "predictions = predictions.iloc[\n",
    "    int(predictions.shape[0] * plot_comparison_portion_start) : int(\n",
    "        predictions.shape[0] * plot_comparison_portion_end\n",
    "    ),\n",
    "    :,\n",
    "]\n",
    "measured = measured.iloc[\n",
    "    int(measured.shape[0] * plot_comparison_portion_start) : int(\n",
    "        measured.shape[0] * plot_comparison_portion_end\n",
    "    ),\n",
    "    :,\n",
    "]\n",
    "\n",
    "######################################################################\n",
    "# plot setting\n",
    "######################################################################\n",
    "len_tot = len(predictions.columns)\n",
    "target = measured.to_numpy()\n",
    "c_target = \"rgb(228,26,28)\"\n",
    "len_c_list = int((len(configs[\"qs\"]) - 1) / 2)\n",
    "if len_c_list == 1:\n",
    "    c_list = [color_base]\n",
    "else:\n",
    "    c_list = n_colors(color_base, color_accent, len_c_list, colortype=\"rgb\")\n",
    "list_c_low_penalty = c_list.copy()\n",
    "list_c_high_penalty = c_list.copy()\n",
    "list_c_is = c_list.copy()\n",
    "list_c_is.reverse()\n",
    "y_min = 10000000\n",
    "y_max = 0\n",
    "window_target_size = configs[\"S2S_window\"][\"window_width_target\"]\n",
    "resample_interval = configs[\"resample_interval\"]\n",
    "\n",
    "######################################################################\n",
    "# initialize plotting area\n",
    "######################################################################\n",
    "fig = make_subplots(\n",
    "    rows=4,\n",
    "    cols=1,\n",
    "    shared_xaxes=True,\n",
    "    vertical_spacing=0.02,\n",
    "    row_heights=[0.5, 0.15, 0.15, 0.15],\n",
    ")\n",
    "\n",
    "######################################################################\n",
    "# if quantiles were only defined with median\n",
    "######################################################################\n",
    "if len(configs[\"qs\"]) == 1:\n",
    "\n",
    "    # -----------------------------------------------------------------\n",
    "    # extracting median prediction\n",
    "    # -----------------------------------------------------------------\n",
    "    prediction_median = predictions.iloc[:, 0].values\n",
    "\n",
    "    if min(prediction_median.min(), measured.iloc[:, 0].min()) < y_min:\n",
    "        y_min = min(prediction_median.min(), measured.iloc[:, 0].min())\n",
    "\n",
    "    if max(prediction_median.max(), measured.iloc[:, 0].max()) > y_max:\n",
    "        y_max = max(prediction_median.max(), measured.iloc[:, 0].max())\n",
    "\n",
    "######################################################################\n",
    "# if quantiles were defined properly\n",
    "######################################################################\n",
    "else:\n",
    "\n",
    "    # -----------------------------------------------------------------\n",
    "    # extracting median prediction\n",
    "    # -----------------------------------------------------------------\n",
    "    if configs[\"arch_version\"] == \"alfa\":\n",
    "\n",
    "        idx_col_med = len_c_list\n",
    "        prediction_median = predictions.iloc[:, idx_col_med].values\n",
    "        time_ahead = 0\n",
    "\n",
    "    elif configs[\"arch_version\"] == \"bravo\":\n",
    "\n",
    "        idx_col_med_start = len_c_list * configs[\"S2S_stagger\"][\"initial_num\"]\n",
    "        idx_col_med_end = idx_col_med_start + configs[\"S2S_stagger\"][\"initial_num\"]\n",
    "        prediction_median = (\n",
    "            predictions.iloc[:, idx_col_med_start:idx_col_med_end]\n",
    "            .iloc[:, time_ahead]\n",
    "            .values\n",
    "        )\n",
    "\n",
    "    elif configs[\"arch_version\"] == \"charlie\":\n",
    "\n",
    "        window_target_size_count = window_target_size_count = int(\n",
    "            pd.Timedelta(window_target_size) / pd.Timedelta(resample_interval)\n",
    "        )\n",
    "        idx_col_med_start = len_c_list * window_target_size_count\n",
    "        idx_col_med_end = idx_col_med_start + window_target_size_count\n",
    "        prediction_median = (\n",
    "            predictions.iloc[:, idx_col_med_start:idx_col_med_end]\n",
    "            .iloc[:, time_ahead]\n",
    "            .values\n",
    "        )\n",
    "\n",
    "    # -----------------------------------------------------------------\n",
    "    # extracting quantile predictions\n",
    "    # -----------------------------------------------------------------\n",
    "    count_qntl = 0\n",
    "    for qntl in range(0, int((len(configs[\"qs\"]) - 1) / 2)):\n",
    "\n",
    "        # -------------------------------------------------------------\n",
    "        # filtering data for correct quantile\n",
    "        # -------------------------------------------------------------\n",
    "        if configs[\"arch_version\"] == \"alfa\":\n",
    "\n",
    "            idx_col_low_start = qntl\n",
    "            idx_col_high_start = len_tot - idx_col_low_start - 1\n",
    "\n",
    "            prediction_low = predictions.iloc[:, idx_col_low_start].to_numpy()\n",
    "            prediction_high = predictions.iloc[:, idx_col_high_start].to_numpy()\n",
    "\n",
    "        elif configs[\"arch_version\"] == \"bravo\":\n",
    "\n",
    "            idx_col_low_start = qntl * configs[\"S2S_stagger\"][\"initial_num\"]\n",
    "            idx_col_low_end = (\n",
    "                qntl * configs[\"S2S_stagger\"][\"initial_num\"]\n",
    "                + configs[\"S2S_stagger\"][\"initial_num\"]\n",
    "            )\n",
    "            idx_col_high_start = (len_tot - idx_col_low_start) - configs[\n",
    "                \"S2S_stagger\"\n",
    "            ][\"initial_num\"]\n",
    "            idx_col_high_end = len_tot - idx_col_low_start\n",
    "\n",
    "            prediction_low = predictions.iloc[\n",
    "                :, idx_col_low_start:idx_col_low_end\n",
    "            ].to_numpy()\n",
    "            prediction_high = predictions.iloc[\n",
    "                :, idx_col_high_start:idx_col_high_end\n",
    "            ].to_numpy()\n",
    "\n",
    "        elif configs[\"arch_version\"] == \"charlie\":\n",
    "\n",
    "            window_target_size_count = int(\n",
    "                pd.Timedelta(window_target_size) / pd.Timedelta(resample_interval)\n",
    "            )\n",
    "\n",
    "            idx_col_low_start = qntl * window_target_size_count\n",
    "            idx_col_low_end = (\n",
    "                qntl * window_target_size_count + window_target_size_count\n",
    "            )\n",
    "            idx_col_high_start = (\n",
    "                len_tot - idx_col_low_start\n",
    "            ) - window_target_size_count\n",
    "            idx_col_high_end = len_tot - idx_col_low_start\n",
    "\n",
    "            prediction_low = predictions.iloc[\n",
    "                :, idx_col_low_start:idx_col_low_end\n",
    "            ].to_numpy()\n",
    "            prediction_high = predictions.iloc[\n",
    "                :, idx_col_high_start:idx_col_high_end\n",
    "            ].to_numpy()\n",
    "\n",
    "        # -------------------------------------------------------------\n",
    "        # calculating Interval Score details\n",
    "        # -------------------------------------------------------------\n",
    "        alph = 1 - (configs[\"qs\"][-(qntl + 1)] - configs[\"qs\"][qntl])\n",
    "        IS = (\n",
    "            (prediction_high - prediction_low)\n",
    "            + (2 / alph) * (prediction_low - target) * (target < prediction_low)\n",
    "            + (2 / alph) * (target - prediction_high) * (target > prediction_high)\n",
    "        )  # (batches * time) for a single quantile\n",
    "\n",
    "        df_prediction_low = pd.DataFrame(prediction_low)\n",
    "        df_prediction_high = pd.DataFrame(prediction_high)\n",
    "        df_is = pd.DataFrame(IS)\n",
    "\n",
    "        df_viol_l = (df_prediction_low[time_ahead] - measured[time_ahead]) * (\n",
    "            df_prediction_low[time_ahead] > measured[time_ahead]\n",
    "        )\n",
    "        df_viol_u = (measured[time_ahead] - df_prediction_high[time_ahead]) * (\n",
    "            measured[time_ahead] > df_prediction_high[time_ahead]\n",
    "        )\n",
    "\n",
    "        if df_prediction_low[time_ahead].min() < y_min:\n",
    "            y_min = df_prediction_low[time_ahead].min()\n",
    "\n",
    "        if df_prediction_high[time_ahead].max() > y_max:\n",
    "            y_max = df_prediction_high[time_ahead].max()\n",
    "\n",
    "        # -------------------------------------------------------------\n",
    "        # plotting prediction lower bound\n",
    "        # -------------------------------------------------------------\n",
    "        fig.add_trace(\n",
    "            go.Scatter(\n",
    "                y=df_prediction_low[time_ahead],\n",
    "                mode=\"lines\",\n",
    "                name=\"Quantile{}\".format(qntl),\n",
    "                legendgroup=\"Quantile{}\".format(qntl),\n",
    "                showlegend=True,\n",
    "                xaxis=\"x\",\n",
    "                opacity=0.1,\n",
    "                line=dict(color=c_list[qntl], width=0),\n",
    "            ),\n",
    "            row=1,\n",
    "            col=1,\n",
    "        )\n",
    "\n",
    "        # -------------------------------------------------------------\n",
    "        # plotting prediction higher bound\n",
    "        # -------------------------------------------------------------\n",
    "        fig.add_trace(\n",
    "            go.Scatter(\n",
    "                y=df_prediction_high[time_ahead],\n",
    "                mode=\"lines\",\n",
    "                name=\"Quantile{}\".format(qntl),\n",
    "                legendgroup=\"Quantile{}\".format(qntl),\n",
    "                showlegend=False,\n",
    "                xaxis=\"x\",\n",
    "                fill=\"tonexty\",\n",
    "                opacity=0.1,\n",
    "                line=dict(color=c_list[qntl], width=0),\n",
    "            ),\n",
    "            row=1,\n",
    "            col=1,\n",
    "        )\n",
    "\n",
    "        # -------------------------------------------------------------\n",
    "        # plotting prediction lower violation\n",
    "        # -------------------------------------------------------------\n",
    "        fig.add_trace(\n",
    "            go.Scatter(\n",
    "                y=df_viol_l,\n",
    "                mode=\"lines\",\n",
    "                name=\"Quantile{}\".format(qntl),\n",
    "                legendgroup=\"Quantile{}\".format(qntl),\n",
    "                line_color=list_c_low_penalty[count_qntl],\n",
    "                showlegend=False,\n",
    "                xaxis=\"x\",\n",
    "                yaxis=\"y1\",\n",
    "            ),\n",
    "            row=2,\n",
    "            col=1,\n",
    "        )\n",
    "\n",
    "        # -------------------------------------------------------------\n",
    "        # plotting prediction higher violation\n",
    "        # -------------------------------------------------------------\n",
    "        fig.add_trace(\n",
    "            go.Scatter(\n",
    "                y=df_viol_u,\n",
    "                mode=\"lines\",\n",
    "                name=\"Quantile{}\".format(qntl),\n",
    "                legendgroup=\"Quantile{}\".format(qntl),\n",
    "                line_color=list_c_high_penalty[count_qntl],\n",
    "                showlegend=False,\n",
    "                xaxis=\"x\",\n",
    "                yaxis=\"y1\",\n",
    "            ),\n",
    "            row=3,\n",
    "            col=1,\n",
    "        )\n",
    "\n",
    "        # -------------------------------------------------------------\n",
    "        # plotting Interval Score\n",
    "        # -------------------------------------------------------------\n",
    "        fig.add_trace(\n",
    "            go.Scatter(\n",
    "                y=df_is[time_ahead],\n",
    "                mode=\"lines\",\n",
    "                name=\"Quantile{}\".format(qntl),\n",
    "                legendgroup=\"Quantile{}\".format(qntl),\n",
    "                line_color=list_c_is[count_qntl],\n",
    "                showlegend=False,\n",
    "                xaxis=\"x\",\n",
    "            ),\n",
    "            row=4,\n",
    "            col=1,\n",
    "        )\n",
    "\n",
    "        count_qntl += 1\n",
    "\n",
    "######################################################################\n",
    "# plotting median prediction\n",
    "######################################################################\n",
    "fig.add_trace(\n",
    "    go.Scatter(\n",
    "        y=prediction_median,\n",
    "        mode=\"lines\",\n",
    "        name=\"Median\",\n",
    "        legendgroup=\"Median\",\n",
    "        line=dict(color=\"black\", width=1, dash=\"dot\"),\n",
    "        xaxis=\"x\",\n",
    "    ),\n",
    "    row=1,\n",
    "    col=1,\n",
    ")\n",
    "\n",
    "######################################################################\n",
    "# plotting measured target\n",
    "######################################################################\n",
    "fig.add_trace(\n",
    "    go.Scatter(\n",
    "        y=measured[time_ahead],\n",
    "        mode=\"lines\",\n",
    "        name=\"Target\",\n",
    "        legendgroup=\"Target\",\n",
    "        line=dict(color=c_target, width=1),\n",
    "        xaxis=\"x\",\n",
    "    ),\n",
    "    row=1,\n",
    "    col=1,\n",
    ")\n",
    "\n",
    "######################################################################\n",
    "# plot setting\n",
    "######################################################################\n",
    "fig.update_layout(\n",
    "    width=width_graphic,\n",
    "    height=500,\n",
    "    margin=dict(\n",
    "        l=30,\n",
    "        r=0,\n",
    "        t=30,\n",
    "        b=0,\n",
    "    ),\n",
    "    plot_bgcolor=\"rgb(245,245,245)\",\n",
    "    legend=dict(\n",
    "        orientation=\"h\",\n",
    "        yanchor=\"bottom\",\n",
    "        y=1,\n",
    "        xanchor=\"center\",\n",
    "        x=0.5,\n",
    "        font=dict(\n",
    "            size=12,\n",
    "            family=font_family,\n",
    "        ),\n",
    "    ),\n",
    ")\n",
    "\n",
    "fig.update_xaxes(\n",
    "    title=dict(\n",
    "        text=\"<b>Appended Multiple Time Windows</b><br>(single window size = {})\".format(\n",
    "            configs[\"sequential_splicer\"][\"window_width\"]\n",
    "        ),\n",
    "        font=dict(\n",
    "            size=14,\n",
    "            family=font_family,\n",
    "        ),\n",
    "    ),\n",
    "    showticklabels=False,\n",
    "    row=4,\n",
    "    col=1,\n",
    ")\n",
    "\n",
    "fig.update_yaxes(\n",
    "    title=dict(\n",
    "        text=\"<b>Power<br>Consumption<b>\",\n",
    "        font=dict(\n",
    "            size=14,\n",
    "            family=font_family,\n",
    "        ),\n",
    "    ),\n",
    "    tickfont_family=font_family,\n",
    "    range=[y_min * 0.95, y_max * 1.05],\n",
    "    row=1,\n",
    "    col=1,\n",
    ")\n",
    "\n",
    "fig.update_yaxes(\n",
    "    title=dict(\n",
    "        text=\"<b>Penalty<br>Low</b>\",\n",
    "        font=dict(\n",
    "            size=14,\n",
    "            family=font_family,\n",
    "        ),\n",
    "    ),\n",
    "    tickfont_family=font_family,\n",
    "    row=2,\n",
    "    col=1,\n",
    ")\n",
    "\n",
    "fig.update_yaxes(\n",
    "    title=dict(\n",
    "        text=\"<b>Penalty<br>High</b>\",\n",
    "        font=dict(\n",
    "            size=14,\n",
    "            family=font_family,\n",
    "        ),\n",
    "    ),\n",
    "    tickfont_family=font_family,\n",
    "    row=3,\n",
    "    col=1,\n",
    ")\n",
    "\n",
    "fig.update_yaxes(\n",
    "    title=dict(\n",
    "        text=\"<b>Interval<br>Score</b>\",\n",
    "        font=dict(\n",
    "            size=14,\n",
    "            family=font_family,\n",
    "        ),\n",
    "    ),\n",
    "    tickfont_family=font_family,\n",
    "    row=4,\n",
    "    col=1,\n",
    ")\n",
    "\n",
    "fig.update_xaxes(\n",
    "    showgrid=False,\n",
    ")\n",
    "\n",
    "fig.update_yaxes(\n",
    "    showgrid=False,\n",
    ")\n",
    "\n",
    "######################################################################\n",
    "# saving plot to file\n",
    "######################################################################\n",
    "timeseries_comparison = configs[\"exp_dir\"] + \"/Vis_TimeseriesComparisons.svg\"\n",
    "print(\"saving timeseries comparison in {}\".format(timeseries_comparison))\n",
    "pio.write_image(fig, timeseries_comparison)\n",
    "fig.write_html(configs[\"exp_dir\"] + \"/Vis_TimeseriesComparisons.html\")\n",
    "\n",
    "fig.show()"
   ]
  },
  {
   "cell_type": "code",
   "execution_count": null,
   "metadata": {},
   "outputs": [],
   "source": []
  }
 ],
 "metadata": {
  "kernelspec": {
   "display_name": "wattile",
   "language": "python",
   "name": "wattile"
  },
  "language_info": {
   "codemirror_mode": {
    "name": "ipython",
    "version": 3
   },
   "file_extension": ".py",
   "mimetype": "text/x-python",
   "name": "python",
   "nbconvert_exporter": "python",
   "pygments_lexer": "ipython3",
   "version": "3.8.13"
  }
 },
 "nbformat": 4,
 "nbformat_minor": 4
}
