{
 "cells": [
  {
   "cell_type": "code",
   "execution_count": null,
   "metadata": {},
   "outputs": [],
   "source": [
    "import numpy as np\n",
    "import pandas as pd\n",
    "import random\n",
    "import time\n",
    "import math\n",
    "import os\n",
    "import matplotlib.pyplot as plt\n",
    "from scipy.signal import savgol_filter as sg_filter\n",
    "from sklearn.metrics import mean_squared_error\n",
    "from sklearn.metrics import mean_absolute_error\n",
    "import torch\n",
    "import torch.nn as nn\n",
    "import torch.nn.functional as F\n",
    "import torch.optim as optim\n",
    "from torch.nn import init\n",
    "from dateutil import parser\n",
    "from pathlib import Path\n",
    "import json \n",
    "import shutil\n",
    "\n",
    "from wattile.data_reading import read_dataset_from_file\n",
    "from wattile.buildings_processing import correct_predictor_columns, correct_timestamps, rolling_stats, input_data_split\n",
    "from wattile.time_processing import add_processed_time_columns\n",
    "from wattile.models.liangs_model import main as liangs_model\n",
    "PROJECT_DIRECTORY = Path().resolve().parent.parent"
   ]
  },
  {
   "cell_type": "markdown",
   "metadata": {},
   "source": [
    "### reading configs"
   ]
  },
  {
   "cell_type": "code",
   "execution_count": null,
   "metadata": {},
   "outputs": [],
   "source": [
    "\"\"\"\n",
    "For this example, we will be using the default configs.\n",
    "Check out the docs for an explaination of each config.\n",
    "\"\"\"\n",
    "##################################################################################\n",
    "# choose the configs file to use as an input\n",
    "##################################################################################\n",
    "# # main configs file\n",
    "# with open(PROJECT_DIRECTORY / \"wattile\" / \"configs\" / \"configs.json\", \"r\") as f:\n",
    "#     configs = json.load(f)\n",
    "##################################################################################\n",
    "# code testing configs file\n",
    "with open(PROJECT_DIRECTORY / \"tests\" / \"fixtures\" / \"test_configs.json\", \"r\") as f:\n",
    "    configs = json.load(f)\n",
    "##################################################################################\n",
    "\n",
    "exp_dir = PROJECT_DIRECTORY / \"notebooks\" / \"exp_dir\"\n",
    "if exp_dir.exists():\n",
    "    shutil.rmtree(exp_dir)\n",
    "exp_dir.mkdir()\n",
    "\n",
    "configs[\"exp_dir\"] = str(exp_dir)\n",
    "configs[\"num_epochs\"] = 10\n",
    "configs[\"data_dir\"] = str(PROJECT_DIRECTORY / \"tests\" / \"data\")\n",
    "\n",
    "configs"
   ]
  },
  {
   "cell_type": "markdown",
   "metadata": {},
   "source": [
    "### override config if necessary"
   ]
  },
  {
   "cell_type": "code",
   "execution_count": null,
   "metadata": {},
   "outputs": [],
   "source": [
    "# configs[\"feat_stats\"][\"window_width\"] = '15min'\n",
    "# configs[\"feat_stats\"][\"window_increment\"] = '15min'"
   ]
  },
  {
   "cell_type": "markdown",
   "metadata": {},
   "source": [
    "### reading data"
   ]
  },
  {
   "cell_type": "code",
   "execution_count": null,
   "metadata": {},
   "outputs": [],
   "source": [
    "site = configs['building']"
   ]
  },
  {
   "cell_type": "code",
   "execution_count": null,
   "metadata": {},
   "outputs": [],
   "source": [
    "data = read_dataset_from_file(configs)\n",
    "data"
   ]
  },
  {
   "cell_type": "markdown",
   "metadata": {},
   "source": [
    "### feature extraction"
   ]
  },
  {
   "cell_type": "code",
   "execution_count": null,
   "metadata": {},
   "outputs": [],
   "source": [
    "# assert we have the correct columns and order them\n",
    "data = correct_predictor_columns(configs, data)\n",
    "\n",
    "# sort and trim data specified time period\n",
    "data = correct_timestamps(configs, data)\n",
    "\n",
    "# Add time-based features\n",
    "data = add_processed_time_columns(data, configs)\n",
    "\n",
    "# Add statistics features\n",
    "data = rolling_stats(data, configs)\n",
    "\n",
    "data"
   ]
  },
  {
   "cell_type": "code",
   "execution_count": null,
   "metadata": {
    "scrolled": false
   },
   "outputs": [],
   "source": [
    "for loss_function_qs in [0.05, 0.25, 0.50, 0.75, 0.95]: #[0.50]:#[0.05, 0.50, 0.95]:\n",
    "    print(f\"Processing loss function alpha: {loss_function_qs}\")\n",
    "    s, s2, mape_s, mae_s, mae, mape, total_mins, train_loss, test_loss, for_plotting, MU, STD = liangs_model(\n",
    "        data=data,\n",
    "        configs=configs\n",
    "    )"
   ]
  },
  {
   "cell_type": "markdown",
   "metadata": {},
   "source": [
    "### visualization"
   ]
  },
  {
   "cell_type": "code",
   "execution_count": null,
   "metadata": {},
   "outputs": [],
   "source": [
    "q95 = pd.read_csv(f'results/{site}/q0.95.csv')\n",
    "q75 = pd.read_csv(f'results/{site}/q0.75.csv')\n",
    "q50 = pd.read_csv(f'results/{site}/q0.5.csv')\n",
    "q25 = pd.read_csv(f'results/{site}/q0.25.csv')\n",
    "q05 = pd.read_csv(f'results/{site}/q0.05.csv')\n",
    "actual = pd.read_csv(f'results/{site}/actual.csv')"
   ]
  },
  {
   "cell_type": "code",
   "execution_count": null,
   "metadata": {
    "scrolled": true
   },
   "outputs": [],
   "source": [
    "plt.figure(figsize=(15, 4.5))\n",
    "\n",
    "# calculating error\n",
    "y_actual = actual\n",
    "y_predicted = q50.values.flatten()\n",
    "MSE = mean_squared_error(y_actual, y_predicted)\n",
    "RMSE = MSE**0.5\n",
    "CV_RMSE = RMSE/y_actual.mean().values[0]\n",
    "mae = mean_absolute_error(y_actual, y_predicted)\n",
    "\n",
    "plt.title(f'{site} Whole Building Real Power Total Prediction\\nError: MAE:{mae:.2f} kW, CV-RMSE:{CV_RMSE*100:.2f}%')\n",
    "\n",
    "plt.plot(actual, label = 'actual')\n",
    "plt.plot(sg_filter(q95.values.flatten(),5,2), label = 'Q95', color = '#a2a2a2')\n",
    "plt.plot(sg_filter(q75.values.flatten(),5,2), label = 'Q75', color = '#5b5b5b')\n",
    "plt.plot(sg_filter(q50.values.flatten(),5,2), label = 'Medium', color = '#322b2b')\n",
    "plt.plot(sg_filter(q25.values.flatten(),5,2), label = 'Q25', color = '#5b5b5b')\n",
    "plt.plot(sg_filter(q05.values.flatten(),5,2), label = 'Q5', color = '#a2a2a2')\n",
    "\n",
    "\n",
    "plt.legend()\n",
    "\n",
    "# plt.ylim(20,40)\n",
    "# n=0\n",
    "# plt.xlim(1000, 1720)\n",
    "\n",
    "plt.ylabel(f'{site} Whole Building Real Power Total')\n",
    "plt.xlabel('Timesteps, 1 min/unit, showing 33 hours results')\n",
    "\n",
    "plt.show()"
   ]
  }
 ],
 "metadata": {
  "kernelspec": {
   "display_name": "Python 3 (ipykernel)",
   "language": "python",
   "name": "python3"
  },
  "language_info": {
   "codemirror_mode": {
    "name": "ipython",
    "version": 3
   },
   "file_extension": ".py",
   "mimetype": "text/x-python",
   "name": "python",
   "nbconvert_exporter": "python",
   "pygments_lexer": "ipython3",
   "version": "3.8.0"
  }
 },
 "nbformat": 4,
 "nbformat_minor": 4
}
