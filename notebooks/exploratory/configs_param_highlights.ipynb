{
 "cells": [
  {
   "cell_type": "code",
   "execution_count": 1,
   "metadata": {},
   "outputs": [],
   "source": [
    "import numpy as np\n",
    "import pandas as pd\n",
    "import random\n",
    "import time\n",
    "import math\n",
    "import os\n",
    "import matplotlib.pyplot as plt\n",
    "import torch\n",
    "import torch.nn as nn\n",
    "import torch.nn.functional as F\n",
    "import torch.optim as optim\n",
    "from torch.nn import init\n",
    "from dateutil import parser\n",
    "from pathlib import Path\n",
    "import json \n",
    "import shutil\n",
    "import logging\n",
    "logger = logging.getLogger(str(os.getpid()))\n",
    "\n",
    "from wattile.data_reading import read_dataset_from_file\n",
    "from wattile.buildings_processing import correct_predictor_columns, correct_timestamps, resample_or_rolling_stats, timelag_predictors, timelag_predictors_target, roll_predictors_target\n",
    "from wattile.time_processing import add_processed_time_columns\n",
    "PROJECT_DIRECTORY = Path().resolve().parent.parent"
   ]
  },
  {
   "cell_type": "markdown",
   "metadata": {},
   "source": [
    "# reading configs"
   ]
  },
  {
   "cell_type": "code",
   "execution_count": 2,
   "metadata": {},
   "outputs": [
    {
     "data": {
      "text/plain": [
       "{'data_input': {'data_dir': 'C:\\\\Users\\\\JKIM4\\\\Documents\\\\GitHub\\\\intelligentcampus-pred-analytics\\\\..\\\\intelligentcampus-feature-eng\\\\data\\\\Cafe',\n",
       "  'data_config': 'Cafe Config.json',\n",
       "  'start_time': '2018-01-01T00:00:00-07:00',\n",
       "  'end_time': '2022-01-01T00:00:00-07:00',\n",
       "  'predictor_columns': ['SRRL BMS Atmospheric Electric Field',\n",
       "   'SRRL BMS Barometric Pressure',\n",
       "   'SRRL BMS Dew Point Temperature',\n",
       "   'SRRL BMS Diffuse Horizontal Irradiance',\n",
       "   'SRRL BMS Direct Normal Irradiance',\n",
       "   'SRRL BMS Dry Bulb Temperature',\n",
       "   'SRRL BMS DWIR',\n",
       "   'SRRL BMS Global Normal Irradiance',\n",
       "   'SRRL BMS Opaque Cloud Cover',\n",
       "   'SRRL BMS Relative Humidity',\n",
       "   'SRRL BMS Total Cloud Cover',\n",
       "   'SRRL BMS UWIR',\n",
       "   'SRRL BMS UWSW',\n",
       "   'SRRL BMS Wet Bulb Temperature'],\n",
       "  'target_var': 'Cafe Whole Building Real Power Total',\n",
       "  'exp_dir': 'C:\\\\Users\\\\JKIM4\\\\Documents\\\\GitHub\\\\intelligentcampus-pred-analytics\\\\notebooks\\\\exp_dir'},\n",
       " 'data_output': {'exp_dir': 'exp_dir',\n",
       "  'plot_comparison': True,\n",
       "  'plot_comparison_portion_start': 0.0,\n",
       "  'plot_comparison_portion_end': 1.0},\n",
       " 'data_processing': {'feat_time': {'month_of_year': ['sincos'],\n",
       "   'day_of_week': ['binary_reg', 'binary_fuzzy'],\n",
       "   'hour_of_day': ['sincos', 'binary_reg', 'binary_fuzzy'],\n",
       "   'holidays': False},\n",
       "  'resample': {'bin_interval': '15min',\n",
       "   'bin_closed': 'right',\n",
       "   'bin_label': 'right'},\n",
       "  'feat_stats': {'active': True, 'window_width': '15min'},\n",
       "  'feat_timelag': {'lag_interval': '15min', 'lag_count': 24},\n",
       "  'input_output_window': {'window_width_source': '180min',\n",
       "   'window_width_futurecast': '0min',\n",
       "   'window_width_target': '45min'},\n",
       "  'random_seed': 382,\n",
       "  'sequential_splicer': {'active': False, 'window_width': '1W'},\n",
       "  'data_split': '80:20:0',\n",
       "  'train_size_factor': 1},\n",
       " 'learning_algorithm': {'arch_type': 'RNN',\n",
       "  'arch_version': 'alfa',\n",
       "  'arch_type_variant': 'lstm',\n",
       "  'use_case': 'train',\n",
       "  'num_epochs': 100,\n",
       "  'hidden_size': 25,\n",
       "  'num_layers': 1,\n",
       "  'quantiles': [0.025, 0.05, 0.1, 0.25, 0.5, 0.75, 0.9, 0.95, 0.975],\n",
       "  'transformation_method': 'minmaxscale',\n",
       "  'train_batch_size': 26,\n",
       "  'val_batch_size': 1,\n",
       "  'train_val_split': 'Random',\n",
       "  'run_resume': False,\n",
       "  'weight_decay': 0.001,\n",
       "  'lr_config': {'base': 0.001,\n",
       "   'schedule': False,\n",
       "   'type': 'performance',\n",
       "   'factor': 0.1,\n",
       "   'min': 1e-05,\n",
       "   'patience': 30,\n",
       "   'step_size': 75},\n",
       "  'smoothing_alpha': 0.001,\n",
       "  'eval_frequency': 500,\n",
       "  'test_method': 'external'}}"
      ]
     },
     "execution_count": 2,
     "metadata": {},
     "output_type": "execute_result"
    }
   ],
   "source": [
    "\"\"\"\n",
    "For this example, we will be using the default configs.\n",
    "Check out the docs for an explaination of each config.\n",
    "\"\"\"\n",
    "##################################################################################\n",
    "# choose the configs file to use as an input\n",
    "##################################################################################\n",
    "# main configs file\n",
    "with open(PROJECT_DIRECTORY / \"wattile\" / \"configs\" / \"configs.json\", \"r\") as f:\n",
    "    configs = json.load(f)\n",
    "##################################################################################\n",
    "# code testing configs file\n",
    "# with open(PROJECT_DIRECTORY / \"tests\" / \"fixtures\" / \"test_configs.json\", \"r\") as f:\n",
    "#     configs = json.load(f)\n",
    "##################################################################################\n",
    "\n",
    "exp_dir = PROJECT_DIRECTORY / \"notebooks\" / \"exp_dir\"\n",
    "if exp_dir.exists():\n",
    "    shutil.rmtree(exp_dir)\n",
    "exp_dir.mkdir()\n",
    "\n",
    "configs[\"data_input\"][\"exp_dir\"] = str(PROJECT_DIRECTORY / exp_dir)\n",
    "# configs[\"data_input\"][\"data_dir\"] = str(PROJECT_DIRECTORY / \"data\" / \"Synthetic Site\")\n",
    "configs[\"data_input\"][\"data_dir\"] = str(PROJECT_DIRECTORY / \"..\" / \"intelligentcampus-feature-eng\" / \"data\" / \"Cafe\")\n",
    "configs[\"data_input\"][\"data_config\"] = \"Cafe Config.json\"\n",
    "configs[\"data_input\"][\"predictor_columns\"] = [\n",
    "    \"SRRL BMS Atmospheric Electric Field\",\n",
    "    \"SRRL BMS Barometric Pressure\",\n",
    "    \"SRRL BMS Dew Point Temperature\",\n",
    "    \"SRRL BMS Diffuse Horizontal Irradiance\",\n",
    "    \"SRRL BMS Direct Normal Irradiance\",\n",
    "    \"SRRL BMS Dry Bulb Temperature\",\n",
    "    \"SRRL BMS DWIR\",\n",
    "#     \"SRRL BMS Global 40Â° South Irradiance\",\n",
    "#     \"SRRL BMS Global 90Â° South Irradiance\",\n",
    "#     \"SRRL BMS Global Horizontal Irradiance\",\n",
    "#     \"SRRL BMS Global Illuminance\",\n",
    "    \"SRRL BMS Global Normal Irradiance\",\n",
    "#     \"SRRL BMS Global UV Index\",\n",
    "    \"SRRL BMS Opaque Cloud Cover\",\n",
    "#     \"SRRL BMS Peak Wind Speed at 19'\",\n",
    "#     \"SRRL BMS Peak Wind Speed at 6'\",\n",
    "#     \"SRRL BMS Rainfall\",\n",
    "    \"SRRL BMS Relative Humidity\",\n",
    "#     \"SRRL BMS Snow Depth\",\n",
    "    \"SRRL BMS Total Cloud Cover\",\n",
    "    \"SRRL BMS UWIR\",\n",
    "    \"SRRL BMS UWSW\",\n",
    "    \"SRRL BMS Wet Bulb Temperature\",\n",
    "#     \"SRRL BMS Wind Direction at 19'\",\n",
    "#     \"SRRL BMS Wind Direction at 6'\",\n",
    "#     \"SRRL BMS Wind Speed at 19'\",\n",
    "#     \"SRRL BMS Wind Speed at 6'\",\n",
    "]\n",
    "configs[\"data_input\"][\"target_var\"] = \"Cafe Whole Building Real Power Total\"\n",
    "\n",
    "configs"
   ]
  },
  {
   "cell_type": "markdown",
   "metadata": {},
   "source": [
    "# reading data"
   ]
  },
  {
   "cell_type": "code",
   "execution_count": null,
   "metadata": {},
   "outputs": [],
   "source": [
    "configs[\"target_feat_name\"] = [configs[\"data_input\"][\"target_var\"]]\n",
    "data = read_dataset_from_file(configs)\n",
    "data"
   ]
  },
  {
   "cell_type": "markdown",
   "metadata": {},
   "source": [
    "# plot setting"
   ]
  },
  {
   "cell_type": "code",
   "execution_count": 3,
   "metadata": {},
   "outputs": [],
   "source": [
    "import plotly.express as px\n",
    "import plotly.graph_objects as go\n",
    "from plotly.colors import n_colors\n",
    "from plotly.validators.scatter.marker import SymbolValidator\n",
    "import plotly.io as pio\n",
    "os.environ['path'] += r';C:/Users/JKIM4/Downloads/vips-dev-w64-all-8.11.0/vips-dev-8.11/bin'\n",
    "import pyvips\n",
    "import copy\n",
    "import random\n",
    "\n",
    "random.seed(1)\n",
    "path = \"../../tests/fixtures\"\n",
    "colorscale = \"Earth\""
   ]
  },
  {
   "cell_type": "markdown",
   "metadata": {},
   "source": [
    "# data processing 1"
   ]
  },
  {
   "cell_type": "code",
   "execution_count": null,
   "metadata": {},
   "outputs": [],
   "source": [
    "# Add time-based features\n",
    "data = add_processed_time_columns(data, configs)\n",
    "\n",
    "data"
   ]
  },
  {
   "cell_type": "markdown",
   "metadata": {},
   "source": [
    "### feat_time paramters"
   ]
  },
  {
   "cell_type": "code",
   "execution_count": null,
   "metadata": {},
   "outputs": [],
   "source": [
    "list_line = [\"solid\", \"dot\", \"dash\", \"longdash\", \"dashdot\", \"longdashdot\"]\n",
    "\n",
    "n_colors = len(list_line)\n",
    "list_colors = px.colors.sample_colorscale(colorscale, [n/(n_colors -1) for n in range(n_colors)])\n",
    "random.shuffle(copy.deepcopy(list_colors))\n",
    "\n",
    "df_feat_time = data.loc[:, data.columns.str.contains(\"MOY|DOW|HOD\")]\n",
    "df_feat_time\n",
    "\n",
    "dict_daterange = {\n",
    "    \"HOD\":[\"2019-12-02 00:00:00+00:00\",\"2019-12-03 00:00:00+00:00\"],\n",
    "    \"DOW\":[\"2019-12-02 00:00:00+00:00\",\"2019-12-10 00:00:00+00:00\"],\n",
    "    \"MOY\":[\"2019-01-01 00:00:00+00:00\",\"2020-01-01 00:00:00+00:00\"]\n",
    "}\n",
    "\n",
    "dict_feat_include = {\n",
    "    \"HOD\":[\n",
    "        \"sin_HOD\",\n",
    "        \"cos_HOD\",\n",
    "        \"HOD_binary_reg_10\",\n",
    "        \"HOD_binary_reg_20\",\n",
    "        \"HOD_binary_fuzzy_13\",\n",
    "        \"HOD_binary_fuzzy_23\"\n",
    "    ],\n",
    "    \"DOW\":[\n",
    "        \"DOW_binary_reg_0\",\n",
    "        \"DOW_binary_reg_2\",\n",
    "        \"DOW_binary_reg_4\",\n",
    "        \"DOW_binary_fuzzy_1\",\n",
    "        \"DOW_binary_fuzzy_3\",\n",
    "        \"DOW_binary_fuzzy_5\",\n",
    "    ],\n",
    "    \"MOY\":[\n",
    "        \"sin_MOY\",\n",
    "        \"cos_MOY\",\n",
    "    ],\n",
    "}\n",
    "\n",
    "i=0\n",
    "for feat in dict_daterange.keys():\n",
    "    fig = go.Figure()\n",
    "    \n",
    "    df_temp = data.loc[dict_daterange[feat][0]:dict_daterange[feat][1], data.columns.str.contains(feat)][dict_feat_include[feat]]\n",
    "    \n",
    "    if feat == \"DOW\":\n",
    "        df_temp = df_temp.resample(\"60min\").mean()\n",
    "    \n",
    "    i_label = 0\n",
    "    for col in df_temp.columns:\n",
    "        \n",
    "        fig.add_trace(go.Scatter(\n",
    "            mode=\"lines\",\n",
    "            x=df_temp.index.values,\n",
    "            y=df_temp[col].values,\n",
    "            name=col,\n",
    "            line=dict(\n",
    "                color=list_colors[i_label],\n",
    "                dash=list_line[i_label],\n",
    "            ),\n",
    "        ))\n",
    "        \n",
    "        i_label+=1\n",
    "\n",
    "    fig.update_layout(\n",
    "        width=800,\n",
    "        height=250,\n",
    "        margin=dict(\n",
    "            l=0,\n",
    "            r=0,\n",
    "            t=30,\n",
    "            b=0,\n",
    "        ),\n",
    "        plot_bgcolor=\"rgb(245,245,245)\",\n",
    "        legend=dict(\n",
    "            orientation=\"h\",\n",
    "            yanchor=\"bottom\",\n",
    "            y=1,\n",
    "            xanchor=\"center\",\n",
    "            x=0.5,\n",
    "        )\n",
    "    )\n",
    "\n",
    "    filename = \"example_feat_time_{}\".format(feat)\n",
    "    pio.write_image(fig, path + \"/\" + filename + \".svg\")\n",
    "    # https://stackoverflow.com/questions/51450134/how-to-convert-svg-to-png-or-jpeg-in-python\n",
    "    image = pyvips.Image.thumbnail(path + \"/\" + filename + \".svg\", 3000)\n",
    "    image.write_to_file(path + \"/\" + filename + \".png\")\n",
    "\n",
    "    fig.show()\n",
    "    \n",
    "#     if i== 1:\n",
    "#         break\n",
    "        \n",
    "    i+=1"
   ]
  },
  {
   "cell_type": "markdown",
   "metadata": {},
   "source": [
    "### resample paramters"
   ]
  },
  {
   "cell_type": "code",
   "execution_count": 60,
   "metadata": {},
   "outputs": [],
   "source": [
    "configs[\"data_input\"][\"target_var\"] = \"Synthetic Site Electricity Main Total Power\"\n",
    "\n",
    "configs[\"data_processing\"][\"resample\"][\"bin_interval\"] = \"3min\"\n",
    "configs[\"data_processing\"][\"resample\"][\"bin_closed\"] = \"right\"\n",
    "configs[\"data_processing\"][\"resample\"][\"bin_label\"] = \"right\"\n",
    "\n",
    "configs[\"data_processing\"][\"feat_stats\"][\"active\"] = False"
   ]
  },
  {
   "cell_type": "code",
   "execution_count": 61,
   "metadata": {
    "scrolled": true
   },
   "outputs": [
    {
     "data": {
      "text/html": [
       "<div>\n",
       "<style scoped>\n",
       "    .dataframe tbody tr th:only-of-type {\n",
       "        vertical-align: middle;\n",
       "    }\n",
       "\n",
       "    .dataframe tbody tr th {\n",
       "        vertical-align: top;\n",
       "    }\n",
       "\n",
       "    .dataframe thead th {\n",
       "        text-align: right;\n",
       "    }\n",
       "</style>\n",
       "<table border=\"1\" class=\"dataframe\">\n",
       "  <thead>\n",
       "    <tr style=\"text-align: right;\">\n",
       "      <th></th>\n",
       "      <th>var1</th>\n",
       "      <th>Synthetic Site Electricity Main Total Power</th>\n",
       "    </tr>\n",
       "    <tr>\n",
       "      <th>ts</th>\n",
       "      <th></th>\n",
       "      <th></th>\n",
       "    </tr>\n",
       "  </thead>\n",
       "  <tbody>\n",
       "    <tr>\n",
       "      <th>2022-07-12 07:00:00+06:00</th>\n",
       "      <td>NaN</td>\n",
       "      <td>1.0</td>\n",
       "    </tr>\n",
       "    <tr>\n",
       "      <th>2022-07-12 07:01:53+06:00</th>\n",
       "      <td>1.5</td>\n",
       "      <td>1.2</td>\n",
       "    </tr>\n",
       "    <tr>\n",
       "      <th>2022-07-12 07:03:17+06:00</th>\n",
       "      <td>2.2</td>\n",
       "      <td>1.3</td>\n",
       "    </tr>\n",
       "    <tr>\n",
       "      <th>2022-07-12 07:04:02+06:00</th>\n",
       "      <td>0.9</td>\n",
       "      <td>NaN</td>\n",
       "    </tr>\n",
       "    <tr>\n",
       "      <th>2022-07-12 07:04:59+06:00</th>\n",
       "      <td>3.6</td>\n",
       "      <td>2.5</td>\n",
       "    </tr>\n",
       "    <tr>\n",
       "      <th>2022-07-12 07:05:00+06:00</th>\n",
       "      <td>NaN</td>\n",
       "      <td>2.3</td>\n",
       "    </tr>\n",
       "    <tr>\n",
       "      <th>2022-07-12 07:06:22+06:00</th>\n",
       "      <td>3.3</td>\n",
       "      <td>4.3</td>\n",
       "    </tr>\n",
       "    <tr>\n",
       "      <th>2022-07-12 07:09:46+06:00</th>\n",
       "      <td>2.3</td>\n",
       "      <td>3.4</td>\n",
       "    </tr>\n",
       "    <tr>\n",
       "      <th>2022-07-12 07:10:00+06:00</th>\n",
       "      <td>NaN</td>\n",
       "      <td>NaN</td>\n",
       "    </tr>\n",
       "    <tr>\n",
       "      <th>2022-07-12 07:11:02+06:00</th>\n",
       "      <td>1.3</td>\n",
       "      <td>NaN</td>\n",
       "    </tr>\n",
       "    <tr>\n",
       "      <th>2022-07-12 07:13:44+06:00</th>\n",
       "      <td>4.3</td>\n",
       "      <td>6.5</td>\n",
       "    </tr>\n",
       "    <tr>\n",
       "      <th>2022-07-12 07:14:26+06:00</th>\n",
       "      <td>4.1</td>\n",
       "      <td>4.3</td>\n",
       "    </tr>\n",
       "    <tr>\n",
       "      <th>2022-07-12 07:15:00+06:00</th>\n",
       "      <td>NaN</td>\n",
       "      <td>1.1</td>\n",
       "    </tr>\n",
       "  </tbody>\n",
       "</table>\n",
       "</div>"
      ],
      "text/plain": [
       "                           var1  Synthetic Site Electricity Main Total Power\n",
       "ts                                                                          \n",
       "2022-07-12 07:00:00+06:00   NaN                                          1.0\n",
       "2022-07-12 07:01:53+06:00   1.5                                          1.2\n",
       "2022-07-12 07:03:17+06:00   2.2                                          1.3\n",
       "2022-07-12 07:04:02+06:00   0.9                                          NaN\n",
       "2022-07-12 07:04:59+06:00   3.6                                          2.5\n",
       "2022-07-12 07:05:00+06:00   NaN                                          2.3\n",
       "2022-07-12 07:06:22+06:00   3.3                                          4.3\n",
       "2022-07-12 07:09:46+06:00   2.3                                          3.4\n",
       "2022-07-12 07:10:00+06:00   NaN                                          NaN\n",
       "2022-07-12 07:11:02+06:00   1.3                                          NaN\n",
       "2022-07-12 07:13:44+06:00   4.3                                          6.5\n",
       "2022-07-12 07:14:26+06:00   4.1                                          4.3\n",
       "2022-07-12 07:15:00+06:00   NaN                                          1.1"
      ]
     },
     "execution_count": 61,
     "metadata": {},
     "output_type": "execute_result"
    }
   ],
   "source": [
    "df_test = pd.read_csv(\"../../tests/fixtures/rolling_stats_input_w_target.csv\", index_col=0)\n",
    "df_test.index = pd.to_datetime(df_test.index)\n",
    "df_test = df_test.loc[:, df_test.columns!=\"var2\"]\n",
    "df_test"
   ]
  },
  {
   "cell_type": "code",
   "execution_count": 62,
   "metadata": {},
   "outputs": [
    {
     "data": {
      "text/html": [
       "<div>\n",
       "<style scoped>\n",
       "    .dataframe tbody tr th:only-of-type {\n",
       "        vertical-align: middle;\n",
       "    }\n",
       "\n",
       "    .dataframe tbody tr th {\n",
       "        vertical-align: top;\n",
       "    }\n",
       "\n",
       "    .dataframe thead th {\n",
       "        text-align: right;\n",
       "    }\n",
       "</style>\n",
       "<table border=\"1\" class=\"dataframe\">\n",
       "  <thead>\n",
       "    <tr style=\"text-align: right;\">\n",
       "      <th></th>\n",
       "      <th>var1_resampled | 3min interval | right closed | right label</th>\n",
       "      <th>Synthetic Site Electricity Main Total Power_resampled | 3min interval | right closed | right label</th>\n",
       "    </tr>\n",
       "    <tr>\n",
       "      <th>ts</th>\n",
       "      <th></th>\n",
       "      <th></th>\n",
       "    </tr>\n",
       "  </thead>\n",
       "  <tbody>\n",
       "    <tr>\n",
       "      <th>2022-07-12 07:00:00+06:00</th>\n",
       "      <td>NaN</td>\n",
       "      <td>1.0</td>\n",
       "    </tr>\n",
       "    <tr>\n",
       "      <th>2022-07-12 07:03:00+06:00</th>\n",
       "      <td>1.5</td>\n",
       "      <td>1.2</td>\n",
       "    </tr>\n",
       "    <tr>\n",
       "      <th>2022-07-12 07:06:00+06:00</th>\n",
       "      <td>3.6</td>\n",
       "      <td>2.3</td>\n",
       "    </tr>\n",
       "    <tr>\n",
       "      <th>2022-07-12 07:09:00+06:00</th>\n",
       "      <td>3.3</td>\n",
       "      <td>4.3</td>\n",
       "    </tr>\n",
       "    <tr>\n",
       "      <th>2022-07-12 07:12:00+06:00</th>\n",
       "      <td>1.3</td>\n",
       "      <td>3.4</td>\n",
       "    </tr>\n",
       "    <tr>\n",
       "      <th>2022-07-12 07:15:00+06:00</th>\n",
       "      <td>4.1</td>\n",
       "      <td>1.1</td>\n",
       "    </tr>\n",
       "  </tbody>\n",
       "</table>\n",
       "</div>"
      ],
      "text/plain": [
       "                           var1_resampled | 3min interval | right closed | right label  \\\n",
       "ts                                                                                       \n",
       "2022-07-12 07:00:00+06:00                                                NaN             \n",
       "2022-07-12 07:03:00+06:00                                                1.5             \n",
       "2022-07-12 07:06:00+06:00                                                3.6             \n",
       "2022-07-12 07:09:00+06:00                                                3.3             \n",
       "2022-07-12 07:12:00+06:00                                                1.3             \n",
       "2022-07-12 07:15:00+06:00                                                4.1             \n",
       "\n",
       "                           Synthetic Site Electricity Main Total Power_resampled | 3min interval | right closed | right label  \n",
       "ts                                                                                                                             \n",
       "2022-07-12 07:00:00+06:00                                                1.0                                                   \n",
       "2022-07-12 07:03:00+06:00                                                1.2                                                   \n",
       "2022-07-12 07:06:00+06:00                                                2.3                                                   \n",
       "2022-07-12 07:09:00+06:00                                                4.3                                                   \n",
       "2022-07-12 07:12:00+06:00                                                3.4                                                   \n",
       "2022-07-12 07:15:00+06:00                                                1.1                                                   "
      ]
     },
     "execution_count": 62,
     "metadata": {},
     "output_type": "execute_result"
    }
   ],
   "source": [
    "df_resample = resample_or_rolling_stats(df_test, configs)\n",
    "df_resample = df_resample.add_suffix(\"_resampled | {} interval | {} closed | {} label\".format(\n",
    "    configs[\"data_processing\"][\"resample\"][\"bin_interval\"],\n",
    "    configs[\"data_processing\"][\"resample\"][\"bin_closed\"],\n",
    "    configs[\"data_processing\"][\"resample\"][\"bin_label\"]\n",
    "))\n",
    "df_resample"
   ]
  },
  {
   "cell_type": "code",
   "execution_count": 63,
   "metadata": {},
   "outputs": [],
   "source": [
    "df_test = df_test.loc[:, df_test.columns==\"var1\"]\n",
    "df_resample = df_resample.loc[:, df_resample.columns.str.contains(\"var1\")]"
   ]
  },
  {
   "cell_type": "code",
   "execution_count": 64,
   "metadata": {},
   "outputs": [
    {
     "data": {
      "application/vnd.plotly.v1+json": {
       "config": {
        "plotlyServerURL": "https://plot.ly"
       },
       "data": [
        {
         "line": {
          "color": "rgb(161, 105, 40)"
         },
         "marker": {
          "line": {
           "width": 2
          },
          "size": 15,
          "symbol": "circle-open-dot"
         },
         "mode": "markers",
         "name": "var1",
         "type": "scatter",
         "x": [
          "2022-07-12T01:00:00.000000000",
          "2022-07-12T01:01:53.000000000",
          "2022-07-12T01:03:17.000000000",
          "2022-07-12T01:04:02.000000000",
          "2022-07-12T01:04:59.000000000",
          "2022-07-12T01:05:00.000000000",
          "2022-07-12T01:06:22.000000000",
          "2022-07-12T01:09:46.000000000",
          "2022-07-12T01:10:00.000000000",
          "2022-07-12T01:11:02.000000000",
          "2022-07-12T01:13:44.000000000",
          "2022-07-12T01:14:26.000000000",
          "2022-07-12T01:15:00.000000000"
         ],
         "y": [
          null,
          1.5,
          2.2,
          0.9,
          3.6,
          null,
          3.3,
          2.3,
          null,
          1.3,
          4.3,
          4.1,
          null
         ]
        },
        {
         "line": {
          "color": "rgb(40, 135, 161)"
         },
         "marker": {
          "line": {
           "width": 2
          },
          "size": 10,
          "symbol": "square-open-dot"
         },
         "mode": "markers",
         "name": "var1_resampled | 3min interval | right closed | right label",
         "type": "scatter",
         "x": [
          "2022-07-12T01:00:00.000000000",
          "2022-07-12T01:03:00.000000000",
          "2022-07-12T01:06:00.000000000",
          "2022-07-12T01:09:00.000000000",
          "2022-07-12T01:12:00.000000000",
          "2022-07-12T01:15:00.000000000"
         ],
         "y": [
          null,
          1.5,
          3.6,
          3.3,
          1.3,
          4.1
         ]
        }
       ],
       "layout": {
        "height": 250,
        "legend": {
         "orientation": "h",
         "x": 0.5,
         "xanchor": "center",
         "y": 1,
         "yanchor": "bottom"
        },
        "margin": {
         "b": 0,
         "l": 0,
         "r": 0,
         "t": 30
        },
        "plot_bgcolor": "rgb(245,245,245)",
        "template": {
         "data": {
          "bar": [
           {
            "error_x": {
             "color": "#2a3f5f"
            },
            "error_y": {
             "color": "#2a3f5f"
            },
            "marker": {
             "line": {
              "color": "#E5ECF6",
              "width": 0.5
             },
             "pattern": {
              "fillmode": "overlay",
              "size": 10,
              "solidity": 0.2
             }
            },
            "type": "bar"
           }
          ],
          "barpolar": [
           {
            "marker": {
             "line": {
              "color": "#E5ECF6",
              "width": 0.5
             },
             "pattern": {
              "fillmode": "overlay",
              "size": 10,
              "solidity": 0.2
             }
            },
            "type": "barpolar"
           }
          ],
          "carpet": [
           {
            "aaxis": {
             "endlinecolor": "#2a3f5f",
             "gridcolor": "white",
             "linecolor": "white",
             "minorgridcolor": "white",
             "startlinecolor": "#2a3f5f"
            },
            "baxis": {
             "endlinecolor": "#2a3f5f",
             "gridcolor": "white",
             "linecolor": "white",
             "minorgridcolor": "white",
             "startlinecolor": "#2a3f5f"
            },
            "type": "carpet"
           }
          ],
          "choropleth": [
           {
            "colorbar": {
             "outlinewidth": 0,
             "ticks": ""
            },
            "type": "choropleth"
           }
          ],
          "contour": [
           {
            "colorbar": {
             "outlinewidth": 0,
             "ticks": ""
            },
            "colorscale": [
             [
              0,
              "#0d0887"
             ],
             [
              0.1111111111111111,
              "#46039f"
             ],
             [
              0.2222222222222222,
              "#7201a8"
             ],
             [
              0.3333333333333333,
              "#9c179e"
             ],
             [
              0.4444444444444444,
              "#bd3786"
             ],
             [
              0.5555555555555556,
              "#d8576b"
             ],
             [
              0.6666666666666666,
              "#ed7953"
             ],
             [
              0.7777777777777778,
              "#fb9f3a"
             ],
             [
              0.8888888888888888,
              "#fdca26"
             ],
             [
              1,
              "#f0f921"
             ]
            ],
            "type": "contour"
           }
          ],
          "contourcarpet": [
           {
            "colorbar": {
             "outlinewidth": 0,
             "ticks": ""
            },
            "type": "contourcarpet"
           }
          ],
          "heatmap": [
           {
            "colorbar": {
             "outlinewidth": 0,
             "ticks": ""
            },
            "colorscale": [
             [
              0,
              "#0d0887"
             ],
             [
              0.1111111111111111,
              "#46039f"
             ],
             [
              0.2222222222222222,
              "#7201a8"
             ],
             [
              0.3333333333333333,
              "#9c179e"
             ],
             [
              0.4444444444444444,
              "#bd3786"
             ],
             [
              0.5555555555555556,
              "#d8576b"
             ],
             [
              0.6666666666666666,
              "#ed7953"
             ],
             [
              0.7777777777777778,
              "#fb9f3a"
             ],
             [
              0.8888888888888888,
              "#fdca26"
             ],
             [
              1,
              "#f0f921"
             ]
            ],
            "type": "heatmap"
           }
          ],
          "heatmapgl": [
           {
            "colorbar": {
             "outlinewidth": 0,
             "ticks": ""
            },
            "colorscale": [
             [
              0,
              "#0d0887"
             ],
             [
              0.1111111111111111,
              "#46039f"
             ],
             [
              0.2222222222222222,
              "#7201a8"
             ],
             [
              0.3333333333333333,
              "#9c179e"
             ],
             [
              0.4444444444444444,
              "#bd3786"
             ],
             [
              0.5555555555555556,
              "#d8576b"
             ],
             [
              0.6666666666666666,
              "#ed7953"
             ],
             [
              0.7777777777777778,
              "#fb9f3a"
             ],
             [
              0.8888888888888888,
              "#fdca26"
             ],
             [
              1,
              "#f0f921"
             ]
            ],
            "type": "heatmapgl"
           }
          ],
          "histogram": [
           {
            "marker": {
             "pattern": {
              "fillmode": "overlay",
              "size": 10,
              "solidity": 0.2
             }
            },
            "type": "histogram"
           }
          ],
          "histogram2d": [
           {
            "colorbar": {
             "outlinewidth": 0,
             "ticks": ""
            },
            "colorscale": [
             [
              0,
              "#0d0887"
             ],
             [
              0.1111111111111111,
              "#46039f"
             ],
             [
              0.2222222222222222,
              "#7201a8"
             ],
             [
              0.3333333333333333,
              "#9c179e"
             ],
             [
              0.4444444444444444,
              "#bd3786"
             ],
             [
              0.5555555555555556,
              "#d8576b"
             ],
             [
              0.6666666666666666,
              "#ed7953"
             ],
             [
              0.7777777777777778,
              "#fb9f3a"
             ],
             [
              0.8888888888888888,
              "#fdca26"
             ],
             [
              1,
              "#f0f921"
             ]
            ],
            "type": "histogram2d"
           }
          ],
          "histogram2dcontour": [
           {
            "colorbar": {
             "outlinewidth": 0,
             "ticks": ""
            },
            "colorscale": [
             [
              0,
              "#0d0887"
             ],
             [
              0.1111111111111111,
              "#46039f"
             ],
             [
              0.2222222222222222,
              "#7201a8"
             ],
             [
              0.3333333333333333,
              "#9c179e"
             ],
             [
              0.4444444444444444,
              "#bd3786"
             ],
             [
              0.5555555555555556,
              "#d8576b"
             ],
             [
              0.6666666666666666,
              "#ed7953"
             ],
             [
              0.7777777777777778,
              "#fb9f3a"
             ],
             [
              0.8888888888888888,
              "#fdca26"
             ],
             [
              1,
              "#f0f921"
             ]
            ],
            "type": "histogram2dcontour"
           }
          ],
          "mesh3d": [
           {
            "colorbar": {
             "outlinewidth": 0,
             "ticks": ""
            },
            "type": "mesh3d"
           }
          ],
          "parcoords": [
           {
            "line": {
             "colorbar": {
              "outlinewidth": 0,
              "ticks": ""
             }
            },
            "type": "parcoords"
           }
          ],
          "pie": [
           {
            "automargin": true,
            "type": "pie"
           }
          ],
          "scatter": [
           {
            "fillpattern": {
             "fillmode": "overlay",
             "size": 10,
             "solidity": 0.2
            },
            "type": "scatter"
           }
          ],
          "scatter3d": [
           {
            "line": {
             "colorbar": {
              "outlinewidth": 0,
              "ticks": ""
             }
            },
            "marker": {
             "colorbar": {
              "outlinewidth": 0,
              "ticks": ""
             }
            },
            "type": "scatter3d"
           }
          ],
          "scattercarpet": [
           {
            "marker": {
             "colorbar": {
              "outlinewidth": 0,
              "ticks": ""
             }
            },
            "type": "scattercarpet"
           }
          ],
          "scattergeo": [
           {
            "marker": {
             "colorbar": {
              "outlinewidth": 0,
              "ticks": ""
             }
            },
            "type": "scattergeo"
           }
          ],
          "scattergl": [
           {
            "marker": {
             "colorbar": {
              "outlinewidth": 0,
              "ticks": ""
             }
            },
            "type": "scattergl"
           }
          ],
          "scattermapbox": [
           {
            "marker": {
             "colorbar": {
              "outlinewidth": 0,
              "ticks": ""
             }
            },
            "type": "scattermapbox"
           }
          ],
          "scatterpolar": [
           {
            "marker": {
             "colorbar": {
              "outlinewidth": 0,
              "ticks": ""
             }
            },
            "type": "scatterpolar"
           }
          ],
          "scatterpolargl": [
           {
            "marker": {
             "colorbar": {
              "outlinewidth": 0,
              "ticks": ""
             }
            },
            "type": "scatterpolargl"
           }
          ],
          "scatterternary": [
           {
            "marker": {
             "colorbar": {
              "outlinewidth": 0,
              "ticks": ""
             }
            },
            "type": "scatterternary"
           }
          ],
          "surface": [
           {
            "colorbar": {
             "outlinewidth": 0,
             "ticks": ""
            },
            "colorscale": [
             [
              0,
              "#0d0887"
             ],
             [
              0.1111111111111111,
              "#46039f"
             ],
             [
              0.2222222222222222,
              "#7201a8"
             ],
             [
              0.3333333333333333,
              "#9c179e"
             ],
             [
              0.4444444444444444,
              "#bd3786"
             ],
             [
              0.5555555555555556,
              "#d8576b"
             ],
             [
              0.6666666666666666,
              "#ed7953"
             ],
             [
              0.7777777777777778,
              "#fb9f3a"
             ],
             [
              0.8888888888888888,
              "#fdca26"
             ],
             [
              1,
              "#f0f921"
             ]
            ],
            "type": "surface"
           }
          ],
          "table": [
           {
            "cells": {
             "fill": {
              "color": "#EBF0F8"
             },
             "line": {
              "color": "white"
             }
            },
            "header": {
             "fill": {
              "color": "#C8D4E3"
             },
             "line": {
              "color": "white"
             }
            },
            "type": "table"
           }
          ]
         },
         "layout": {
          "annotationdefaults": {
           "arrowcolor": "#2a3f5f",
           "arrowhead": 0,
           "arrowwidth": 1
          },
          "autotypenumbers": "strict",
          "coloraxis": {
           "colorbar": {
            "outlinewidth": 0,
            "ticks": ""
           }
          },
          "colorscale": {
           "diverging": [
            [
             0,
             "#8e0152"
            ],
            [
             0.1,
             "#c51b7d"
            ],
            [
             0.2,
             "#de77ae"
            ],
            [
             0.3,
             "#f1b6da"
            ],
            [
             0.4,
             "#fde0ef"
            ],
            [
             0.5,
             "#f7f7f7"
            ],
            [
             0.6,
             "#e6f5d0"
            ],
            [
             0.7,
             "#b8e186"
            ],
            [
             0.8,
             "#7fbc41"
            ],
            [
             0.9,
             "#4d9221"
            ],
            [
             1,
             "#276419"
            ]
           ],
           "sequential": [
            [
             0,
             "#0d0887"
            ],
            [
             0.1111111111111111,
             "#46039f"
            ],
            [
             0.2222222222222222,
             "#7201a8"
            ],
            [
             0.3333333333333333,
             "#9c179e"
            ],
            [
             0.4444444444444444,
             "#bd3786"
            ],
            [
             0.5555555555555556,
             "#d8576b"
            ],
            [
             0.6666666666666666,
             "#ed7953"
            ],
            [
             0.7777777777777778,
             "#fb9f3a"
            ],
            [
             0.8888888888888888,
             "#fdca26"
            ],
            [
             1,
             "#f0f921"
            ]
           ],
           "sequentialminus": [
            [
             0,
             "#0d0887"
            ],
            [
             0.1111111111111111,
             "#46039f"
            ],
            [
             0.2222222222222222,
             "#7201a8"
            ],
            [
             0.3333333333333333,
             "#9c179e"
            ],
            [
             0.4444444444444444,
             "#bd3786"
            ],
            [
             0.5555555555555556,
             "#d8576b"
            ],
            [
             0.6666666666666666,
             "#ed7953"
            ],
            [
             0.7777777777777778,
             "#fb9f3a"
            ],
            [
             0.8888888888888888,
             "#fdca26"
            ],
            [
             1,
             "#f0f921"
            ]
           ]
          },
          "colorway": [
           "#636efa",
           "#EF553B",
           "#00cc96",
           "#ab63fa",
           "#FFA15A",
           "#19d3f3",
           "#FF6692",
           "#B6E880",
           "#FF97FF",
           "#FECB52"
          ],
          "font": {
           "color": "#2a3f5f"
          },
          "geo": {
           "bgcolor": "white",
           "lakecolor": "white",
           "landcolor": "#E5ECF6",
           "showlakes": true,
           "showland": true,
           "subunitcolor": "white"
          },
          "hoverlabel": {
           "align": "left"
          },
          "hovermode": "closest",
          "mapbox": {
           "style": "light"
          },
          "paper_bgcolor": "white",
          "plot_bgcolor": "#E5ECF6",
          "polar": {
           "angularaxis": {
            "gridcolor": "white",
            "linecolor": "white",
            "ticks": ""
           },
           "bgcolor": "#E5ECF6",
           "radialaxis": {
            "gridcolor": "white",
            "linecolor": "white",
            "ticks": ""
           }
          },
          "scene": {
           "xaxis": {
            "backgroundcolor": "#E5ECF6",
            "gridcolor": "white",
            "gridwidth": 2,
            "linecolor": "white",
            "showbackground": true,
            "ticks": "",
            "zerolinecolor": "white"
           },
           "yaxis": {
            "backgroundcolor": "#E5ECF6",
            "gridcolor": "white",
            "gridwidth": 2,
            "linecolor": "white",
            "showbackground": true,
            "ticks": "",
            "zerolinecolor": "white"
           },
           "zaxis": {
            "backgroundcolor": "#E5ECF6",
            "gridcolor": "white",
            "gridwidth": 2,
            "linecolor": "white",
            "showbackground": true,
            "ticks": "",
            "zerolinecolor": "white"
           }
          },
          "shapedefaults": {
           "line": {
            "color": "#2a3f5f"
           }
          },
          "ternary": {
           "aaxis": {
            "gridcolor": "white",
            "linecolor": "white",
            "ticks": ""
           },
           "baxis": {
            "gridcolor": "white",
            "linecolor": "white",
            "ticks": ""
           },
           "bgcolor": "#E5ECF6",
           "caxis": {
            "gridcolor": "white",
            "linecolor": "white",
            "ticks": ""
           }
          },
          "title": {
           "x": 0.05
          },
          "xaxis": {
           "automargin": true,
           "gridcolor": "white",
           "linecolor": "white",
           "ticks": "",
           "title": {
            "standoff": 15
           },
           "zerolinecolor": "white",
           "zerolinewidth": 2
          },
          "yaxis": {
           "automargin": true,
           "gridcolor": "white",
           "linecolor": "white",
           "ticks": "",
           "title": {
            "standoff": 15
           },
           "zerolinecolor": "white",
           "zerolinewidth": 2
          }
         }
        },
        "width": 800,
        "xaxis": {
         "dtick": 60000,
         "gridwidth": 2,
         "range": [
          "2022-07-12 00:59:00+06:00",
          "2022-07-12 01:16:00+06:00"
         ],
         "showgrid": true
        }
       }
      },
      "text/html": [
       "<div>                            <div id=\"5b19c256-627d-41c7-86ef-946b05fe432a\" class=\"plotly-graph-div\" style=\"height:250px; width:800px;\"></div>            <script type=\"text/javascript\">                require([\"plotly\"], function(Plotly) {                    window.PLOTLYENV=window.PLOTLYENV || {};                                    if (document.getElementById(\"5b19c256-627d-41c7-86ef-946b05fe432a\")) {                    Plotly.newPlot(                        \"5b19c256-627d-41c7-86ef-946b05fe432a\",                        [{\"line\":{\"color\":\"rgb(161, 105, 40)\"},\"marker\":{\"line\":{\"width\":2},\"size\":15,\"symbol\":\"circle-open-dot\"},\"mode\":\"markers\",\"name\":\"var1\",\"x\":[\"2022-07-12T01:00:00.000000000\",\"2022-07-12T01:01:53.000000000\",\"2022-07-12T01:03:17.000000000\",\"2022-07-12T01:04:02.000000000\",\"2022-07-12T01:04:59.000000000\",\"2022-07-12T01:05:00.000000000\",\"2022-07-12T01:06:22.000000000\",\"2022-07-12T01:09:46.000000000\",\"2022-07-12T01:10:00.000000000\",\"2022-07-12T01:11:02.000000000\",\"2022-07-12T01:13:44.000000000\",\"2022-07-12T01:14:26.000000000\",\"2022-07-12T01:15:00.000000000\"],\"y\":[null,1.5,2.2,0.9,3.6,null,3.3,2.3,null,1.3,4.3,4.1,null],\"type\":\"scatter\"},{\"line\":{\"color\":\"rgb(40, 135, 161)\"},\"marker\":{\"line\":{\"width\":2},\"size\":10,\"symbol\":\"square-open-dot\"},\"mode\":\"markers\",\"name\":\"var1_resampled | 3min interval | right closed | right label\",\"x\":[\"2022-07-12T01:00:00.000000000\",\"2022-07-12T01:03:00.000000000\",\"2022-07-12T01:06:00.000000000\",\"2022-07-12T01:09:00.000000000\",\"2022-07-12T01:12:00.000000000\",\"2022-07-12T01:15:00.000000000\"],\"y\":[null,1.5,3.6,3.3,1.3,4.1],\"type\":\"scatter\"}],                        {\"template\":{\"data\":{\"histogram2dcontour\":[{\"type\":\"histogram2dcontour\",\"colorbar\":{\"outlinewidth\":0,\"ticks\":\"\"},\"colorscale\":[[0.0,\"#0d0887\"],[0.1111111111111111,\"#46039f\"],[0.2222222222222222,\"#7201a8\"],[0.3333333333333333,\"#9c179e\"],[0.4444444444444444,\"#bd3786\"],[0.5555555555555556,\"#d8576b\"],[0.6666666666666666,\"#ed7953\"],[0.7777777777777778,\"#fb9f3a\"],[0.8888888888888888,\"#fdca26\"],[1.0,\"#f0f921\"]]}],\"choropleth\":[{\"type\":\"choropleth\",\"colorbar\":{\"outlinewidth\":0,\"ticks\":\"\"}}],\"histogram2d\":[{\"type\":\"histogram2d\",\"colorbar\":{\"outlinewidth\":0,\"ticks\":\"\"},\"colorscale\":[[0.0,\"#0d0887\"],[0.1111111111111111,\"#46039f\"],[0.2222222222222222,\"#7201a8\"],[0.3333333333333333,\"#9c179e\"],[0.4444444444444444,\"#bd3786\"],[0.5555555555555556,\"#d8576b\"],[0.6666666666666666,\"#ed7953\"],[0.7777777777777778,\"#fb9f3a\"],[0.8888888888888888,\"#fdca26\"],[1.0,\"#f0f921\"]]}],\"heatmap\":[{\"type\":\"heatmap\",\"colorbar\":{\"outlinewidth\":0,\"ticks\":\"\"},\"colorscale\":[[0.0,\"#0d0887\"],[0.1111111111111111,\"#46039f\"],[0.2222222222222222,\"#7201a8\"],[0.3333333333333333,\"#9c179e\"],[0.4444444444444444,\"#bd3786\"],[0.5555555555555556,\"#d8576b\"],[0.6666666666666666,\"#ed7953\"],[0.7777777777777778,\"#fb9f3a\"],[0.8888888888888888,\"#fdca26\"],[1.0,\"#f0f921\"]]}],\"heatmapgl\":[{\"type\":\"heatmapgl\",\"colorbar\":{\"outlinewidth\":0,\"ticks\":\"\"},\"colorscale\":[[0.0,\"#0d0887\"],[0.1111111111111111,\"#46039f\"],[0.2222222222222222,\"#7201a8\"],[0.3333333333333333,\"#9c179e\"],[0.4444444444444444,\"#bd3786\"],[0.5555555555555556,\"#d8576b\"],[0.6666666666666666,\"#ed7953\"],[0.7777777777777778,\"#fb9f3a\"],[0.8888888888888888,\"#fdca26\"],[1.0,\"#f0f921\"]]}],\"contourcarpet\":[{\"type\":\"contourcarpet\",\"colorbar\":{\"outlinewidth\":0,\"ticks\":\"\"}}],\"contour\":[{\"type\":\"contour\",\"colorbar\":{\"outlinewidth\":0,\"ticks\":\"\"},\"colorscale\":[[0.0,\"#0d0887\"],[0.1111111111111111,\"#46039f\"],[0.2222222222222222,\"#7201a8\"],[0.3333333333333333,\"#9c179e\"],[0.4444444444444444,\"#bd3786\"],[0.5555555555555556,\"#d8576b\"],[0.6666666666666666,\"#ed7953\"],[0.7777777777777778,\"#fb9f3a\"],[0.8888888888888888,\"#fdca26\"],[1.0,\"#f0f921\"]]}],\"surface\":[{\"type\":\"surface\",\"colorbar\":{\"outlinewidth\":0,\"ticks\":\"\"},\"colorscale\":[[0.0,\"#0d0887\"],[0.1111111111111111,\"#46039f\"],[0.2222222222222222,\"#7201a8\"],[0.3333333333333333,\"#9c179e\"],[0.4444444444444444,\"#bd3786\"],[0.5555555555555556,\"#d8576b\"],[0.6666666666666666,\"#ed7953\"],[0.7777777777777778,\"#fb9f3a\"],[0.8888888888888888,\"#fdca26\"],[1.0,\"#f0f921\"]]}],\"mesh3d\":[{\"type\":\"mesh3d\",\"colorbar\":{\"outlinewidth\":0,\"ticks\":\"\"}}],\"scatter\":[{\"fillpattern\":{\"fillmode\":\"overlay\",\"size\":10,\"solidity\":0.2},\"type\":\"scatter\"}],\"parcoords\":[{\"type\":\"parcoords\",\"line\":{\"colorbar\":{\"outlinewidth\":0,\"ticks\":\"\"}}}],\"scatterpolargl\":[{\"type\":\"scatterpolargl\",\"marker\":{\"colorbar\":{\"outlinewidth\":0,\"ticks\":\"\"}}}],\"bar\":[{\"error_x\":{\"color\":\"#2a3f5f\"},\"error_y\":{\"color\":\"#2a3f5f\"},\"marker\":{\"line\":{\"color\":\"#E5ECF6\",\"width\":0.5},\"pattern\":{\"fillmode\":\"overlay\",\"size\":10,\"solidity\":0.2}},\"type\":\"bar\"}],\"scattergeo\":[{\"type\":\"scattergeo\",\"marker\":{\"colorbar\":{\"outlinewidth\":0,\"ticks\":\"\"}}}],\"scatterpolar\":[{\"type\":\"scatterpolar\",\"marker\":{\"colorbar\":{\"outlinewidth\":0,\"ticks\":\"\"}}}],\"histogram\":[{\"marker\":{\"pattern\":{\"fillmode\":\"overlay\",\"size\":10,\"solidity\":0.2}},\"type\":\"histogram\"}],\"scattergl\":[{\"type\":\"scattergl\",\"marker\":{\"colorbar\":{\"outlinewidth\":0,\"ticks\":\"\"}}}],\"scatter3d\":[{\"type\":\"scatter3d\",\"line\":{\"colorbar\":{\"outlinewidth\":0,\"ticks\":\"\"}},\"marker\":{\"colorbar\":{\"outlinewidth\":0,\"ticks\":\"\"}}}],\"scattermapbox\":[{\"type\":\"scattermapbox\",\"marker\":{\"colorbar\":{\"outlinewidth\":0,\"ticks\":\"\"}}}],\"scatterternary\":[{\"type\":\"scatterternary\",\"marker\":{\"colorbar\":{\"outlinewidth\":0,\"ticks\":\"\"}}}],\"scattercarpet\":[{\"type\":\"scattercarpet\",\"marker\":{\"colorbar\":{\"outlinewidth\":0,\"ticks\":\"\"}}}],\"carpet\":[{\"aaxis\":{\"endlinecolor\":\"#2a3f5f\",\"gridcolor\":\"white\",\"linecolor\":\"white\",\"minorgridcolor\":\"white\",\"startlinecolor\":\"#2a3f5f\"},\"baxis\":{\"endlinecolor\":\"#2a3f5f\",\"gridcolor\":\"white\",\"linecolor\":\"white\",\"minorgridcolor\":\"white\",\"startlinecolor\":\"#2a3f5f\"},\"type\":\"carpet\"}],\"table\":[{\"cells\":{\"fill\":{\"color\":\"#EBF0F8\"},\"line\":{\"color\":\"white\"}},\"header\":{\"fill\":{\"color\":\"#C8D4E3\"},\"line\":{\"color\":\"white\"}},\"type\":\"table\"}],\"barpolar\":[{\"marker\":{\"line\":{\"color\":\"#E5ECF6\",\"width\":0.5},\"pattern\":{\"fillmode\":\"overlay\",\"size\":10,\"solidity\":0.2}},\"type\":\"barpolar\"}],\"pie\":[{\"automargin\":true,\"type\":\"pie\"}]},\"layout\":{\"autotypenumbers\":\"strict\",\"colorway\":[\"#636efa\",\"#EF553B\",\"#00cc96\",\"#ab63fa\",\"#FFA15A\",\"#19d3f3\",\"#FF6692\",\"#B6E880\",\"#FF97FF\",\"#FECB52\"],\"font\":{\"color\":\"#2a3f5f\"},\"hovermode\":\"closest\",\"hoverlabel\":{\"align\":\"left\"},\"paper_bgcolor\":\"white\",\"plot_bgcolor\":\"#E5ECF6\",\"polar\":{\"bgcolor\":\"#E5ECF6\",\"angularaxis\":{\"gridcolor\":\"white\",\"linecolor\":\"white\",\"ticks\":\"\"},\"radialaxis\":{\"gridcolor\":\"white\",\"linecolor\":\"white\",\"ticks\":\"\"}},\"ternary\":{\"bgcolor\":\"#E5ECF6\",\"aaxis\":{\"gridcolor\":\"white\",\"linecolor\":\"white\",\"ticks\":\"\"},\"baxis\":{\"gridcolor\":\"white\",\"linecolor\":\"white\",\"ticks\":\"\"},\"caxis\":{\"gridcolor\":\"white\",\"linecolor\":\"white\",\"ticks\":\"\"}},\"coloraxis\":{\"colorbar\":{\"outlinewidth\":0,\"ticks\":\"\"}},\"colorscale\":{\"sequential\":[[0.0,\"#0d0887\"],[0.1111111111111111,\"#46039f\"],[0.2222222222222222,\"#7201a8\"],[0.3333333333333333,\"#9c179e\"],[0.4444444444444444,\"#bd3786\"],[0.5555555555555556,\"#d8576b\"],[0.6666666666666666,\"#ed7953\"],[0.7777777777777778,\"#fb9f3a\"],[0.8888888888888888,\"#fdca26\"],[1.0,\"#f0f921\"]],\"sequentialminus\":[[0.0,\"#0d0887\"],[0.1111111111111111,\"#46039f\"],[0.2222222222222222,\"#7201a8\"],[0.3333333333333333,\"#9c179e\"],[0.4444444444444444,\"#bd3786\"],[0.5555555555555556,\"#d8576b\"],[0.6666666666666666,\"#ed7953\"],[0.7777777777777778,\"#fb9f3a\"],[0.8888888888888888,\"#fdca26\"],[1.0,\"#f0f921\"]],\"diverging\":[[0,\"#8e0152\"],[0.1,\"#c51b7d\"],[0.2,\"#de77ae\"],[0.3,\"#f1b6da\"],[0.4,\"#fde0ef\"],[0.5,\"#f7f7f7\"],[0.6,\"#e6f5d0\"],[0.7,\"#b8e186\"],[0.8,\"#7fbc41\"],[0.9,\"#4d9221\"],[1,\"#276419\"]]},\"xaxis\":{\"gridcolor\":\"white\",\"linecolor\":\"white\",\"ticks\":\"\",\"title\":{\"standoff\":15},\"zerolinecolor\":\"white\",\"automargin\":true,\"zerolinewidth\":2},\"yaxis\":{\"gridcolor\":\"white\",\"linecolor\":\"white\",\"ticks\":\"\",\"title\":{\"standoff\":15},\"zerolinecolor\":\"white\",\"automargin\":true,\"zerolinewidth\":2},\"scene\":{\"xaxis\":{\"backgroundcolor\":\"#E5ECF6\",\"gridcolor\":\"white\",\"linecolor\":\"white\",\"showbackground\":true,\"ticks\":\"\",\"zerolinecolor\":\"white\",\"gridwidth\":2},\"yaxis\":{\"backgroundcolor\":\"#E5ECF6\",\"gridcolor\":\"white\",\"linecolor\":\"white\",\"showbackground\":true,\"ticks\":\"\",\"zerolinecolor\":\"white\",\"gridwidth\":2},\"zaxis\":{\"backgroundcolor\":\"#E5ECF6\",\"gridcolor\":\"white\",\"linecolor\":\"white\",\"showbackground\":true,\"ticks\":\"\",\"zerolinecolor\":\"white\",\"gridwidth\":2}},\"shapedefaults\":{\"line\":{\"color\":\"#2a3f5f\"}},\"annotationdefaults\":{\"arrowcolor\":\"#2a3f5f\",\"arrowhead\":0,\"arrowwidth\":1},\"geo\":{\"bgcolor\":\"white\",\"landcolor\":\"#E5ECF6\",\"subunitcolor\":\"white\",\"showland\":true,\"showlakes\":true,\"lakecolor\":\"white\"},\"title\":{\"x\":0.05},\"mapbox\":{\"style\":\"light\"}}},\"margin\":{\"l\":0,\"r\":0,\"t\":30,\"b\":0},\"legend\":{\"orientation\":\"h\",\"yanchor\":\"bottom\",\"y\":1,\"xanchor\":\"center\",\"x\":0.5},\"width\":800,\"height\":250,\"plot_bgcolor\":\"rgb(245,245,245)\",\"xaxis\":{\"range\":[\"2022-07-12 00:59:00+06:00\",\"2022-07-12 01:16:00+06:00\"],\"dtick\":60000,\"showgrid\":true,\"gridwidth\":2}},                        {\"responsive\": true}                    ).then(function(){\n",
       "                            \n",
       "var gd = document.getElementById('5b19c256-627d-41c7-86ef-946b05fe432a');\n",
       "var x = new MutationObserver(function (mutations, observer) {{\n",
       "        var display = window.getComputedStyle(gd).display;\n",
       "        if (!display || display === 'none') {{\n",
       "            console.log([gd, 'removed!']);\n",
       "            Plotly.purge(gd);\n",
       "            observer.disconnect();\n",
       "        }}\n",
       "}});\n",
       "\n",
       "// Listen for the removal of the full notebook cells\n",
       "var notebookContainer = gd.closest('#notebook-container');\n",
       "if (notebookContainer) {{\n",
       "    x.observe(notebookContainer, {childList: true});\n",
       "}}\n",
       "\n",
       "// Listen for the clearing of the current output cell\n",
       "var outputEl = gd.closest('.output');\n",
       "if (outputEl) {{\n",
       "    x.observe(outputEl, {childList: true});\n",
       "}}\n",
       "\n",
       "                        })                };                });            </script>        </div>"
      ]
     },
     "metadata": {},
     "output_type": "display_data"
    }
   ],
   "source": [
    "list_symbol = [\"circle-open-dot\", \"square-open-dot\"]\n",
    "\n",
    "n_colors = len(list_symbol)\n",
    "list_colors = px.colors.sample_colorscale(colorscale, [n/(n_colors -1) for n in range(n_colors)])\n",
    "random.shuffle(copy.deepcopy(list_colors))\n",
    "\n",
    "fig = go.Figure()\n",
    "    \n",
    "i_label = 0\n",
    "for col in df_test.columns:\n",
    "\n",
    "    fig.add_trace(go.Scatter(\n",
    "        mode=\"markers\",\n",
    "        x=df_test.index.values,\n",
    "        y=df_test[col].values,\n",
    "        name=col,\n",
    "        marker=dict(\n",
    "            symbol=list_symbol[i_label],\n",
    "            size=15,\n",
    "            line_width=2,\n",
    "        ),\n",
    "        line=dict(\n",
    "            color=list_colors[i_label],\n",
    "        ),\n",
    "    ))\n",
    "\n",
    "    i_label+=1\n",
    "    \n",
    "for col in df_resample.columns:\n",
    "\n",
    "    fig.add_trace(go.Scatter(\n",
    "        mode=\"markers\",\n",
    "        x=df_resample.index.values,\n",
    "        y=df_resample[col].values,\n",
    "        name=col,\n",
    "        marker=dict(\n",
    "            symbol=list_symbol[i_label],\n",
    "            size=10,\n",
    "            line_width=2,\n",
    "        ),\n",
    "        line=dict(\n",
    "            color=list_colors[i_label],\n",
    "        ),\n",
    "    ))\n",
    "\n",
    "    i_label+=1\n",
    "\n",
    "fig.update_layout(\n",
    "    width=800,\n",
    "    height=250,\n",
    "    margin=dict(\n",
    "        l=0,\n",
    "        r=0,\n",
    "        t=30,\n",
    "        b=0,\n",
    "    ),\n",
    "    plot_bgcolor=\"rgb(245,245,245)\",\n",
    "    legend=dict(\n",
    "        orientation=\"h\",\n",
    "        yanchor=\"bottom\",\n",
    "        y=1,\n",
    "        xanchor=\"center\",\n",
    "        x=0.5,\n",
    "    )\n",
    ")\n",
    "\n",
    "fig.update_xaxes(\n",
    "    range=[\"2022-07-12 00:59:00+06:00\",\"2022-07-12 01:16:00+06:00\"],\n",
    "    dtick=1000*60,\n",
    "    showgrid=True,\n",
    "    gridwidth=2, \n",
    ")\n",
    "\n",
    "filename = \"example_resample_{}-closed_{}-label\".format(\n",
    "    configs[\"data_processing\"][\"resample\"][\"bin_closed\"],\n",
    "    configs[\"data_processing\"][\"resample\"][\"bin_label\"]\n",
    ")\n",
    "pio.write_image(fig, path + \"/\" + filename + \".svg\")\n",
    "# https://stackoverflow.com/questions/51450134/how-to-convert-svg-to-png-or-jpeg-in-python\n",
    "image = pyvips.Image.thumbnail(path + \"/\" + filename + \".svg\", 3000)\n",
    "image.write_to_file(path + \"/\" + filename + \".png\")\n",
    "\n",
    "fig.show()\n",
    "\n",
    "# #     if i== 1:\n",
    "# #         break\n",
    "\n",
    "# i+=1"
   ]
  },
  {
   "cell_type": "markdown",
   "metadata": {},
   "source": [
    "### feat_stats"
   ]
  },
  {
   "cell_type": "code",
   "execution_count": 65,
   "metadata": {},
   "outputs": [],
   "source": [
    "configs[\"data_input\"][\"target_var\"] = \"Synthetic Site Electricity Main Total Power\"\n",
    "\n",
    "configs[\"data_processing\"][\"resample\"][\"bin_interval\"] = \"3min\"\n",
    "configs[\"data_processing\"][\"resample\"][\"bin_closed\"] = \"right\"\n",
    "configs[\"data_processing\"][\"resample\"][\"bin_label\"] = \"right\"\n",
    "\n",
    "configs[\"data_processing\"][\"feat_stats\"][\"active\"] = True\n",
    "configs[\"data_processing\"][\"feat_stats\"][\"window_width\"] = \"3min\""
   ]
  },
  {
   "cell_type": "code",
   "execution_count": 66,
   "metadata": {},
   "outputs": [
    {
     "data": {
      "text/html": [
       "<div>\n",
       "<style scoped>\n",
       "    .dataframe tbody tr th:only-of-type {\n",
       "        vertical-align: middle;\n",
       "    }\n",
       "\n",
       "    .dataframe tbody tr th {\n",
       "        vertical-align: top;\n",
       "    }\n",
       "\n",
       "    .dataframe thead th {\n",
       "        text-align: right;\n",
       "    }\n",
       "</style>\n",
       "<table border=\"1\" class=\"dataframe\">\n",
       "  <thead>\n",
       "    <tr style=\"text-align: right;\">\n",
       "      <th></th>\n",
       "      <th>var1</th>\n",
       "      <th>Synthetic Site Electricity Main Total Power</th>\n",
       "    </tr>\n",
       "    <tr>\n",
       "      <th>ts</th>\n",
       "      <th></th>\n",
       "      <th></th>\n",
       "    </tr>\n",
       "  </thead>\n",
       "  <tbody>\n",
       "    <tr>\n",
       "      <th>2022-07-12 07:00:00+06:00</th>\n",
       "      <td>NaN</td>\n",
       "      <td>1.0</td>\n",
       "    </tr>\n",
       "    <tr>\n",
       "      <th>2022-07-12 07:01:53+06:00</th>\n",
       "      <td>1.5</td>\n",
       "      <td>1.2</td>\n",
       "    </tr>\n",
       "    <tr>\n",
       "      <th>2022-07-12 07:03:17+06:00</th>\n",
       "      <td>2.2</td>\n",
       "      <td>1.3</td>\n",
       "    </tr>\n",
       "    <tr>\n",
       "      <th>2022-07-12 07:04:02+06:00</th>\n",
       "      <td>0.9</td>\n",
       "      <td>NaN</td>\n",
       "    </tr>\n",
       "    <tr>\n",
       "      <th>2022-07-12 07:04:59+06:00</th>\n",
       "      <td>3.6</td>\n",
       "      <td>2.5</td>\n",
       "    </tr>\n",
       "    <tr>\n",
       "      <th>2022-07-12 07:05:00+06:00</th>\n",
       "      <td>NaN</td>\n",
       "      <td>2.3</td>\n",
       "    </tr>\n",
       "    <tr>\n",
       "      <th>2022-07-12 07:06:22+06:00</th>\n",
       "      <td>3.3</td>\n",
       "      <td>4.3</td>\n",
       "    </tr>\n",
       "    <tr>\n",
       "      <th>2022-07-12 07:09:46+06:00</th>\n",
       "      <td>2.3</td>\n",
       "      <td>3.4</td>\n",
       "    </tr>\n",
       "    <tr>\n",
       "      <th>2022-07-12 07:10:00+06:00</th>\n",
       "      <td>NaN</td>\n",
       "      <td>NaN</td>\n",
       "    </tr>\n",
       "    <tr>\n",
       "      <th>2022-07-12 07:11:02+06:00</th>\n",
       "      <td>1.3</td>\n",
       "      <td>NaN</td>\n",
       "    </tr>\n",
       "    <tr>\n",
       "      <th>2022-07-12 07:13:44+06:00</th>\n",
       "      <td>4.3</td>\n",
       "      <td>6.5</td>\n",
       "    </tr>\n",
       "    <tr>\n",
       "      <th>2022-07-12 07:14:26+06:00</th>\n",
       "      <td>4.1</td>\n",
       "      <td>4.3</td>\n",
       "    </tr>\n",
       "    <tr>\n",
       "      <th>2022-07-12 07:15:00+06:00</th>\n",
       "      <td>NaN</td>\n",
       "      <td>1.1</td>\n",
       "    </tr>\n",
       "  </tbody>\n",
       "</table>\n",
       "</div>"
      ],
      "text/plain": [
       "                           var1  Synthetic Site Electricity Main Total Power\n",
       "ts                                                                          \n",
       "2022-07-12 07:00:00+06:00   NaN                                          1.0\n",
       "2022-07-12 07:01:53+06:00   1.5                                          1.2\n",
       "2022-07-12 07:03:17+06:00   2.2                                          1.3\n",
       "2022-07-12 07:04:02+06:00   0.9                                          NaN\n",
       "2022-07-12 07:04:59+06:00   3.6                                          2.5\n",
       "2022-07-12 07:05:00+06:00   NaN                                          2.3\n",
       "2022-07-12 07:06:22+06:00   3.3                                          4.3\n",
       "2022-07-12 07:09:46+06:00   2.3                                          3.4\n",
       "2022-07-12 07:10:00+06:00   NaN                                          NaN\n",
       "2022-07-12 07:11:02+06:00   1.3                                          NaN\n",
       "2022-07-12 07:13:44+06:00   4.3                                          6.5\n",
       "2022-07-12 07:14:26+06:00   4.1                                          4.3\n",
       "2022-07-12 07:15:00+06:00   NaN                                          1.1"
      ]
     },
     "execution_count": 66,
     "metadata": {},
     "output_type": "execute_result"
    }
   ],
   "source": [
    "df_test = pd.read_csv(\"../../tests/fixtures/rolling_stats_input_w_target.csv\", index_col=0)\n",
    "df_test.index = pd.to_datetime(df_test.index)\n",
    "df_test = df_test.loc[:, df_test.columns!=\"var2\"]\n",
    "df_test"
   ]
  },
  {
   "cell_type": "code",
   "execution_count": 67,
   "metadata": {},
   "outputs": [
    {
     "data": {
      "text/html": [
       "<div>\n",
       "<style scoped>\n",
       "    .dataframe tbody tr th:only-of-type {\n",
       "        vertical-align: middle;\n",
       "    }\n",
       "\n",
       "    .dataframe tbody tr th {\n",
       "        vertical-align: top;\n",
       "    }\n",
       "\n",
       "    .dataframe thead th {\n",
       "        text-align: right;\n",
       "    }\n",
       "</style>\n",
       "<table border=\"1\" class=\"dataframe\">\n",
       "  <thead>\n",
       "    <tr style=\"text-align: right;\">\n",
       "      <th></th>\n",
       "      <th>var1_min | 3min window</th>\n",
       "      <th>var1_max | 3min window</th>\n",
       "      <th>var1_mean | 3min window</th>\n",
       "      <th>Synthetic Site Electricity Main Total Power | 3min window</th>\n",
       "    </tr>\n",
       "    <tr>\n",
       "      <th>ts</th>\n",
       "      <th></th>\n",
       "      <th></th>\n",
       "      <th></th>\n",
       "      <th></th>\n",
       "    </tr>\n",
       "  </thead>\n",
       "  <tbody>\n",
       "    <tr>\n",
       "      <th>2022-07-12 07:00:00+06:00</th>\n",
       "      <td>NaN</td>\n",
       "      <td>NaN</td>\n",
       "      <td>NaN</td>\n",
       "      <td>1.0</td>\n",
       "    </tr>\n",
       "    <tr>\n",
       "      <th>2022-07-12 07:03:00+06:00</th>\n",
       "      <td>1.5</td>\n",
       "      <td>1.5</td>\n",
       "      <td>1.500000</td>\n",
       "      <td>1.2</td>\n",
       "    </tr>\n",
       "    <tr>\n",
       "      <th>2022-07-12 07:06:00+06:00</th>\n",
       "      <td>0.9</td>\n",
       "      <td>3.6</td>\n",
       "      <td>2.233333</td>\n",
       "      <td>2.3</td>\n",
       "    </tr>\n",
       "    <tr>\n",
       "      <th>2022-07-12 07:09:00+06:00</th>\n",
       "      <td>3.3</td>\n",
       "      <td>3.3</td>\n",
       "      <td>3.300000</td>\n",
       "      <td>4.3</td>\n",
       "    </tr>\n",
       "    <tr>\n",
       "      <th>2022-07-12 07:12:00+06:00</th>\n",
       "      <td>1.3</td>\n",
       "      <td>2.3</td>\n",
       "      <td>1.800000</td>\n",
       "      <td>3.4</td>\n",
       "    </tr>\n",
       "    <tr>\n",
       "      <th>2022-07-12 07:15:00+06:00</th>\n",
       "      <td>4.1</td>\n",
       "      <td>4.3</td>\n",
       "      <td>4.200000</td>\n",
       "      <td>1.1</td>\n",
       "    </tr>\n",
       "  </tbody>\n",
       "</table>\n",
       "</div>"
      ],
      "text/plain": [
       "                           var1_min | 3min window  var1_max | 3min window  \\\n",
       "ts                                                                          \n",
       "2022-07-12 07:00:00+06:00                     NaN                     NaN   \n",
       "2022-07-12 07:03:00+06:00                     1.5                     1.5   \n",
       "2022-07-12 07:06:00+06:00                     0.9                     3.6   \n",
       "2022-07-12 07:09:00+06:00                     3.3                     3.3   \n",
       "2022-07-12 07:12:00+06:00                     1.3                     2.3   \n",
       "2022-07-12 07:15:00+06:00                     4.1                     4.3   \n",
       "\n",
       "                           var1_mean | 3min window  \\\n",
       "ts                                                   \n",
       "2022-07-12 07:00:00+06:00                      NaN   \n",
       "2022-07-12 07:03:00+06:00                 1.500000   \n",
       "2022-07-12 07:06:00+06:00                 2.233333   \n",
       "2022-07-12 07:09:00+06:00                 3.300000   \n",
       "2022-07-12 07:12:00+06:00                 1.800000   \n",
       "2022-07-12 07:15:00+06:00                 4.200000   \n",
       "\n",
       "                           Synthetic Site Electricity Main Total Power | 3min window  \n",
       "ts                                                                                    \n",
       "2022-07-12 07:00:00+06:00                                                1.0          \n",
       "2022-07-12 07:03:00+06:00                                                1.2          \n",
       "2022-07-12 07:06:00+06:00                                                2.3          \n",
       "2022-07-12 07:09:00+06:00                                                4.3          \n",
       "2022-07-12 07:12:00+06:00                                                3.4          \n",
       "2022-07-12 07:15:00+06:00                                                1.1          "
      ]
     },
     "execution_count": 67,
     "metadata": {},
     "output_type": "execute_result"
    }
   ],
   "source": [
    "df_resample = resample_or_rolling_stats(df_test, configs)\n",
    "df_resample = df_resample.add_suffix(\" | {} window\".format(\n",
    "    configs[\"data_processing\"][\"feat_stats\"][\"window_width\"]\n",
    "))\n",
    "df_resample"
   ]
  },
  {
   "cell_type": "code",
   "execution_count": 68,
   "metadata": {},
   "outputs": [],
   "source": [
    "df_test = df_test.loc[:, df_test.columns==\"var1\"]\n",
    "df_resample = df_resample.loc[:, df_resample.columns.str.contains(\"var1\")]"
   ]
  },
  {
   "cell_type": "code",
   "execution_count": 69,
   "metadata": {},
   "outputs": [
    {
     "data": {
      "application/vnd.plotly.v1+json": {
       "config": {
        "plotlyServerURL": "https://plot.ly"
       },
       "data": [
        {
         "line": {
          "color": "rgb(161, 105, 40)"
         },
         "marker": {
          "line": {
           "width": 2
          },
          "size": 15,
          "symbol": "circle-open-dot"
         },
         "mode": "markers",
         "name": "var1",
         "type": "scatter",
         "x": [
          "2022-07-12T01:00:00.000000000",
          "2022-07-12T01:01:53.000000000",
          "2022-07-12T01:03:17.000000000",
          "2022-07-12T01:04:02.000000000",
          "2022-07-12T01:04:59.000000000",
          "2022-07-12T01:05:00.000000000",
          "2022-07-12T01:06:22.000000000",
          "2022-07-12T01:09:46.000000000",
          "2022-07-12T01:10:00.000000000",
          "2022-07-12T01:11:02.000000000",
          "2022-07-12T01:13:44.000000000",
          "2022-07-12T01:14:26.000000000",
          "2022-07-12T01:15:00.000000000"
         ],
         "y": [
          null,
          1.5,
          2.2,
          0.9,
          3.6,
          null,
          3.3,
          2.3,
          null,
          1.3,
          4.3,
          4.1,
          null
         ]
        },
        {
         "line": {
          "color": "rgb(214, 189, 141)"
         },
         "marker": {
          "line": {
           "width": 2
          },
          "size": 10,
          "symbol": "square-open-dot"
         },
         "mode": "markers",
         "name": "var1_min | 3min window",
         "type": "scatter",
         "x": [
          "2022-07-12T01:00:00.000000000",
          "2022-07-12T01:03:00.000000000",
          "2022-07-12T01:06:00.000000000",
          "2022-07-12T01:09:00.000000000",
          "2022-07-12T01:12:00.000000000",
          "2022-07-12T01:15:00.000000000"
         ],
         "y": [
          null,
          1.5,
          0.9,
          3.3,
          1.3,
          4.1
         ]
        },
        {
         "line": {
          "color": "rgb(181, 200, 184)"
         },
         "marker": {
          "line": {
           "width": 2
          },
          "size": 10,
          "symbol": "diamond-open-dot"
         },
         "mode": "markers",
         "name": "var1_max | 3min window",
         "type": "scatter",
         "x": [
          "2022-07-12T01:00:00.000000000",
          "2022-07-12T01:03:00.000000000",
          "2022-07-12T01:06:00.000000000",
          "2022-07-12T01:09:00.000000000",
          "2022-07-12T01:12:00.000000000",
          "2022-07-12T01:15:00.000000000"
         ],
         "y": [
          null,
          1.5,
          3.6,
          3.3,
          2.3,
          4.3
         ]
        },
        {
         "line": {
          "color": "rgb(40, 135, 161)"
         },
         "marker": {
          "line": {
           "width": 2
          },
          "size": 10,
          "symbol": "x-open-dot"
         },
         "mode": "markers",
         "name": "var1_mean | 3min window",
         "type": "scatter",
         "x": [
          "2022-07-12T01:00:00.000000000",
          "2022-07-12T01:03:00.000000000",
          "2022-07-12T01:06:00.000000000",
          "2022-07-12T01:09:00.000000000",
          "2022-07-12T01:12:00.000000000",
          "2022-07-12T01:15:00.000000000"
         ],
         "y": [
          null,
          1.5,
          2.2333333333333334,
          3.3,
          1.7999999999999998,
          4.199999999999999
         ]
        }
       ],
       "layout": {
        "height": 250,
        "legend": {
         "orientation": "h",
         "x": 0.5,
         "xanchor": "center",
         "y": 1,
         "yanchor": "bottom"
        },
        "margin": {
         "b": 0,
         "l": 0,
         "r": 0,
         "t": 30
        },
        "plot_bgcolor": "rgb(245,245,245)",
        "template": {
         "data": {
          "bar": [
           {
            "error_x": {
             "color": "#2a3f5f"
            },
            "error_y": {
             "color": "#2a3f5f"
            },
            "marker": {
             "line": {
              "color": "#E5ECF6",
              "width": 0.5
             },
             "pattern": {
              "fillmode": "overlay",
              "size": 10,
              "solidity": 0.2
             }
            },
            "type": "bar"
           }
          ],
          "barpolar": [
           {
            "marker": {
             "line": {
              "color": "#E5ECF6",
              "width": 0.5
             },
             "pattern": {
              "fillmode": "overlay",
              "size": 10,
              "solidity": 0.2
             }
            },
            "type": "barpolar"
           }
          ],
          "carpet": [
           {
            "aaxis": {
             "endlinecolor": "#2a3f5f",
             "gridcolor": "white",
             "linecolor": "white",
             "minorgridcolor": "white",
             "startlinecolor": "#2a3f5f"
            },
            "baxis": {
             "endlinecolor": "#2a3f5f",
             "gridcolor": "white",
             "linecolor": "white",
             "minorgridcolor": "white",
             "startlinecolor": "#2a3f5f"
            },
            "type": "carpet"
           }
          ],
          "choropleth": [
           {
            "colorbar": {
             "outlinewidth": 0,
             "ticks": ""
            },
            "type": "choropleth"
           }
          ],
          "contour": [
           {
            "colorbar": {
             "outlinewidth": 0,
             "ticks": ""
            },
            "colorscale": [
             [
              0,
              "#0d0887"
             ],
             [
              0.1111111111111111,
              "#46039f"
             ],
             [
              0.2222222222222222,
              "#7201a8"
             ],
             [
              0.3333333333333333,
              "#9c179e"
             ],
             [
              0.4444444444444444,
              "#bd3786"
             ],
             [
              0.5555555555555556,
              "#d8576b"
             ],
             [
              0.6666666666666666,
              "#ed7953"
             ],
             [
              0.7777777777777778,
              "#fb9f3a"
             ],
             [
              0.8888888888888888,
              "#fdca26"
             ],
             [
              1,
              "#f0f921"
             ]
            ],
            "type": "contour"
           }
          ],
          "contourcarpet": [
           {
            "colorbar": {
             "outlinewidth": 0,
             "ticks": ""
            },
            "type": "contourcarpet"
           }
          ],
          "heatmap": [
           {
            "colorbar": {
             "outlinewidth": 0,
             "ticks": ""
            },
            "colorscale": [
             [
              0,
              "#0d0887"
             ],
             [
              0.1111111111111111,
              "#46039f"
             ],
             [
              0.2222222222222222,
              "#7201a8"
             ],
             [
              0.3333333333333333,
              "#9c179e"
             ],
             [
              0.4444444444444444,
              "#bd3786"
             ],
             [
              0.5555555555555556,
              "#d8576b"
             ],
             [
              0.6666666666666666,
              "#ed7953"
             ],
             [
              0.7777777777777778,
              "#fb9f3a"
             ],
             [
              0.8888888888888888,
              "#fdca26"
             ],
             [
              1,
              "#f0f921"
             ]
            ],
            "type": "heatmap"
           }
          ],
          "heatmapgl": [
           {
            "colorbar": {
             "outlinewidth": 0,
             "ticks": ""
            },
            "colorscale": [
             [
              0,
              "#0d0887"
             ],
             [
              0.1111111111111111,
              "#46039f"
             ],
             [
              0.2222222222222222,
              "#7201a8"
             ],
             [
              0.3333333333333333,
              "#9c179e"
             ],
             [
              0.4444444444444444,
              "#bd3786"
             ],
             [
              0.5555555555555556,
              "#d8576b"
             ],
             [
              0.6666666666666666,
              "#ed7953"
             ],
             [
              0.7777777777777778,
              "#fb9f3a"
             ],
             [
              0.8888888888888888,
              "#fdca26"
             ],
             [
              1,
              "#f0f921"
             ]
            ],
            "type": "heatmapgl"
           }
          ],
          "histogram": [
           {
            "marker": {
             "pattern": {
              "fillmode": "overlay",
              "size": 10,
              "solidity": 0.2
             }
            },
            "type": "histogram"
           }
          ],
          "histogram2d": [
           {
            "colorbar": {
             "outlinewidth": 0,
             "ticks": ""
            },
            "colorscale": [
             [
              0,
              "#0d0887"
             ],
             [
              0.1111111111111111,
              "#46039f"
             ],
             [
              0.2222222222222222,
              "#7201a8"
             ],
             [
              0.3333333333333333,
              "#9c179e"
             ],
             [
              0.4444444444444444,
              "#bd3786"
             ],
             [
              0.5555555555555556,
              "#d8576b"
             ],
             [
              0.6666666666666666,
              "#ed7953"
             ],
             [
              0.7777777777777778,
              "#fb9f3a"
             ],
             [
              0.8888888888888888,
              "#fdca26"
             ],
             [
              1,
              "#f0f921"
             ]
            ],
            "type": "histogram2d"
           }
          ],
          "histogram2dcontour": [
           {
            "colorbar": {
             "outlinewidth": 0,
             "ticks": ""
            },
            "colorscale": [
             [
              0,
              "#0d0887"
             ],
             [
              0.1111111111111111,
              "#46039f"
             ],
             [
              0.2222222222222222,
              "#7201a8"
             ],
             [
              0.3333333333333333,
              "#9c179e"
             ],
             [
              0.4444444444444444,
              "#bd3786"
             ],
             [
              0.5555555555555556,
              "#d8576b"
             ],
             [
              0.6666666666666666,
              "#ed7953"
             ],
             [
              0.7777777777777778,
              "#fb9f3a"
             ],
             [
              0.8888888888888888,
              "#fdca26"
             ],
             [
              1,
              "#f0f921"
             ]
            ],
            "type": "histogram2dcontour"
           }
          ],
          "mesh3d": [
           {
            "colorbar": {
             "outlinewidth": 0,
             "ticks": ""
            },
            "type": "mesh3d"
           }
          ],
          "parcoords": [
           {
            "line": {
             "colorbar": {
              "outlinewidth": 0,
              "ticks": ""
             }
            },
            "type": "parcoords"
           }
          ],
          "pie": [
           {
            "automargin": true,
            "type": "pie"
           }
          ],
          "scatter": [
           {
            "fillpattern": {
             "fillmode": "overlay",
             "size": 10,
             "solidity": 0.2
            },
            "type": "scatter"
           }
          ],
          "scatter3d": [
           {
            "line": {
             "colorbar": {
              "outlinewidth": 0,
              "ticks": ""
             }
            },
            "marker": {
             "colorbar": {
              "outlinewidth": 0,
              "ticks": ""
             }
            },
            "type": "scatter3d"
           }
          ],
          "scattercarpet": [
           {
            "marker": {
             "colorbar": {
              "outlinewidth": 0,
              "ticks": ""
             }
            },
            "type": "scattercarpet"
           }
          ],
          "scattergeo": [
           {
            "marker": {
             "colorbar": {
              "outlinewidth": 0,
              "ticks": ""
             }
            },
            "type": "scattergeo"
           }
          ],
          "scattergl": [
           {
            "marker": {
             "colorbar": {
              "outlinewidth": 0,
              "ticks": ""
             }
            },
            "type": "scattergl"
           }
          ],
          "scattermapbox": [
           {
            "marker": {
             "colorbar": {
              "outlinewidth": 0,
              "ticks": ""
             }
            },
            "type": "scattermapbox"
           }
          ],
          "scatterpolar": [
           {
            "marker": {
             "colorbar": {
              "outlinewidth": 0,
              "ticks": ""
             }
            },
            "type": "scatterpolar"
           }
          ],
          "scatterpolargl": [
           {
            "marker": {
             "colorbar": {
              "outlinewidth": 0,
              "ticks": ""
             }
            },
            "type": "scatterpolargl"
           }
          ],
          "scatterternary": [
           {
            "marker": {
             "colorbar": {
              "outlinewidth": 0,
              "ticks": ""
             }
            },
            "type": "scatterternary"
           }
          ],
          "surface": [
           {
            "colorbar": {
             "outlinewidth": 0,
             "ticks": ""
            },
            "colorscale": [
             [
              0,
              "#0d0887"
             ],
             [
              0.1111111111111111,
              "#46039f"
             ],
             [
              0.2222222222222222,
              "#7201a8"
             ],
             [
              0.3333333333333333,
              "#9c179e"
             ],
             [
              0.4444444444444444,
              "#bd3786"
             ],
             [
              0.5555555555555556,
              "#d8576b"
             ],
             [
              0.6666666666666666,
              "#ed7953"
             ],
             [
              0.7777777777777778,
              "#fb9f3a"
             ],
             [
              0.8888888888888888,
              "#fdca26"
             ],
             [
              1,
              "#f0f921"
             ]
            ],
            "type": "surface"
           }
          ],
          "table": [
           {
            "cells": {
             "fill": {
              "color": "#EBF0F8"
             },
             "line": {
              "color": "white"
             }
            },
            "header": {
             "fill": {
              "color": "#C8D4E3"
             },
             "line": {
              "color": "white"
             }
            },
            "type": "table"
           }
          ]
         },
         "layout": {
          "annotationdefaults": {
           "arrowcolor": "#2a3f5f",
           "arrowhead": 0,
           "arrowwidth": 1
          },
          "autotypenumbers": "strict",
          "coloraxis": {
           "colorbar": {
            "outlinewidth": 0,
            "ticks": ""
           }
          },
          "colorscale": {
           "diverging": [
            [
             0,
             "#8e0152"
            ],
            [
             0.1,
             "#c51b7d"
            ],
            [
             0.2,
             "#de77ae"
            ],
            [
             0.3,
             "#f1b6da"
            ],
            [
             0.4,
             "#fde0ef"
            ],
            [
             0.5,
             "#f7f7f7"
            ],
            [
             0.6,
             "#e6f5d0"
            ],
            [
             0.7,
             "#b8e186"
            ],
            [
             0.8,
             "#7fbc41"
            ],
            [
             0.9,
             "#4d9221"
            ],
            [
             1,
             "#276419"
            ]
           ],
           "sequential": [
            [
             0,
             "#0d0887"
            ],
            [
             0.1111111111111111,
             "#46039f"
            ],
            [
             0.2222222222222222,
             "#7201a8"
            ],
            [
             0.3333333333333333,
             "#9c179e"
            ],
            [
             0.4444444444444444,
             "#bd3786"
            ],
            [
             0.5555555555555556,
             "#d8576b"
            ],
            [
             0.6666666666666666,
             "#ed7953"
            ],
            [
             0.7777777777777778,
             "#fb9f3a"
            ],
            [
             0.8888888888888888,
             "#fdca26"
            ],
            [
             1,
             "#f0f921"
            ]
           ],
           "sequentialminus": [
            [
             0,
             "#0d0887"
            ],
            [
             0.1111111111111111,
             "#46039f"
            ],
            [
             0.2222222222222222,
             "#7201a8"
            ],
            [
             0.3333333333333333,
             "#9c179e"
            ],
            [
             0.4444444444444444,
             "#bd3786"
            ],
            [
             0.5555555555555556,
             "#d8576b"
            ],
            [
             0.6666666666666666,
             "#ed7953"
            ],
            [
             0.7777777777777778,
             "#fb9f3a"
            ],
            [
             0.8888888888888888,
             "#fdca26"
            ],
            [
             1,
             "#f0f921"
            ]
           ]
          },
          "colorway": [
           "#636efa",
           "#EF553B",
           "#00cc96",
           "#ab63fa",
           "#FFA15A",
           "#19d3f3",
           "#FF6692",
           "#B6E880",
           "#FF97FF",
           "#FECB52"
          ],
          "font": {
           "color": "#2a3f5f"
          },
          "geo": {
           "bgcolor": "white",
           "lakecolor": "white",
           "landcolor": "#E5ECF6",
           "showlakes": true,
           "showland": true,
           "subunitcolor": "white"
          },
          "hoverlabel": {
           "align": "left"
          },
          "hovermode": "closest",
          "mapbox": {
           "style": "light"
          },
          "paper_bgcolor": "white",
          "plot_bgcolor": "#E5ECF6",
          "polar": {
           "angularaxis": {
            "gridcolor": "white",
            "linecolor": "white",
            "ticks": ""
           },
           "bgcolor": "#E5ECF6",
           "radialaxis": {
            "gridcolor": "white",
            "linecolor": "white",
            "ticks": ""
           }
          },
          "scene": {
           "xaxis": {
            "backgroundcolor": "#E5ECF6",
            "gridcolor": "white",
            "gridwidth": 2,
            "linecolor": "white",
            "showbackground": true,
            "ticks": "",
            "zerolinecolor": "white"
           },
           "yaxis": {
            "backgroundcolor": "#E5ECF6",
            "gridcolor": "white",
            "gridwidth": 2,
            "linecolor": "white",
            "showbackground": true,
            "ticks": "",
            "zerolinecolor": "white"
           },
           "zaxis": {
            "backgroundcolor": "#E5ECF6",
            "gridcolor": "white",
            "gridwidth": 2,
            "linecolor": "white",
            "showbackground": true,
            "ticks": "",
            "zerolinecolor": "white"
           }
          },
          "shapedefaults": {
           "line": {
            "color": "#2a3f5f"
           }
          },
          "ternary": {
           "aaxis": {
            "gridcolor": "white",
            "linecolor": "white",
            "ticks": ""
           },
           "baxis": {
            "gridcolor": "white",
            "linecolor": "white",
            "ticks": ""
           },
           "bgcolor": "#E5ECF6",
           "caxis": {
            "gridcolor": "white",
            "linecolor": "white",
            "ticks": ""
           }
          },
          "title": {
           "x": 0.05
          },
          "xaxis": {
           "automargin": true,
           "gridcolor": "white",
           "linecolor": "white",
           "ticks": "",
           "title": {
            "standoff": 15
           },
           "zerolinecolor": "white",
           "zerolinewidth": 2
          },
          "yaxis": {
           "automargin": true,
           "gridcolor": "white",
           "linecolor": "white",
           "ticks": "",
           "title": {
            "standoff": 15
           },
           "zerolinecolor": "white",
           "zerolinewidth": 2
          }
         }
        },
        "width": 800,
        "xaxis": {
         "dtick": 60000,
         "gridwidth": 2,
         "range": [
          "2022-07-12 00:59:00+06:00",
          "2022-07-12 01:16:00+06:00"
         ],
         "showgrid": true
        }
       }
      },
      "text/html": [
       "<div>                            <div id=\"b83d1bf0-8438-4ddb-aef5-87f79a60bc49\" class=\"plotly-graph-div\" style=\"height:250px; width:800px;\"></div>            <script type=\"text/javascript\">                require([\"plotly\"], function(Plotly) {                    window.PLOTLYENV=window.PLOTLYENV || {};                                    if (document.getElementById(\"b83d1bf0-8438-4ddb-aef5-87f79a60bc49\")) {                    Plotly.newPlot(                        \"b83d1bf0-8438-4ddb-aef5-87f79a60bc49\",                        [{\"line\":{\"color\":\"rgb(161, 105, 40)\"},\"marker\":{\"line\":{\"width\":2},\"size\":15,\"symbol\":\"circle-open-dot\"},\"mode\":\"markers\",\"name\":\"var1\",\"x\":[\"2022-07-12T01:00:00.000000000\",\"2022-07-12T01:01:53.000000000\",\"2022-07-12T01:03:17.000000000\",\"2022-07-12T01:04:02.000000000\",\"2022-07-12T01:04:59.000000000\",\"2022-07-12T01:05:00.000000000\",\"2022-07-12T01:06:22.000000000\",\"2022-07-12T01:09:46.000000000\",\"2022-07-12T01:10:00.000000000\",\"2022-07-12T01:11:02.000000000\",\"2022-07-12T01:13:44.000000000\",\"2022-07-12T01:14:26.000000000\",\"2022-07-12T01:15:00.000000000\"],\"y\":[null,1.5,2.2,0.9,3.6,null,3.3,2.3,null,1.3,4.3,4.1,null],\"type\":\"scatter\"},{\"line\":{\"color\":\"rgb(214, 189, 141)\"},\"marker\":{\"line\":{\"width\":2},\"size\":10,\"symbol\":\"square-open-dot\"},\"mode\":\"markers\",\"name\":\"var1_min | 3min window\",\"x\":[\"2022-07-12T01:00:00.000000000\",\"2022-07-12T01:03:00.000000000\",\"2022-07-12T01:06:00.000000000\",\"2022-07-12T01:09:00.000000000\",\"2022-07-12T01:12:00.000000000\",\"2022-07-12T01:15:00.000000000\"],\"y\":[null,1.5,0.9,3.3,1.3,4.1],\"type\":\"scatter\"},{\"line\":{\"color\":\"rgb(181, 200, 184)\"},\"marker\":{\"line\":{\"width\":2},\"size\":10,\"symbol\":\"diamond-open-dot\"},\"mode\":\"markers\",\"name\":\"var1_max | 3min window\",\"x\":[\"2022-07-12T01:00:00.000000000\",\"2022-07-12T01:03:00.000000000\",\"2022-07-12T01:06:00.000000000\",\"2022-07-12T01:09:00.000000000\",\"2022-07-12T01:12:00.000000000\",\"2022-07-12T01:15:00.000000000\"],\"y\":[null,1.5,3.6,3.3,2.3,4.3],\"type\":\"scatter\"},{\"line\":{\"color\":\"rgb(40, 135, 161)\"},\"marker\":{\"line\":{\"width\":2},\"size\":10,\"symbol\":\"x-open-dot\"},\"mode\":\"markers\",\"name\":\"var1_mean | 3min window\",\"x\":[\"2022-07-12T01:00:00.000000000\",\"2022-07-12T01:03:00.000000000\",\"2022-07-12T01:06:00.000000000\",\"2022-07-12T01:09:00.000000000\",\"2022-07-12T01:12:00.000000000\",\"2022-07-12T01:15:00.000000000\"],\"y\":[null,1.5,2.2333333333333334,3.3,1.7999999999999998,4.199999999999999],\"type\":\"scatter\"}],                        {\"template\":{\"data\":{\"histogram2dcontour\":[{\"type\":\"histogram2dcontour\",\"colorbar\":{\"outlinewidth\":0,\"ticks\":\"\"},\"colorscale\":[[0.0,\"#0d0887\"],[0.1111111111111111,\"#46039f\"],[0.2222222222222222,\"#7201a8\"],[0.3333333333333333,\"#9c179e\"],[0.4444444444444444,\"#bd3786\"],[0.5555555555555556,\"#d8576b\"],[0.6666666666666666,\"#ed7953\"],[0.7777777777777778,\"#fb9f3a\"],[0.8888888888888888,\"#fdca26\"],[1.0,\"#f0f921\"]]}],\"choropleth\":[{\"type\":\"choropleth\",\"colorbar\":{\"outlinewidth\":0,\"ticks\":\"\"}}],\"histogram2d\":[{\"type\":\"histogram2d\",\"colorbar\":{\"outlinewidth\":0,\"ticks\":\"\"},\"colorscale\":[[0.0,\"#0d0887\"],[0.1111111111111111,\"#46039f\"],[0.2222222222222222,\"#7201a8\"],[0.3333333333333333,\"#9c179e\"],[0.4444444444444444,\"#bd3786\"],[0.5555555555555556,\"#d8576b\"],[0.6666666666666666,\"#ed7953\"],[0.7777777777777778,\"#fb9f3a\"],[0.8888888888888888,\"#fdca26\"],[1.0,\"#f0f921\"]]}],\"heatmap\":[{\"type\":\"heatmap\",\"colorbar\":{\"outlinewidth\":0,\"ticks\":\"\"},\"colorscale\":[[0.0,\"#0d0887\"],[0.1111111111111111,\"#46039f\"],[0.2222222222222222,\"#7201a8\"],[0.3333333333333333,\"#9c179e\"],[0.4444444444444444,\"#bd3786\"],[0.5555555555555556,\"#d8576b\"],[0.6666666666666666,\"#ed7953\"],[0.7777777777777778,\"#fb9f3a\"],[0.8888888888888888,\"#fdca26\"],[1.0,\"#f0f921\"]]}],\"heatmapgl\":[{\"type\":\"heatmapgl\",\"colorbar\":{\"outlinewidth\":0,\"ticks\":\"\"},\"colorscale\":[[0.0,\"#0d0887\"],[0.1111111111111111,\"#46039f\"],[0.2222222222222222,\"#7201a8\"],[0.3333333333333333,\"#9c179e\"],[0.4444444444444444,\"#bd3786\"],[0.5555555555555556,\"#d8576b\"],[0.6666666666666666,\"#ed7953\"],[0.7777777777777778,\"#fb9f3a\"],[0.8888888888888888,\"#fdca26\"],[1.0,\"#f0f921\"]]}],\"contourcarpet\":[{\"type\":\"contourcarpet\",\"colorbar\":{\"outlinewidth\":0,\"ticks\":\"\"}}],\"contour\":[{\"type\":\"contour\",\"colorbar\":{\"outlinewidth\":0,\"ticks\":\"\"},\"colorscale\":[[0.0,\"#0d0887\"],[0.1111111111111111,\"#46039f\"],[0.2222222222222222,\"#7201a8\"],[0.3333333333333333,\"#9c179e\"],[0.4444444444444444,\"#bd3786\"],[0.5555555555555556,\"#d8576b\"],[0.6666666666666666,\"#ed7953\"],[0.7777777777777778,\"#fb9f3a\"],[0.8888888888888888,\"#fdca26\"],[1.0,\"#f0f921\"]]}],\"surface\":[{\"type\":\"surface\",\"colorbar\":{\"outlinewidth\":0,\"ticks\":\"\"},\"colorscale\":[[0.0,\"#0d0887\"],[0.1111111111111111,\"#46039f\"],[0.2222222222222222,\"#7201a8\"],[0.3333333333333333,\"#9c179e\"],[0.4444444444444444,\"#bd3786\"],[0.5555555555555556,\"#d8576b\"],[0.6666666666666666,\"#ed7953\"],[0.7777777777777778,\"#fb9f3a\"],[0.8888888888888888,\"#fdca26\"],[1.0,\"#f0f921\"]]}],\"mesh3d\":[{\"type\":\"mesh3d\",\"colorbar\":{\"outlinewidth\":0,\"ticks\":\"\"}}],\"scatter\":[{\"fillpattern\":{\"fillmode\":\"overlay\",\"size\":10,\"solidity\":0.2},\"type\":\"scatter\"}],\"parcoords\":[{\"type\":\"parcoords\",\"line\":{\"colorbar\":{\"outlinewidth\":0,\"ticks\":\"\"}}}],\"scatterpolargl\":[{\"type\":\"scatterpolargl\",\"marker\":{\"colorbar\":{\"outlinewidth\":0,\"ticks\":\"\"}}}],\"bar\":[{\"error_x\":{\"color\":\"#2a3f5f\"},\"error_y\":{\"color\":\"#2a3f5f\"},\"marker\":{\"line\":{\"color\":\"#E5ECF6\",\"width\":0.5},\"pattern\":{\"fillmode\":\"overlay\",\"size\":10,\"solidity\":0.2}},\"type\":\"bar\"}],\"scattergeo\":[{\"type\":\"scattergeo\",\"marker\":{\"colorbar\":{\"outlinewidth\":0,\"ticks\":\"\"}}}],\"scatterpolar\":[{\"type\":\"scatterpolar\",\"marker\":{\"colorbar\":{\"outlinewidth\":0,\"ticks\":\"\"}}}],\"histogram\":[{\"marker\":{\"pattern\":{\"fillmode\":\"overlay\",\"size\":10,\"solidity\":0.2}},\"type\":\"histogram\"}],\"scattergl\":[{\"type\":\"scattergl\",\"marker\":{\"colorbar\":{\"outlinewidth\":0,\"ticks\":\"\"}}}],\"scatter3d\":[{\"type\":\"scatter3d\",\"line\":{\"colorbar\":{\"outlinewidth\":0,\"ticks\":\"\"}},\"marker\":{\"colorbar\":{\"outlinewidth\":0,\"ticks\":\"\"}}}],\"scattermapbox\":[{\"type\":\"scattermapbox\",\"marker\":{\"colorbar\":{\"outlinewidth\":0,\"ticks\":\"\"}}}],\"scatterternary\":[{\"type\":\"scatterternary\",\"marker\":{\"colorbar\":{\"outlinewidth\":0,\"ticks\":\"\"}}}],\"scattercarpet\":[{\"type\":\"scattercarpet\",\"marker\":{\"colorbar\":{\"outlinewidth\":0,\"ticks\":\"\"}}}],\"carpet\":[{\"aaxis\":{\"endlinecolor\":\"#2a3f5f\",\"gridcolor\":\"white\",\"linecolor\":\"white\",\"minorgridcolor\":\"white\",\"startlinecolor\":\"#2a3f5f\"},\"baxis\":{\"endlinecolor\":\"#2a3f5f\",\"gridcolor\":\"white\",\"linecolor\":\"white\",\"minorgridcolor\":\"white\",\"startlinecolor\":\"#2a3f5f\"},\"type\":\"carpet\"}],\"table\":[{\"cells\":{\"fill\":{\"color\":\"#EBF0F8\"},\"line\":{\"color\":\"white\"}},\"header\":{\"fill\":{\"color\":\"#C8D4E3\"},\"line\":{\"color\":\"white\"}},\"type\":\"table\"}],\"barpolar\":[{\"marker\":{\"line\":{\"color\":\"#E5ECF6\",\"width\":0.5},\"pattern\":{\"fillmode\":\"overlay\",\"size\":10,\"solidity\":0.2}},\"type\":\"barpolar\"}],\"pie\":[{\"automargin\":true,\"type\":\"pie\"}]},\"layout\":{\"autotypenumbers\":\"strict\",\"colorway\":[\"#636efa\",\"#EF553B\",\"#00cc96\",\"#ab63fa\",\"#FFA15A\",\"#19d3f3\",\"#FF6692\",\"#B6E880\",\"#FF97FF\",\"#FECB52\"],\"font\":{\"color\":\"#2a3f5f\"},\"hovermode\":\"closest\",\"hoverlabel\":{\"align\":\"left\"},\"paper_bgcolor\":\"white\",\"plot_bgcolor\":\"#E5ECF6\",\"polar\":{\"bgcolor\":\"#E5ECF6\",\"angularaxis\":{\"gridcolor\":\"white\",\"linecolor\":\"white\",\"ticks\":\"\"},\"radialaxis\":{\"gridcolor\":\"white\",\"linecolor\":\"white\",\"ticks\":\"\"}},\"ternary\":{\"bgcolor\":\"#E5ECF6\",\"aaxis\":{\"gridcolor\":\"white\",\"linecolor\":\"white\",\"ticks\":\"\"},\"baxis\":{\"gridcolor\":\"white\",\"linecolor\":\"white\",\"ticks\":\"\"},\"caxis\":{\"gridcolor\":\"white\",\"linecolor\":\"white\",\"ticks\":\"\"}},\"coloraxis\":{\"colorbar\":{\"outlinewidth\":0,\"ticks\":\"\"}},\"colorscale\":{\"sequential\":[[0.0,\"#0d0887\"],[0.1111111111111111,\"#46039f\"],[0.2222222222222222,\"#7201a8\"],[0.3333333333333333,\"#9c179e\"],[0.4444444444444444,\"#bd3786\"],[0.5555555555555556,\"#d8576b\"],[0.6666666666666666,\"#ed7953\"],[0.7777777777777778,\"#fb9f3a\"],[0.8888888888888888,\"#fdca26\"],[1.0,\"#f0f921\"]],\"sequentialminus\":[[0.0,\"#0d0887\"],[0.1111111111111111,\"#46039f\"],[0.2222222222222222,\"#7201a8\"],[0.3333333333333333,\"#9c179e\"],[0.4444444444444444,\"#bd3786\"],[0.5555555555555556,\"#d8576b\"],[0.6666666666666666,\"#ed7953\"],[0.7777777777777778,\"#fb9f3a\"],[0.8888888888888888,\"#fdca26\"],[1.0,\"#f0f921\"]],\"diverging\":[[0,\"#8e0152\"],[0.1,\"#c51b7d\"],[0.2,\"#de77ae\"],[0.3,\"#f1b6da\"],[0.4,\"#fde0ef\"],[0.5,\"#f7f7f7\"],[0.6,\"#e6f5d0\"],[0.7,\"#b8e186\"],[0.8,\"#7fbc41\"],[0.9,\"#4d9221\"],[1,\"#276419\"]]},\"xaxis\":{\"gridcolor\":\"white\",\"linecolor\":\"white\",\"ticks\":\"\",\"title\":{\"standoff\":15},\"zerolinecolor\":\"white\",\"automargin\":true,\"zerolinewidth\":2},\"yaxis\":{\"gridcolor\":\"white\",\"linecolor\":\"white\",\"ticks\":\"\",\"title\":{\"standoff\":15},\"zerolinecolor\":\"white\",\"automargin\":true,\"zerolinewidth\":2},\"scene\":{\"xaxis\":{\"backgroundcolor\":\"#E5ECF6\",\"gridcolor\":\"white\",\"linecolor\":\"white\",\"showbackground\":true,\"ticks\":\"\",\"zerolinecolor\":\"white\",\"gridwidth\":2},\"yaxis\":{\"backgroundcolor\":\"#E5ECF6\",\"gridcolor\":\"white\",\"linecolor\":\"white\",\"showbackground\":true,\"ticks\":\"\",\"zerolinecolor\":\"white\",\"gridwidth\":2},\"zaxis\":{\"backgroundcolor\":\"#E5ECF6\",\"gridcolor\":\"white\",\"linecolor\":\"white\",\"showbackground\":true,\"ticks\":\"\",\"zerolinecolor\":\"white\",\"gridwidth\":2}},\"shapedefaults\":{\"line\":{\"color\":\"#2a3f5f\"}},\"annotationdefaults\":{\"arrowcolor\":\"#2a3f5f\",\"arrowhead\":0,\"arrowwidth\":1},\"geo\":{\"bgcolor\":\"white\",\"landcolor\":\"#E5ECF6\",\"subunitcolor\":\"white\",\"showland\":true,\"showlakes\":true,\"lakecolor\":\"white\"},\"title\":{\"x\":0.05},\"mapbox\":{\"style\":\"light\"}}},\"margin\":{\"l\":0,\"r\":0,\"t\":30,\"b\":0},\"legend\":{\"orientation\":\"h\",\"yanchor\":\"bottom\",\"y\":1,\"xanchor\":\"center\",\"x\":0.5},\"width\":800,\"height\":250,\"plot_bgcolor\":\"rgb(245,245,245)\",\"xaxis\":{\"range\":[\"2022-07-12 00:59:00+06:00\",\"2022-07-12 01:16:00+06:00\"],\"dtick\":60000,\"showgrid\":true,\"gridwidth\":2}},                        {\"responsive\": true}                    ).then(function(){\n",
       "                            \n",
       "var gd = document.getElementById('b83d1bf0-8438-4ddb-aef5-87f79a60bc49');\n",
       "var x = new MutationObserver(function (mutations, observer) {{\n",
       "        var display = window.getComputedStyle(gd).display;\n",
       "        if (!display || display === 'none') {{\n",
       "            console.log([gd, 'removed!']);\n",
       "            Plotly.purge(gd);\n",
       "            observer.disconnect();\n",
       "        }}\n",
       "}});\n",
       "\n",
       "// Listen for the removal of the full notebook cells\n",
       "var notebookContainer = gd.closest('#notebook-container');\n",
       "if (notebookContainer) {{\n",
       "    x.observe(notebookContainer, {childList: true});\n",
       "}}\n",
       "\n",
       "// Listen for the clearing of the current output cell\n",
       "var outputEl = gd.closest('.output');\n",
       "if (outputEl) {{\n",
       "    x.observe(outputEl, {childList: true});\n",
       "}}\n",
       "\n",
       "                        })                };                });            </script>        </div>"
      ]
     },
     "metadata": {},
     "output_type": "display_data"
    }
   ],
   "source": [
    "list_symbol = [\"circle-open-dot\", \"square-open-dot\", \"diamond-open-dot\", \"x-open-dot\"]\n",
    "\n",
    "n_colors = len(list_symbol)\n",
    "list_colors = px.colors.sample_colorscale(colorscale, [n/(n_colors -1) for n in range(n_colors)])\n",
    "random.shuffle(copy.deepcopy(list_colors))\n",
    "\n",
    "fig = go.Figure()\n",
    "    \n",
    "i_label = 0\n",
    "for col in df_test.columns:\n",
    "\n",
    "    fig.add_trace(go.Scatter(\n",
    "        mode=\"markers\",\n",
    "        x=df_test.index.values,\n",
    "        y=df_test[col].values,\n",
    "        name=col,\n",
    "        marker=dict(\n",
    "            symbol=list_symbol[i_label],\n",
    "            size=15,\n",
    "            line_width=2,\n",
    "        ),\n",
    "        line=dict(\n",
    "            color=list_colors[i_label],\n",
    "        ),\n",
    "    ))\n",
    "\n",
    "    i_label+=1\n",
    "    \n",
    "for col in df_resample.columns:\n",
    "\n",
    "    fig.add_trace(go.Scatter(\n",
    "        mode=\"markers\",\n",
    "        x=df_resample.index.values,\n",
    "        y=df_resample[col].values,\n",
    "        name=col,\n",
    "        marker=dict(\n",
    "            symbol=list_symbol[i_label],\n",
    "            size=10,\n",
    "            line_width=2,\n",
    "        ),\n",
    "        line=dict(\n",
    "            color=list_colors[i_label],\n",
    "        ),\n",
    "    ))\n",
    "\n",
    "    i_label+=1\n",
    "\n",
    "fig.update_layout(\n",
    "    width=800,\n",
    "    height=250,\n",
    "    margin=dict(\n",
    "        l=0,\n",
    "        r=0,\n",
    "        t=30,\n",
    "        b=0,\n",
    "    ),\n",
    "    plot_bgcolor=\"rgb(245,245,245)\",\n",
    "    legend=dict(\n",
    "        orientation=\"h\",\n",
    "        yanchor=\"bottom\",\n",
    "        y=1,\n",
    "        xanchor=\"center\",\n",
    "        x=0.5,\n",
    "    )\n",
    ")\n",
    "\n",
    "fig.update_xaxes(\n",
    "    range=[\"2022-07-12 00:59:00+06:00\",\"2022-07-12 01:16:00+06:00\"],\n",
    "    dtick=1000*60,\n",
    "    showgrid=True,\n",
    "    gridwidth=2, \n",
    ")\n",
    "\n",
    "filename = \"example_feat_stats\"\n",
    "pio.write_image(fig, path + \"/\" + filename + \".svg\")\n",
    "# https://stackoverflow.com/questions/51450134/how-to-convert-svg-to-png-or-jpeg-in-python\n",
    "image = pyvips.Image.thumbnail(path + \"/\" + filename + \".svg\", 3000)\n",
    "image.write_to_file(path + \"/\" + filename + \".png\")\n",
    "\n",
    "fig.show()\n",
    "\n",
    "# #     if i== 1:\n",
    "# #         break\n",
    "\n",
    "# i+=1"
   ]
  },
  {
   "cell_type": "code",
   "execution_count": null,
   "metadata": {},
   "outputs": [],
   "source": []
  },
  {
   "cell_type": "code",
   "execution_count": null,
   "metadata": {},
   "outputs": [],
   "source": []
  }
 ],
 "metadata": {
  "kernelspec": {
   "display_name": "wattile",
   "language": "python",
   "name": "wattile"
  },
  "language_info": {
   "codemirror_mode": {
    "name": "ipython",
    "version": 3
   },
   "file_extension": ".py",
   "mimetype": "text/x-python",
   "name": "python",
   "nbconvert_exporter": "python",
   "pygments_lexer": "ipython3",
   "version": "3.8.13"
  }
 },
 "nbformat": 4,
 "nbformat_minor": 4
}
