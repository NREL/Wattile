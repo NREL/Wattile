{
 "cells": [
  {
   "cell_type": "code",
   "execution_count": 1,
   "metadata": {},
   "outputs": [
    {
     "name": "stdout",
     "output_type": "stream",
     "text": [
      "PROJECT_DIRECTORY = C:\\Users\\JKIM4\\Anaconda3\\envs\\wattile\\Lib\\site-packages\\wattile\n"
     ]
    }
   ],
   "source": [
    "import numpy as np\n",
    "import pandas as pd\n",
    "import random\n",
    "import time\n",
    "import math\n",
    "import os\n",
    "import matplotlib.pyplot as plt\n",
    "import torch\n",
    "import torch.nn as nn\n",
    "import torch.nn.functional as F\n",
    "import torch.optim as optim\n",
    "from torch.nn import init\n",
    "from dateutil import parser\n",
    "from pathlib import Path\n",
    "import json \n",
    "import shutil\n",
    "import logging\n",
    "logger = logging.getLogger(str(os.getpid()))\n",
    "\n",
    "from wattile.data_reading import read_dataset_from_file\n",
    "from wattile.data_processing import correct_predictor_columns, correct_timestamps, resample_or_rolling_stats\n",
    "from wattile.time_processing import add_processed_time_columns\n",
    "PROJECT_DIRECTORY = Path().resolve().parent.parent"
   ]
  },
  {
   "cell_type": "code",
   "execution_count": 2,
   "metadata": {},
   "outputs": [],
   "source": [
    "import copy"
   ]
  },
  {
   "cell_type": "markdown",
   "metadata": {},
   "source": [
    "# reading configs"
   ]
  },
  {
   "cell_type": "code",
   "execution_count": 3,
   "metadata": {},
   "outputs": [
    {
     "data": {
      "text/plain": [
       "{'data_input': {'data_dir': 'C:\\\\Users\\\\JKIM4\\\\Documents\\\\GitHub\\\\intelligentcampus-pred-analytics\\\\data\\\\Synthetic Site',\n",
       "  'data_config': 'Synthetic Site Config.json',\n",
       "  'start_time': '2018-01-01T00:00:00-07:00',\n",
       "  'end_time': '2022-01-01T00:00:00-07:00',\n",
       "  'predictor_columns': ['Synthetic Weather Station Dew Point Temperature',\n",
       "   'Synthetic Weather Station Diffuse Horizontal Irradiance',\n",
       "   'Synthetic Weather Station Direct Normal Irradiance',\n",
       "   'Synthetic Weather Station Dry Bulb Temperature',\n",
       "   'Synthetic Weather Station Global Horizontal Irradiance',\n",
       "   'Synthetic Weather Station Relative Humidity',\n",
       "   'Synthetic Weather Station Wind Speed'],\n",
       "  'target_var': 'Synthetic Site Electricity Main Total Power',\n",
       "  'exp_dir': 'C:\\\\Users\\\\JKIM4\\\\Documents\\\\GitHub\\\\intelligentcampus-pred-analytics\\\\notebooks\\\\exp_dir'},\n",
       " 'data_output': {'exp_dir': 'exp_dir',\n",
       "  'plot_comparison': True,\n",
       "  'plot_comparison_portion_start': 0.0,\n",
       "  'plot_comparison_portion_end': 1.0},\n",
       " 'data_processing': {'feat_time': {'month_of_year': ['sincos'],\n",
       "   'day_of_week': ['binary_reg', 'binary_fuzzy'],\n",
       "   'hour_of_day': ['sincos', 'binary_reg', 'binary_fuzzy'],\n",
       "   'holidays': False},\n",
       "  'resample': {'bin_interval': '15min',\n",
       "   'bin_closed': 'right',\n",
       "   'bin_label': 'right'},\n",
       "  'feat_stats': {'active': True, 'window_width': '15min'},\n",
       "  'feat_timelag': {'lag_interval': '15min', 'lag_count': 24},\n",
       "  'input_output_window': {'window_width_source': '180min',\n",
       "   'window_width_futurecast': '0min',\n",
       "   'window_width_target': '45min'},\n",
       "  'random_seed': 382,\n",
       "  'sequential_splicer': {'active': False, 'window_width': '1W'},\n",
       "  'data_split': '80:20:0',\n",
       "  'train_size_factor': 1},\n",
       " 'learning_algorithm': {'arch_type': 'RNN',\n",
       "  'arch_version': 'alfa',\n",
       "  'arch_type_variant': 'lstm',\n",
       "  'use_case': 'train',\n",
       "  'num_epochs': 100,\n",
       "  'hidden_size': 25,\n",
       "  'num_layers': 1,\n",
       "  'quantiles': [0.025, 0.05, 0.1, 0.25, 0.5, 0.75, 0.9, 0.95, 0.975],\n",
       "  'transformation_method': 'minmaxscale',\n",
       "  'train_batch_size': 26,\n",
       "  'val_batch_size': 1,\n",
       "  'run_resume': False,\n",
       "  'optimizer_config': {'weight_decay': 0.001,\n",
       "   'base': 0.001,\n",
       "   'schedule': False,\n",
       "   'type': 'performance',\n",
       "   'factor': 0.1,\n",
       "   'min': 1e-05,\n",
       "   'patience': 30,\n",
       "   'step_size': 75},\n",
       "  'smoothing_alpha': 0.001,\n",
       "  'eval_frequency': 500,\n",
       "  'test_method': 'external'}}"
      ]
     },
     "execution_count": 3,
     "metadata": {},
     "output_type": "execute_result"
    }
   ],
   "source": [
    "\"\"\"\n",
    "For this example, we will be using the default configs.\n",
    "Check out the docs for an explaination of each config.\n",
    "\"\"\"\n",
    "##################################################################################\n",
    "# choose the configs file to use as an input\n",
    "##################################################################################\n",
    "# main configs file\n",
    "with open(PROJECT_DIRECTORY / \"wattile\" / \"configs\" / \"configs.json\", \"r\") as f:\n",
    "    configs = json.load(f)\n",
    "##################################################################################\n",
    "# code testing configs file\n",
    "# with open(PROJECT_DIRECTORY / \"tests\" / \"fixtures\" / \"test_configs.json\", \"r\") as f:\n",
    "#     configs = json.load(f)\n",
    "##################################################################################\n",
    "\n",
    "exp_dir = PROJECT_DIRECTORY / \"notebooks\" / \"exp_dir\"\n",
    "if exp_dir.exists():\n",
    "    shutil.rmtree(exp_dir)\n",
    "exp_dir.mkdir()\n",
    "\n",
    "configs[\"data_input\"][\"exp_dir\"] = str(PROJECT_DIRECTORY / exp_dir)\n",
    "configs[\"data_input\"][\"data_dir\"] = str(PROJECT_DIRECTORY / \"data\" / \"Synthetic Site\")\n",
    "\n",
    "configs"
   ]
  },
  {
   "cell_type": "markdown",
   "metadata": {},
   "source": [
    "# reading data"
   ]
  },
  {
   "cell_type": "code",
   "execution_count": 4,
   "metadata": {},
   "outputs": [],
   "source": [
    "def get_dummy_data(start, end, iterval):\n",
    "    data = pd.DataFrame(index=pd.date_range(start, end, freq=iterval))\n",
    "    data[\"var_1\"] = data.index.month * 1000000 + data.index.day * 10000 + data.index.hour * 100 + data.index.minute\n",
    "    data[\"target_var\"] = -1 * (data[\"var_1\"])\n",
    "\n",
    "    return data"
   ]
  },
  {
   "cell_type": "code",
   "execution_count": 5,
   "metadata": {},
   "outputs": [
    {
     "data": {
      "text/html": [
       "<div>\n",
       "<style scoped>\n",
       "    .dataframe tbody tr th:only-of-type {\n",
       "        vertical-align: middle;\n",
       "    }\n",
       "\n",
       "    .dataframe tbody tr th {\n",
       "        vertical-align: top;\n",
       "    }\n",
       "\n",
       "    .dataframe thead th {\n",
       "        text-align: right;\n",
       "    }\n",
       "</style>\n",
       "<table border=\"1\" class=\"dataframe\">\n",
       "  <thead>\n",
       "    <tr style=\"text-align: right;\">\n",
       "      <th></th>\n",
       "      <th>var_1</th>\n",
       "      <th>Synthetic Site Electricity Main Total Power</th>\n",
       "    </tr>\n",
       "  </thead>\n",
       "  <tbody>\n",
       "    <tr>\n",
       "      <th>2021-12-01 07:00:00+00:00</th>\n",
       "      <td>12010700</td>\n",
       "      <td>-12010700</td>\n",
       "    </tr>\n",
       "    <tr>\n",
       "      <th>2021-12-01 07:01:00+00:00</th>\n",
       "      <td>12010701</td>\n",
       "      <td>-12010701</td>\n",
       "    </tr>\n",
       "    <tr>\n",
       "      <th>2021-12-01 07:02:00+00:00</th>\n",
       "      <td>12010702</td>\n",
       "      <td>-12010702</td>\n",
       "    </tr>\n",
       "    <tr>\n",
       "      <th>2021-12-01 07:03:00+00:00</th>\n",
       "      <td>12010703</td>\n",
       "      <td>-12010703</td>\n",
       "    </tr>\n",
       "    <tr>\n",
       "      <th>2021-12-01 07:04:00+00:00</th>\n",
       "      <td>12010704</td>\n",
       "      <td>-12010704</td>\n",
       "    </tr>\n",
       "    <tr>\n",
       "      <th>...</th>\n",
       "      <td>...</td>\n",
       "      <td>...</td>\n",
       "    </tr>\n",
       "    <tr>\n",
       "      <th>2021-12-08 06:55:00+00:00</th>\n",
       "      <td>12080655</td>\n",
       "      <td>-12080655</td>\n",
       "    </tr>\n",
       "    <tr>\n",
       "      <th>2021-12-08 06:56:00+00:00</th>\n",
       "      <td>12080656</td>\n",
       "      <td>-12080656</td>\n",
       "    </tr>\n",
       "    <tr>\n",
       "      <th>2021-12-08 06:57:00+00:00</th>\n",
       "      <td>12080657</td>\n",
       "      <td>-12080657</td>\n",
       "    </tr>\n",
       "    <tr>\n",
       "      <th>2021-12-08 06:58:00+00:00</th>\n",
       "      <td>12080658</td>\n",
       "      <td>-12080658</td>\n",
       "    </tr>\n",
       "    <tr>\n",
       "      <th>2021-12-08 06:59:00+00:00</th>\n",
       "      <td>12080659</td>\n",
       "      <td>-12080659</td>\n",
       "    </tr>\n",
       "  </tbody>\n",
       "</table>\n",
       "<p>10080 rows × 2 columns</p>\n",
       "</div>"
      ],
      "text/plain": [
       "                              var_1  \\\n",
       "2021-12-01 07:00:00+00:00  12010700   \n",
       "2021-12-01 07:01:00+00:00  12010701   \n",
       "2021-12-01 07:02:00+00:00  12010702   \n",
       "2021-12-01 07:03:00+00:00  12010703   \n",
       "2021-12-01 07:04:00+00:00  12010704   \n",
       "...                             ...   \n",
       "2021-12-08 06:55:00+00:00  12080655   \n",
       "2021-12-08 06:56:00+00:00  12080656   \n",
       "2021-12-08 06:57:00+00:00  12080657   \n",
       "2021-12-08 06:58:00+00:00  12080658   \n",
       "2021-12-08 06:59:00+00:00  12080659   \n",
       "\n",
       "                           Synthetic Site Electricity Main Total Power  \n",
       "2021-12-01 07:00:00+00:00                                    -12010700  \n",
       "2021-12-01 07:01:00+00:00                                    -12010701  \n",
       "2021-12-01 07:02:00+00:00                                    -12010702  \n",
       "2021-12-01 07:03:00+00:00                                    -12010703  \n",
       "2021-12-01 07:04:00+00:00                                    -12010704  \n",
       "...                                                                ...  \n",
       "2021-12-08 06:55:00+00:00                                    -12080655  \n",
       "2021-12-08 06:56:00+00:00                                    -12080656  \n",
       "2021-12-08 06:57:00+00:00                                    -12080657  \n",
       "2021-12-08 06:58:00+00:00                                    -12080658  \n",
       "2021-12-08 06:59:00+00:00                                    -12080659  \n",
       "\n",
       "[10080 rows x 2 columns]"
      ]
     },
     "execution_count": 5,
     "metadata": {},
     "output_type": "execute_result"
    }
   ],
   "source": [
    "####################################################################\n",
    "# read \"our\" synthetic data\n",
    "####################################################################\n",
    "configs[\"target_feat_name\"] = [configs[\"data_input\"][\"target_var\"]]\n",
    "data, congfigs = read_dataset_from_file(configs)\n",
    "####################################################################\n",
    "# create much simpler dummy data\n",
    "####################################################################\n",
    "target_var = configs[\"data_input\"][\"target_var\"]\n",
    "data = get_dummy_data(data.index[0], data.index[-1], \"1min\")\n",
    "data = data.rename(columns={\"target_var\":target_var})\n",
    "\n",
    "data"
   ]
  },
  {
   "cell_type": "markdown",
   "metadata": {},
   "source": [
    "# test setting"
   ]
  },
  {
   "cell_type": "code",
   "execution_count": 6,
   "metadata": {},
   "outputs": [],
   "source": [
    "configs[\"learning_algorithm\"][\"arch_version\"] = \"bravo\"\n",
    "\n",
    "configs[\"data_processing\"][\"resample\"][\"bin_interval\"] = \"15min\"\n",
    "\n",
    "configs[\"data_processing\"][\"feat_timelag\"][\"lag_interval\"] = \"15min\"\n",
    "configs[\"data_processing\"][\"feat_timelag\"][\"lag_count\"] = 4\n",
    "\n",
    "configs[\"data_processing\"][\"input_output_window\"][\"window_width_source\"] = \"180min\"\n",
    "configs[\"data_processing\"][\"input_output_window\"][\"window_width_target\"] = \"60min\"\n",
    "configs[\"data_processing\"][\"input_output_window\"][\"window_width_futurecast\"] = \"30min\"\n",
    "\n",
    "configs[\"learning_algorithm\"][\"use_case\"] = \"prediction\""
   ]
  },
  {
   "cell_type": "markdown",
   "metadata": {},
   "source": [
    "# data processing"
   ]
  },
  {
   "cell_type": "code",
   "execution_count": 7,
   "metadata": {},
   "outputs": [
    {
     "data": {
      "text/html": [
       "<div>\n",
       "<style scoped>\n",
       "    .dataframe tbody tr th:only-of-type {\n",
       "        vertical-align: middle;\n",
       "    }\n",
       "\n",
       "    .dataframe tbody tr th {\n",
       "        vertical-align: top;\n",
       "    }\n",
       "\n",
       "    .dataframe thead th {\n",
       "        text-align: right;\n",
       "    }\n",
       "</style>\n",
       "<table border=\"1\" class=\"dataframe\">\n",
       "  <thead>\n",
       "    <tr style=\"text-align: right;\">\n",
       "      <th></th>\n",
       "      <th>var_1</th>\n",
       "      <th>Synthetic Site Electricity Main Total Power</th>\n",
       "    </tr>\n",
       "  </thead>\n",
       "  <tbody>\n",
       "    <tr>\n",
       "      <th>2021-12-01 07:00:00+00:00</th>\n",
       "      <td>12010700</td>\n",
       "      <td>-12010700</td>\n",
       "    </tr>\n",
       "    <tr>\n",
       "      <th>2021-12-01 07:01:00+00:00</th>\n",
       "      <td>12010701</td>\n",
       "      <td>-12010701</td>\n",
       "    </tr>\n",
       "    <tr>\n",
       "      <th>2021-12-01 07:02:00+00:00</th>\n",
       "      <td>12010702</td>\n",
       "      <td>-12010702</td>\n",
       "    </tr>\n",
       "    <tr>\n",
       "      <th>2021-12-01 07:03:00+00:00</th>\n",
       "      <td>12010703</td>\n",
       "      <td>-12010703</td>\n",
       "    </tr>\n",
       "    <tr>\n",
       "      <th>2021-12-01 07:04:00+00:00</th>\n",
       "      <td>12010704</td>\n",
       "      <td>-12010704</td>\n",
       "    </tr>\n",
       "    <tr>\n",
       "      <th>...</th>\n",
       "      <td>...</td>\n",
       "      <td>...</td>\n",
       "    </tr>\n",
       "    <tr>\n",
       "      <th>2021-12-08 06:55:00+00:00</th>\n",
       "      <td>12080655</td>\n",
       "      <td>-12080655</td>\n",
       "    </tr>\n",
       "    <tr>\n",
       "      <th>2021-12-08 06:56:00+00:00</th>\n",
       "      <td>12080656</td>\n",
       "      <td>-12080656</td>\n",
       "    </tr>\n",
       "    <tr>\n",
       "      <th>2021-12-08 06:57:00+00:00</th>\n",
       "      <td>12080657</td>\n",
       "      <td>-12080657</td>\n",
       "    </tr>\n",
       "    <tr>\n",
       "      <th>2021-12-08 06:58:00+00:00</th>\n",
       "      <td>12080658</td>\n",
       "      <td>-12080658</td>\n",
       "    </tr>\n",
       "    <tr>\n",
       "      <th>2021-12-08 06:59:00+00:00</th>\n",
       "      <td>12080659</td>\n",
       "      <td>-12080659</td>\n",
       "    </tr>\n",
       "  </tbody>\n",
       "</table>\n",
       "<p>10080 rows × 2 columns</p>\n",
       "</div>"
      ],
      "text/plain": [
       "                              var_1  \\\n",
       "2021-12-01 07:00:00+00:00  12010700   \n",
       "2021-12-01 07:01:00+00:00  12010701   \n",
       "2021-12-01 07:02:00+00:00  12010702   \n",
       "2021-12-01 07:03:00+00:00  12010703   \n",
       "2021-12-01 07:04:00+00:00  12010704   \n",
       "...                             ...   \n",
       "2021-12-08 06:55:00+00:00  12080655   \n",
       "2021-12-08 06:56:00+00:00  12080656   \n",
       "2021-12-08 06:57:00+00:00  12080657   \n",
       "2021-12-08 06:58:00+00:00  12080658   \n",
       "2021-12-08 06:59:00+00:00  12080659   \n",
       "\n",
       "                           Synthetic Site Electricity Main Total Power  \n",
       "2021-12-01 07:00:00+00:00                                    -12010700  \n",
       "2021-12-01 07:01:00+00:00                                    -12010701  \n",
       "2021-12-01 07:02:00+00:00                                    -12010702  \n",
       "2021-12-01 07:03:00+00:00                                    -12010703  \n",
       "2021-12-01 07:04:00+00:00                                    -12010704  \n",
       "...                                                                ...  \n",
       "2021-12-08 06:55:00+00:00                                    -12080655  \n",
       "2021-12-08 06:56:00+00:00                                    -12080656  \n",
       "2021-12-08 06:57:00+00:00                                    -12080657  \n",
       "2021-12-08 06:58:00+00:00                                    -12080658  \n",
       "2021-12-08 06:59:00+00:00                                    -12080659  \n",
       "\n",
       "[10080 rows x 2 columns]"
      ]
     },
     "execution_count": 7,
     "metadata": {},
     "output_type": "execute_result"
    }
   ],
   "source": [
    "# assert we have the correct columns and order them\n",
    "# data = correct_predictor_columns(configs, data)\n",
    "\n",
    "# sort and trim data specified time period\n",
    "# data = correct_timestamps(configs, data)\n",
    "\n",
    "# # Add time-based features\n",
    "# data = add_processed_time_columns(data, configs)\n",
    "\n",
    "# # Add statistics features\n",
    "# data = resample_or_rolling_stats(data, configs)\n",
    "\n",
    "data"
   ]
  },
  {
   "cell_type": "markdown",
   "metadata": {},
   "source": [
    "# test"
   ]
  },
  {
   "cell_type": "markdown",
   "metadata": {},
   "source": [
    "### set timestamp for casting"
   ]
  },
  {
   "cell_type": "markdown",
   "metadata": {},
   "source": [
    "- this is the timestamp that will be the basis for calculating relative window sizes\n",
    "- and representing what time \"now\" is"
   ]
  },
  {
   "cell_type": "code",
   "execution_count": 8,
   "metadata": {},
   "outputs": [
    {
     "data": {
      "text/plain": [
       "Timestamp('2021-12-06 13:30:00+0000', tz='UTC')"
      ]
     },
     "execution_count": 8,
     "metadata": {},
     "output_type": "execute_result"
    }
   ],
   "source": [
    "timestamp_cast = pd.to_datetime(\"2021-12-06 13:30:00+00:00\")\n",
    "timestamp_cast"
   ]
  },
  {
   "cell_type": "markdown",
   "metadata": {},
   "source": [
    "- below is ground truth target measurement(s) we want to predict from now (=`timestamp_cast`)"
   ]
  },
  {
   "cell_type": "code",
   "execution_count": 9,
   "metadata": {},
   "outputs": [
    {
     "data": {
      "text/plain": [
       "2021-12-06 14:00:00+00:00   -12061400\n",
       "Freq: T, Name: Synthetic Site Electricity Main Total Power, dtype: int64"
      ]
     },
     "execution_count": 9,
     "metadata": {},
     "output_type": "execute_result"
    }
   ],
   "source": [
    "timestamp_predict = timestamp_cast + pd.Timedelta(configs[\"data_processing\"][\"input_output_window\"][\"window_width_futurecast\"])\n",
    "groundtruth_target = data.loc[data.index==timestamp_predict, configs[\"data_input\"][\"target_var\"]].iloc[0]\n",
    "data.loc[data.index==timestamp_predict, configs[\"data_input\"][\"target_var\"]]"
   ]
  },
  {
   "cell_type": "markdown",
   "metadata": {},
   "source": [
    "- so this value below is what we want to predict with `timestamp_cast` in deployment scenario"
   ]
  },
  {
   "cell_type": "code",
   "execution_count": 10,
   "metadata": {},
   "outputs": [
    {
     "data": {
      "text/plain": [
       "-12061400"
      ]
     },
     "execution_count": 10,
     "metadata": {},
     "output_type": "execute_result"
    }
   ],
   "source": [
    "groundtruth_target"
   ]
  },
  {
   "cell_type": "markdown",
   "metadata": {},
   "source": [
    "### create output vector"
   ]
  },
  {
   "cell_type": "code",
   "execution_count": 11,
   "metadata": {},
   "outputs": [],
   "source": [
    "def get_prediction_vector_for_time_alfa():\n",
    "    \"\"\"Given the time for which we want to predict, return a vector of actual timestamps\n",
    "    corresponding to the predictions returned by the model\n",
    "\n",
    "    :param output_time: the time for which we want to predict\n",
    "    :type output_time: datetime\n",
    "    :return: a vector of actual timestamps corresponding to the predictions\n",
    "    :rtype: List[timedelta]\n",
    "    \"\"\"\n",
    "\n",
    "    # set up variables\n",
    "    config_data_processing = configs[\"data_processing\"]\n",
    "    window_width_futurecast = config_data_processing[\"input_output_window\"][\n",
    "        \"window_width_futurecast\"\n",
    "    ]\n",
    "\n",
    "    # set future horizon vector\n",
    "    future_horizon_vector = [pd.Timedelta(window_width_futurecast)]\n",
    "\n",
    "    return future_horizon_vector\n",
    "\n",
    "\n",
    "def get_prediction_vector_for_time_bravo():\n",
    "    \"\"\"Given the time for which we want to predict, return a vector of actual timestamps\n",
    "    corresponding to the predictions returned by the model\n",
    "\n",
    "    :param output_time: the time for which we want to predict\n",
    "    :type output_time: datetime\n",
    "    :return: a vector of actual timestamps corresponding to the predictions\n",
    "    :rtype: List[timedelta]\n",
    "    \"\"\"\n",
    "\n",
    "    # initialize horizon vector\n",
    "    future_horizon_vector = []\n",
    "\n",
    "    # set up variables\n",
    "    config_data_processing = configs[\"data_processing\"]\n",
    "    resample_interval = config_data_processing[\"resample\"][\"bin_interval\"]\n",
    "    window_width_futurecast = config_data_processing[\"input_output_window\"][\n",
    "        \"window_width_futurecast\"\n",
    "    ]\n",
    "    window_width_target = config_data_processing[\"input_output_window\"][\n",
    "        \"window_width_target\"\n",
    "    ]\n",
    "\n",
    "    # create horizon vector by adding timedelta via loop\n",
    "    future_horizon_vector = pd.timedelta_range(\n",
    "        start=window_width_futurecast,\n",
    "        end=pd.Timedelta(window_width_target)\n",
    "        + pd.Timedelta(window_width_futurecast),\n",
    "        freq=resample_interval,\n",
    "    ).tolist()\n",
    "\n",
    "    return future_horizon_vector\n",
    "\n",
    "\n",
    "def get_prediction_vector_for_time_charlie():\n",
    "    \"\"\"Given the time for which we want to predict, return a vector of actual timestamps\n",
    "    corresponding to the predictions returned by the model\n",
    "\n",
    "    :param output_time: the time for which we want to predict\n",
    "    :type output_time: datetime\n",
    "    :return: a vector of actual timestamps corresponding to the predictions\n",
    "    :rtype: List[timedelta]\n",
    "    \"\"\"\n",
    "\n",
    "    # initialize horizon vector\n",
    "    future_horizon_vector = []\n",
    "\n",
    "    # set up variables\n",
    "    config_data_processing = configs[\"data_processing\"]\n",
    "    resample_interval = config_data_processing[\"resample\"][\"bin_interval\"]\n",
    "    window_start_delta = config_data_processing[\"input_output_window\"][\n",
    "        \"window_width_futurecast\"\n",
    "    ]\n",
    "    window_width_target = config_data_processing[\"input_output_window\"][\n",
    "        \"window_width_target\"\n",
    "    ]\n",
    "\n",
    "    # calculate future time horizon count\n",
    "    count_horizon = (\n",
    "        pd.Timedelta(window_width_target) // pd.Timedelta(resample_interval) + 1\n",
    "    )\n",
    "\n",
    "    # create horizon vector by adding timedelta via loop\n",
    "    timedelta = pd.Timedelta(window_start_delta)\n",
    "    for i in range(count_horizon):\n",
    "        future_horizon_vector.append(timedelta)\n",
    "        timedelta = pd.Timedelta(timedelta) + pd.Timedelta(resample_interval)\n",
    "\n",
    "    return future_horizon_vector"
   ]
  },
  {
   "cell_type": "code",
   "execution_count": 12,
   "metadata": {},
   "outputs": [
    {
     "data": {
      "text/plain": [
       "[Timedelta('0 days 00:30:00'),\n",
       " Timedelta('0 days 00:45:00'),\n",
       " Timedelta('0 days 01:00:00'),\n",
       " Timedelta('0 days 01:15:00'),\n",
       " Timedelta('0 days 01:30:00')]"
      ]
     },
     "execution_count": 12,
     "metadata": {},
     "output_type": "execute_result"
    }
   ],
   "source": [
    "if configs[\"learning_algorithm\"][\"arch_version\"] == \"alfa\":\n",
    "    \n",
    "    output_vector = get_prediction_vector_for_time_alfa()\n",
    "    \n",
    "elif configs[\"learning_algorithm\"][\"arch_version\"] == \"bravo\":\n",
    "    \n",
    "    output_vector = get_prediction_vector_for_time_bravo()\n",
    "    \n",
    "elif configs[\"learning_algorithm\"][\"arch_version\"] == \"charlie\":\n",
    "    \n",
    "    output_vector = get_prediction_vector_for_time_charlie()\n",
    "    \n",
    "output_vector"
   ]
  },
  {
   "cell_type": "code",
   "execution_count": null,
   "metadata": {},
   "outputs": [],
   "source": []
  }
 ],
 "metadata": {
  "kernelspec": {
   "display_name": "wattile",
   "language": "python",
   "name": "wattile"
  },
  "language_info": {
   "codemirror_mode": {
    "name": "ipython",
    "version": 3
   },
   "file_extension": ".py",
   "mimetype": "text/x-python",
   "name": "python",
   "nbconvert_exporter": "python",
   "pygments_lexer": "ipython3",
   "version": "3.8.13"
  }
 },
 "nbformat": 4,
 "nbformat_minor": 4
}
