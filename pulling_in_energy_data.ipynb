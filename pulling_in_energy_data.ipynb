{
 "cells": [
  {
   "cell_type": "code",
   "execution_count": 102,
   "metadata": {},
   "outputs": [],
   "source": [
    "import numpy as np\n",
    "import pandas as pd\n",
    "import requests\n",
    "import json"
   ]
  },
  {
   "cell_type": "code",
   "execution_count": 110,
   "metadata": {},
   "outputs": [],
   "source": [
    "import arrow\n",
    "import dateutil\n",
    "from dateutil.parser import parse\n",
    "import datetime as dt\n",
    "import pytz"
   ]
  },
  {
   "cell_type": "markdown",
   "metadata": {},
   "source": [
    "getting weather *measurements* datapoints (for solar irradiance) from NREL SRRL BMS through the API:<br>\n",
    "https://internal-apis.nrel.gov/intelligentcampus/hisRead?id=@p:nrel:r:20ed5df2-2c0e126b&range=\"2018-08-31%2c2018-09-02\"\n",
    "\n",
    "In the above request, note the manner in which the date range is specified.\n",
    "\n",
    "to plug in the ID of the specific measurement (Dry Bulb Temperature in the following example) in the above link:<br>\n",
    "NREL => Historian => Weather => NREL SRRL BMS => Dry Bulb Temperature => Aspects => Folio => ID"
   ]
  },
  {
   "cell_type": "markdown",
   "metadata": {},
   "source": [
    "List of ids:\n",
    "    - Energy Consumption => unit kwh => @p:nrel:r:225918db-bfbda16a\n",
    "    - Relative Humidity (RH) => unit %RH  => @p:nrel:r:20ed5e0a-275dbdc2\n",
    "    - Barometric Pressure (BP) => unit mbar  => @p:nrel:r:20ed5e0a-53e174aa\n",
    "    - Dry Bulb Temperature (DBT) => unit degree Far => @p:nrel:r:20ed5e0a-fe755c80\n",
    "    - Global Horizontal Irradiance (GHI) => unit watss/m2_irr => @p:nrel:r:20ed5df2-2c0e126b\n",
    "    - Total Cloud Cover(TCC) => unit % => @p:nrel:r:20ed5e0a-acc8beff\n",
    "    - Wind Speed at 19’ (5.7 meter) (WS) => unit mph => @p:nrel:r:20ed5df2-fd2eecc5\n",
    "    "
   ]
  },
  {
   "cell_type": "code",
   "execution_count": 75,
   "metadata": {},
   "outputs": [],
   "source": [
    "resp1 = requests.get(\"https://internal-apis.nrel.gov/intelligentcampus/hisRead?id=@p:nrel:r:225918db-bfbda16a&range=\\\"2018-08-31%2c2018-09-02\\\"\")\n",
    "if resp1.status_code == 200:\n",
    "    pass\n",
    "else:\n",
    "    print(\"Energy consumption data not coming from API\")\n",
    "\n",
    "EC = resp1.content.decode('utf-8').split(\"\\n\")\n",
    "EC = EC[2:]"
   ]
  },
  {
   "cell_type": "code",
   "execution_count": 112,
   "metadata": {},
   "outputs": [
    {
     "data": {
      "text/plain": [
       "'2018-08-31T06:15:00-06:00 Denver,1051.4326171875kWh'"
      ]
     },
     "execution_count": 112,
     "metadata": {},
     "output_type": "execute_result"
    }
   ],
   "source": [
    "EC[25]"
   ]
  },
  {
   "cell_type": "code",
   "execution_count": 117,
   "metadata": {},
   "outputs": [
    {
     "name": "stdout",
     "output_type": "stream",
     "text": [
      "2018-08-31\n",
      "06:15:00\n",
      "tzoffset(None, -21600)\n"
     ]
    }
   ],
   "source": [
    "dt = parse(EC[25].split(\",\")[0].split(\" \")[0])\n",
    "print(dt.date())\n",
    "print(dt.time())\n",
    "print(dt.tzinfo)"
   ]
  },
  {
   "cell_type": "code",
   "execution_count": null,
   "metadata": {},
   "outputs": [],
   "source": []
  },
  {
   "cell_type": "code",
   "execution_count": null,
   "metadata": {},
   "outputs": [],
   "source": []
  }
 ],
 "metadata": {
  "kernelspec": {
   "display_name": "python3.5",
   "language": "python",
   "name": "python3.5"
  },
  "language_info": {
   "codemirror_mode": {
    "name": "ipython",
    "version": 3
   },
   "file_extension": ".py",
   "mimetype": "text/x-python",
   "name": "python",
   "nbconvert_exporter": "python",
   "pygments_lexer": "ipython3",
   "version": "3.5.6"
  }
 },
 "nbformat": 4,
 "nbformat_minor": 2
}
