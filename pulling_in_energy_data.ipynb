{
 "cells": [
  {
   "cell_type": "code",
   "execution_count": 1,
   "metadata": {},
   "outputs": [],
   "source": [
    "import numpy as np\n",
    "import pandas as pd"
   ]
  },
  {
   "cell_type": "markdown",
   "metadata": {},
   "source": [
    "getting weather *measurements* datapoints (for solar irradiance) from NREL SRRL BMS through the API:<br>\n",
    "https://internal-apis.nrel.gov/intelligentcampus/hisRead?id=@p:nrel:r:20ed5df2-2c0e126b&range=\"2018-08-31%2c2018-09-02\"\n",
    "\n",
    "In the above request, note the manner in which the date range is specified.\n",
    "\n",
    "to plug in the ID of the specific measurement (Dry Bulb Temperature in the following example) in the above link:<br>\n",
    "NREL => Historian => Weather => NREL SRRL BMS => Dry Bulb Temperature => Aspects => Folio => ID"
   ]
  },
  {
   "cell_type": "markdown",
   "metadata": {},
   "source": [
    "List of ids:\n",
    "    - Relative Humidity (RH) => unit %RH  => @p:nrel:r:20ed5e0a-275dbdc2\n",
    "    - Barometric Pressure (BP) => unit mbar  => @p:nrel:r:20ed5e0a-53e174aa\n",
    "    - Dry Bulb Temperature (DBT) => unit degree Far => @p:nrel:r:20ed5e0a-fe755c80\n",
    "    - Global Horizontal Irradiance (GHI) => unit watss/m2_irr => @p:nrel:r:20ed5df2-2c0e126b\n",
    "    - Total Cloud Cover(TCC) => unit % => @p:nrel:r:20ed5e0a-acc8beff\n",
    "    - Wind Speed at 19’ (5.7 meter) (WS) => unit mph => @p:nrel:r:20ed5df2-fd2eecc5\n",
    "    - Energy Consumption => unit kwh => @p:nrel:r:225918db-bfbda16a"
   ]
  },
  {
   "cell_type": "code",
   "execution_count": null,
   "metadata": {},
   "outputs": [],
   "source": []
  }
 ],
 "metadata": {
  "kernelspec": {
   "display_name": "python3.5",
   "language": "python",
   "name": "python3.5"
  },
  "language_info": {
   "codemirror_mode": {
    "name": "ipython",
    "version": 3
   },
   "file_extension": ".py",
   "mimetype": "text/x-python",
   "name": "python",
   "nbconvert_exporter": "python",
   "pygments_lexer": "ipython3",
   "version": "3.5.6"
  }
 },
 "nbformat": 4,
 "nbformat_minor": 2
}
