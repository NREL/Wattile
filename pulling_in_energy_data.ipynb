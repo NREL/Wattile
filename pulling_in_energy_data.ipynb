{
 "cells": [
  {
   "cell_type": "code",
   "execution_count": 293,
   "metadata": {},
   "outputs": [],
   "source": [
    "import numpy as np\n",
    "import pandas as pd\n",
    "import requests\n",
    "import json\n",
    "import re\n",
    "from functools import reduce"
   ]
  },
  {
   "cell_type": "code",
   "execution_count": 2,
   "metadata": {},
   "outputs": [],
   "source": [
    "import dateutil\n",
    "from dateutil.parser import parse\n",
    "import datetime"
   ]
  },
  {
   "cell_type": "markdown",
   "metadata": {},
   "source": [
    "getting weather *measurements* datapoints (for solar irradiance) from NREL SRRL BMS through the API:<br>\n",
    "https://internal-apis.nrel.gov/intelligentcampus/hisRead?id=@p:nrel:r:20ed5df2-2c0e126b&range=\"2018-08-31%2c2018-09-02\"\n",
    "\n",
    "In the above request, note the manner in which the date range is specified.\n",
    "\n",
    "to plug in the ID of the specific measurement (Dry Bulb Temperature in the following example) in the above link:<br>\n",
    "NREL => Historian => Weather => NREL SRRL BMS => Dry Bulb Temperature => Aspects => Folio => ID"
   ]
  },
  {
   "cell_type": "markdown",
   "metadata": {},
   "source": [
    "List of ids:\n",
    "    - Energy Consumption => unit kwh => @p:nrel:r:225918db-bfbda16a\n",
    "    - Relative Humidity (RH) => unit %RH  => @p:nrel:r:20ed5e0a-275dbdc2\n",
    "    - Barometric Pressure (BP) => unit mbar  => @p:nrel:r:20ed5e0a-53e174aa\n",
    "    - Dry Bulb Temperature (DBT) => unit degree Far => @p:nrel:r:20ed5e0a-fe755c80\n",
    "    - Global Horizontal Irradiance (GHI) => unit watss/m2_irr => @p:nrel:r:20ed5df2-2c0e126b\n",
    "    - Total Cloud Cover(TCC) => unit % => @p:nrel:r:20ed5e0a-acc8beff\n",
    "    - Wind Speed at 19’ (5.7 meter) (WS) => unit mph => @p:nrel:r:20ed5df2-fd2eecc5\n",
    "    "
   ]
  },
  {
   "cell_type": "code",
   "execution_count": 324,
   "metadata": {},
   "outputs": [],
   "source": [
    "start_date = '2018-10-22'\n",
    "end_date = '2018-11-22'\n",
    "start_time = '00:01:00'\n",
    "end_time = '23:59:00'"
   ]
  },
  {
   "cell_type": "markdown",
   "metadata": {},
   "source": [
    "### requesting the data from API\n",
    "- storing it in a dictionary"
   ]
  },
  {
   "cell_type": "code",
   "execution_count": 325,
   "metadata": {},
   "outputs": [],
   "source": [
    "root_url = 'https://internal-apis.nrel.gov/intelligentcampus/hisRead?id='\n",
    "reference_id = ['@p:nrel:r:225918db-bfbda16a','@p:nrel:r:20ed5e0a-275dbdc2','@p:nrel:r:20ed5e0a-53e174aa',\n",
    "                '@p:nrel:r:20ed5e0a-fe755c80','@p:nrel:r:20ed5df2-2c0e126b','@p:nrel:r:20ed5e0a-acc8beff',\n",
    "                '@p:nrel:r:20ed5df2-fd2eecc5']\n",
    "date_range = '&range=\\\"'+start_date+'%2c'+end_date+'\\\"'\n",
    "feat_name = ['EC','RH','BP','DBT','GHI','TCC','WS']\n",
    "\n",
    "response_dict = {}\n",
    "for i in range(len(reference_id)):\n",
    "    response_dict['resp_'+feat_name[i]] = requests.get(root_url+reference_id[i]+date_range)\n",
    "    if response_dict['resp_'+feat_name[i]].status_code == 200:\n",
    "        pass\n",
    "    else:\n",
    "        print(\"response from {} is not getting fetched from API\".format(feat_name[i]))"
   ]
  },
  {
   "cell_type": "code",
   "execution_count": 326,
   "metadata": {},
   "outputs": [
    {
     "data": {
      "text/plain": [
       "3072"
      ]
     },
     "execution_count": 326,
     "metadata": {},
     "output_type": "execute_result"
    }
   ],
   "source": [
    "EC = response_dict['resp_EC'].content.decode('utf-8').split(\"\\n\")\n",
    "EC = EC[2:]\n",
    "EC = filter(None, EC)\n",
    "len(list(EC))"
   ]
  },
  {
   "cell_type": "code",
   "execution_count": 327,
   "metadata": {},
   "outputs": [],
   "source": [
    "def str_split(row):\n",
    "    time_val = row.split(\",\")[0].strip(\" Denver\")\n",
    "    energy_val = row.split(\",\")[1]\n",
    "    energy_val = re.sub('[kwh%RHmbar°FW/m²_irrp]','', energy_val)\n",
    "    return (time_val, float(energy_val))\n",
    "\n",
    "def date_parser(row):\n",
    "    parsed = parse(row)\n",
    "    datetime_var = parsed.strftime(format='%m-%d-%y %H:%M:%S')\n",
    "    date = parsed.date()\n",
    "    time = parsed.time()\n",
    "    return (datetime_var ,date, time)"
   ]
  },
  {
   "cell_type": "markdown",
   "metadata": {},
   "source": [
    "### parsing the data (which came as string of non-json format) to get the timestamp and feat_value\n",
    "- implemented to scale for all the input features\n",
    "- str_split function used for splitting datetime and feat_values\n",
    "- date_parser function used for converting the datetime into desired datetime strings"
   ]
  },
  {
   "cell_type": "code",
   "execution_count": 328,
   "metadata": {},
   "outputs": [],
   "source": [
    "feat_name = ['EC','RH','BP','DBT','GHI','TCC','WS']\n",
    "parsed_dict = {}\n",
    "for i in range(len(feat_name)):\n",
    "    parsed_dict[feat_name[i]] = response_dict['resp_'+feat_name[i]].content.decode('utf-8').split(\"\\n\")\n",
    "    parsed_dict[feat_name[i]] = parsed_dict[feat_name[i]][2:]\n",
    "    parsed_dict[feat_name[i]] = filter(None, parsed_dict[feat_name[i]])\n",
    "    parsed_dict[feat_name[i]] = list(map(str_split, parsed_dict[feat_name[i]]))\n",
    "    \n",
    "    # the following line gives list (len 2) of lists (i.e. EC_dt and EC_value)\n",
    "    # i.e. EC_dt, EC_value = EC[0], EC[1]\n",
    "    parsed_dict[feat_name[i]] = list(zip(*parsed_dict[feat_name[i]]))\n",
    "    \n",
    "    # parsing the datetimeinfo obtained in above list into datetime string, date and time\n",
    "    # the lists can be unpacked as:\n",
    "    # EC_datetime, EC_date, EC_time = EC_dt_parsed[0], EC_dt_parsed[1], EC_dt_parsed[2]\n",
    "    parsed_dict[feat_name[i]+'_dt_parsed'] = list(map(date_parser, parsed_dict[feat_name[i]][0]))\n",
    "    parsed_dict[feat_name[i]+'_dt_parsed'] = list(zip(*parsed_dict[feat_name[i]+'_dt_parsed']))"
   ]
  },
  {
   "cell_type": "code",
   "execution_count": 329,
   "metadata": {},
   "outputs": [
    {
     "data": {
      "text/plain": [
       "dict_keys(['BP', 'WS', 'DBT_dt_parsed', 'RH_dt_parsed', 'RH', 'EC_dt_parsed', 'BP_dt_parsed', 'TCC_dt_parsed', 'EC', 'TCC', 'DBT', 'GHI', 'GHI_dt_parsed', 'WS_dt_parsed'])"
      ]
     },
     "execution_count": 329,
     "metadata": {},
     "output_type": "execute_result"
    }
   ],
   "source": [
    "parsed_dict.keys()"
   ]
  },
  {
   "cell_type": "markdown",
   "metadata": {},
   "source": [
    "### sample feature (GHI) data pre-processing\n",
    "- converting the parsed lists into dataframe\n",
    "- inserting the intended first and the last time-stamp (if not present already)\n",
    "- setting the index as DatetimeIndex to fill-in the missing time stamps\n",
    "- filling in the nan values for the feature with the average of before and after value"
   ]
  },
  {
   "cell_type": "code",
   "execution_count": 330,
   "metadata": {},
   "outputs": [
    {
     "name": "stdout",
     "output_type": "stream",
     "text": [
      "shape of raw dataframe: (45870, 2)\n",
      "shape of processed dataframe: (46079, 2)\n"
     ]
    }
   ],
   "source": [
    "df_GHI = pd.DataFrame({'datetime_str':parsed_dict['GHI_dt_parsed'][0],'GHI':parsed_dict['GHI'][1],},\n",
    "                 columns=['datetime_str','GHI'])\n",
    "print(\"shape of raw dataframe: {}\".format(df_GHI.shape))\n",
    "\n",
    "df_GHI['datetime_str'] = pd.to_datetime(df_GHI['datetime_str'])\n",
    "if not (df_GHI.loc[0, 'datetime_str'] == pd.to_datetime(start_date+' '+start_time)):\n",
    "    df_GHI.loc[0, 'datetime_str'] = pd.to_datetime(start_date+' '+start_time)\n",
    "if not (df_GHI.loc[df_GHI.index[-1], 'datetime_str'] == pd.to_datetime(end_date+' '+end_time)):\n",
    "    df_GHI.loc[df_GHI.index[-1], 'datetime_str'] = pd.to_datetime(end_date+' '+end_time)\n",
    "    \n",
    "df_GHI=df_GHI.set_index('datetime_str').resample(\"1min\").first().reset_index().reindex(columns=df_GHI.columns)\n",
    "cols = df_GHI.columns.difference(['GHI'])\n",
    "df_GHI[cols] = df_GHI[cols].ffill()\n",
    "df_GHI['GHI'] = df_GHI['GHI'].fillna(((df_GHI['GHI'].shift() + df_GHI['GHI'].shift(-1))/2))\n",
    "print(\"shape of processed dataframe: {}\".format(df_GHI.shape))"
   ]
  },
  {
   "cell_type": "markdown",
   "metadata": {},
   "source": [
    "### scaling the above sample for all the input features (excluding the target feature :EC)\n",
    "- using a dictionary to store the individual dataframes for the input features"
   ]
  },
  {
   "cell_type": "code",
   "execution_count": 331,
   "metadata": {},
   "outputs": [
    {
     "name": "stdout",
     "output_type": "stream",
     "text": [
      "raw_dataframe = df_RH, shape = (45868, 2)\n",
      "shape of processed dataframe: (46079, 2)\n",
      "raw_dataframe = df_BP, shape = (45868, 2)\n",
      "shape of processed dataframe: (46079, 2)\n",
      "raw_dataframe = df_DBT, shape = (45869, 2)\n",
      "shape of processed dataframe: (46079, 2)\n",
      "raw_dataframe = df_GHI, shape = (45870, 2)\n",
      "shape of processed dataframe: (46079, 2)\n",
      "raw_dataframe = df_TCC, shape = (45868, 2)\n",
      "shape of processed dataframe: (46079, 2)\n",
      "raw_dataframe = df_WS, shape = (45870, 2)\n",
      "shape of processed dataframe: (46079, 2)\n"
     ]
    }
   ],
   "source": [
    "input_feat_name = ['RH','BP','DBT','GHI','TCC','WS']\n",
    "df_dict = {}\n",
    "for i in range(len(input_feat_name)):\n",
    "    df_dict[\"df_\"+input_feat_name[i]] = pd.DataFrame({'datetime_str':parsed_dict[input_feat_name[i]+'_dt_parsed'][0],\n",
    "                                                input_feat_name[i]:parsed_dict[input_feat_name[i]][1]},\n",
    "                                               columns=['datetime_str',input_feat_name[i]])\n",
    "    \n",
    "    df_temp = df_dict[\"df_\"+input_feat_name[i]]\n",
    "    df_temp.name = \"df_\"+input_feat_name[i]\n",
    "    print(\"raw_dataframe = {}, shape = {}\".format(df_temp.name,df_temp.shape))\n",
    "    df_temp['datetime_str'] = pd.to_datetime(df_temp['datetime_str'])\n",
    "\n",
    "    if not (df_temp.loc[0, 'datetime_str'] == pd.to_datetime(start_date+' '+start_time)):\n",
    "        df_temp.loc[0, 'datetime_str'] = pd.to_datetime(start_date+' '+start_time)\n",
    "    if not (df_temp.loc[df_temp.index[-1], 'datetime_str'] == pd.to_datetime(end_date+' '+end_time)):\n",
    "        df_temp.loc[df_temp.index[-1], 'datetime_str'] = pd.to_datetime(end_date+' '+end_time)\n",
    "    \n",
    "    df_temp=df_temp.set_index('datetime_str').resample(\"1min\").first().reset_index().reindex(columns=df_temp.columns)\n",
    "    cols = df_temp.columns.difference([input_feat_name[i]])\n",
    "    df_temp[cols] = df_temp[cols].ffill()\n",
    "    df_temp[input_feat_name[i]] = df_temp[input_feat_name[i]].fillna(((df_temp[input_feat_name[i]].shift() + df_temp[input_feat_name[i]].shift(-1))/2))\n",
    "    print(\"shape of processed dataframe: {}\".format(df_temp.shape))\n",
    "\n",
    "    df_dict[\"df_\"+input_feat_name[i]] = df_temp\n",
    "    del df_temp"
   ]
  },
  {
   "cell_type": "markdown",
   "metadata": {},
   "source": [
    "### Processing the EC raw values separately"
   ]
  },
  {
   "cell_type": "code",
   "execution_count": 332,
   "metadata": {},
   "outputs": [],
   "source": [
    "df_EC = pd.DataFrame({'datetime_str':parsed_dict['EC_dt_parsed'][0],'EC':parsed_dict['EC'][1],},\n",
    "                 columns=['datetime_str','EC'])"
   ]
  },
  {
   "cell_type": "code",
   "execution_count": 333,
   "metadata": {},
   "outputs": [
    {
     "data": {
      "text/html": [
       "<div>\n",
       "<style scoped>\n",
       "    .dataframe tbody tr th:only-of-type {\n",
       "        vertical-align: middle;\n",
       "    }\n",
       "\n",
       "    .dataframe tbody tr th {\n",
       "        vertical-align: top;\n",
       "    }\n",
       "\n",
       "    .dataframe thead th {\n",
       "        text-align: right;\n",
       "    }\n",
       "</style>\n",
       "<table border=\"1\" class=\"dataframe\">\n",
       "  <thead>\n",
       "    <tr style=\"text-align: right;\">\n",
       "      <th></th>\n",
       "      <th>datetime_str</th>\n",
       "      <th>EC</th>\n",
       "    </tr>\n",
       "  </thead>\n",
       "  <tbody>\n",
       "    <tr>\n",
       "      <th>3067</th>\n",
       "      <td>11-22-18 22:45:00</td>\n",
       "      <td>1030.372314</td>\n",
       "    </tr>\n",
       "    <tr>\n",
       "      <th>3068</th>\n",
       "      <td>11-22-18 23:00:00</td>\n",
       "      <td>1035.045410</td>\n",
       "    </tr>\n",
       "    <tr>\n",
       "      <th>3069</th>\n",
       "      <td>11-22-18 23:15:00</td>\n",
       "      <td>1041.634888</td>\n",
       "    </tr>\n",
       "    <tr>\n",
       "      <th>3070</th>\n",
       "      <td>11-22-18 23:30:00</td>\n",
       "      <td>1039.833496</td>\n",
       "    </tr>\n",
       "    <tr>\n",
       "      <th>3071</th>\n",
       "      <td>11-22-18 23:45:00</td>\n",
       "      <td>1035.173828</td>\n",
       "    </tr>\n",
       "  </tbody>\n",
       "</table>\n",
       "</div>"
      ],
      "text/plain": [
       "           datetime_str           EC\n",
       "3067  11-22-18 22:45:00  1030.372314\n",
       "3068  11-22-18 23:00:00  1035.045410\n",
       "3069  11-22-18 23:15:00  1041.634888\n",
       "3070  11-22-18 23:30:00  1039.833496\n",
       "3071  11-22-18 23:45:00  1035.173828"
      ]
     },
     "execution_count": 333,
     "metadata": {},
     "output_type": "execute_result"
    }
   ],
   "source": [
    "df_EC.tail()"
   ]
  },
  {
   "cell_type": "code",
   "execution_count": 334,
   "metadata": {},
   "outputs": [],
   "source": [
    "EC_start_time = '00:00:00'\n",
    "EC_end_time = '23:45:00'"
   ]
  },
  {
   "cell_type": "code",
   "execution_count": 335,
   "metadata": {},
   "outputs": [
    {
     "name": "stdout",
     "output_type": "stream",
     "text": [
      "shape of raw dataframe: (3072, 2)\n",
      "shape of processed dataframe: (3072, 2)\n"
     ]
    }
   ],
   "source": [
    "df_EC = pd.DataFrame({'datetime_str':parsed_dict['EC_dt_parsed'][0],'EC':parsed_dict['EC'][1],},\n",
    "                 columns=['datetime_str','EC'])\n",
    "print(\"shape of raw dataframe: {}\".format(df_EC.shape))\n",
    "\n",
    "df_EC['datetime_str'] = pd.to_datetime(df_EC['datetime_str'])\n",
    "if not (df_EC.loc[0, 'datetime_str'] == pd.to_datetime(start_date+' '+EC_start_time)):\n",
    "    df_EC.loc[0, 'datetime_str'] = pd.to_datetime(start_date+' '+EC_start_time)\n",
    "if not (df_EC.loc[df_EC.index[-1], 'datetime_str'] == pd.to_datetime(end_date+' '+EC_end_time)):\n",
    "    df_EC.loc[df_EC.index[-1], 'datetime_str'] = pd.to_datetime(end_date+' '+EC_end_time)\n",
    "    \n",
    "df_EC=df_EC.set_index('datetime_str').resample(\"15min\").first().reset_index().reindex(columns=df_EC.columns)\n",
    "cols = df_EC.columns.difference(['EC'])\n",
    "df_EC[cols] = df_EC[cols].ffill()\n",
    "df_EC['EC'] = df_EC['EC'].fillna(((df_EC['EC'].shift() + df_EC['EC'].shift(-1))/2))\n",
    "print(\"shape of processed dataframe: {}\".format(df_EC.shape))"
   ]
  },
  {
   "cell_type": "code",
   "execution_count": 336,
   "metadata": {},
   "outputs": [
    {
     "data": {
      "text/html": [
       "<div>\n",
       "<style scoped>\n",
       "    .dataframe tbody tr th:only-of-type {\n",
       "        vertical-align: middle;\n",
       "    }\n",
       "\n",
       "    .dataframe tbody tr th {\n",
       "        vertical-align: top;\n",
       "    }\n",
       "\n",
       "    .dataframe thead th {\n",
       "        text-align: right;\n",
       "    }\n",
       "</style>\n",
       "<table border=\"1\" class=\"dataframe\">\n",
       "  <thead>\n",
       "    <tr style=\"text-align: right;\">\n",
       "      <th></th>\n",
       "      <th>datetime_str</th>\n",
       "      <th>EC</th>\n",
       "    </tr>\n",
       "  </thead>\n",
       "  <tbody>\n",
       "    <tr>\n",
       "      <th>0</th>\n",
       "      <td>2018-10-22 00:00:00</td>\n",
       "      <td>1121.757446</td>\n",
       "    </tr>\n",
       "    <tr>\n",
       "      <th>1</th>\n",
       "      <td>2018-10-22 00:15:00</td>\n",
       "      <td>1124.623535</td>\n",
       "    </tr>\n",
       "    <tr>\n",
       "      <th>2</th>\n",
       "      <td>2018-10-22 00:30:00</td>\n",
       "      <td>1137.146484</td>\n",
       "    </tr>\n",
       "    <tr>\n",
       "      <th>3</th>\n",
       "      <td>2018-10-22 00:45:00</td>\n",
       "      <td>1127.491821</td>\n",
       "    </tr>\n",
       "    <tr>\n",
       "      <th>4</th>\n",
       "      <td>2018-10-22 01:00:00</td>\n",
       "      <td>1131.487305</td>\n",
       "    </tr>\n",
       "  </tbody>\n",
       "</table>\n",
       "</div>"
      ],
      "text/plain": [
       "         datetime_str           EC\n",
       "0 2018-10-22 00:00:00  1121.757446\n",
       "1 2018-10-22 00:15:00  1124.623535\n",
       "2 2018-10-22 00:30:00  1137.146484\n",
       "3 2018-10-22 00:45:00  1127.491821\n",
       "4 2018-10-22 01:00:00  1131.487305"
      ]
     },
     "execution_count": 336,
     "metadata": {},
     "output_type": "execute_result"
    }
   ],
   "source": [
    "df_EC.head()"
   ]
  },
  {
   "cell_type": "markdown",
   "metadata": {},
   "source": [
    "### Merging and re-sampling the dataframes of the input features\n",
    "- merge reference (https://stackoverflow.com/questions/44327999/python-pandas-merge-multiple-dataframes/44338256)"
   ]
  },
  {
   "cell_type": "code",
   "execution_count": 337,
   "metadata": {},
   "outputs": [],
   "source": [
    "df_list = []\n",
    "for key, value in df_dict.items():\n",
    "    df_list.append(df_dict[key])\n",
    "    \n",
    "input_df = reduce(lambda left,right: pd.merge(left,right,on=['datetime_str'], how='outer'), df_list)"
   ]
  },
  {
   "cell_type": "code",
   "execution_count": 338,
   "metadata": {},
   "outputs": [
    {
     "data": {
      "text/html": [
       "<div>\n",
       "<style scoped>\n",
       "    .dataframe tbody tr th:only-of-type {\n",
       "        vertical-align: middle;\n",
       "    }\n",
       "\n",
       "    .dataframe tbody tr th {\n",
       "        vertical-align: top;\n",
       "    }\n",
       "\n",
       "    .dataframe thead th {\n",
       "        text-align: right;\n",
       "    }\n",
       "</style>\n",
       "<table border=\"1\" class=\"dataframe\">\n",
       "  <thead>\n",
       "    <tr style=\"text-align: right;\">\n",
       "      <th></th>\n",
       "      <th>datetime_str</th>\n",
       "      <th>RH</th>\n",
       "      <th>DBT</th>\n",
       "      <th>TCC</th>\n",
       "      <th>GHI</th>\n",
       "      <th>BP</th>\n",
       "      <th>WS</th>\n",
       "    </tr>\n",
       "  </thead>\n",
       "  <tbody>\n",
       "    <tr>\n",
       "      <th>0</th>\n",
       "      <td>2018-10-22 00:01:00</td>\n",
       "      <td>32.209999</td>\n",
       "      <td>54.698002</td>\n",
       "      <td>-1.0</td>\n",
       "      <td>-1.147713</td>\n",
       "      <td>819.689575</td>\n",
       "      <td>8.556530</td>\n",
       "    </tr>\n",
       "    <tr>\n",
       "      <th>1</th>\n",
       "      <td>2018-10-22 00:02:00</td>\n",
       "      <td>32.244999</td>\n",
       "      <td>54.698002</td>\n",
       "      <td>-1.0</td>\n",
       "      <td>-1.173408</td>\n",
       "      <td>819.702087</td>\n",
       "      <td>8.388755</td>\n",
       "    </tr>\n",
       "    <tr>\n",
       "      <th>2</th>\n",
       "      <td>2018-10-22 00:03:00</td>\n",
       "      <td>32.279999</td>\n",
       "      <td>54.698002</td>\n",
       "      <td>-1.0</td>\n",
       "      <td>-1.199104</td>\n",
       "      <td>819.714600</td>\n",
       "      <td>8.220980</td>\n",
       "    </tr>\n",
       "    <tr>\n",
       "      <th>3</th>\n",
       "      <td>2018-10-22 00:04:00</td>\n",
       "      <td>32.209999</td>\n",
       "      <td>54.698002</td>\n",
       "      <td>-1.0</td>\n",
       "      <td>-1.239078</td>\n",
       "      <td>819.728577</td>\n",
       "      <td>6.655079</td>\n",
       "    </tr>\n",
       "    <tr>\n",
       "      <th>4</th>\n",
       "      <td>2018-10-22 00:05:00</td>\n",
       "      <td>32.980000</td>\n",
       "      <td>54.644001</td>\n",
       "      <td>-1.0</td>\n",
       "      <td>-1.235390</td>\n",
       "      <td>819.731812</td>\n",
       "      <td>5.733435</td>\n",
       "    </tr>\n",
       "  </tbody>\n",
       "</table>\n",
       "</div>"
      ],
      "text/plain": [
       "         datetime_str         RH        DBT  TCC       GHI          BP  \\\n",
       "0 2018-10-22 00:01:00  32.209999  54.698002 -1.0 -1.147713  819.689575   \n",
       "1 2018-10-22 00:02:00  32.244999  54.698002 -1.0 -1.173408  819.702087   \n",
       "2 2018-10-22 00:03:00  32.279999  54.698002 -1.0 -1.199104  819.714600   \n",
       "3 2018-10-22 00:04:00  32.209999  54.698002 -1.0 -1.239078  819.728577   \n",
       "4 2018-10-22 00:05:00  32.980000  54.644001 -1.0 -1.235390  819.731812   \n",
       "\n",
       "         WS  \n",
       "0  8.556530  \n",
       "1  8.388755  \n",
       "2  8.220980  \n",
       "3  6.655079  \n",
       "4  5.733435  "
      ]
     },
     "execution_count": 338,
     "metadata": {},
     "output_type": "execute_result"
    }
   ],
   "source": [
    "input_df.head()"
   ]
  },
  {
   "cell_type": "code",
   "execution_count": 339,
   "metadata": {},
   "outputs": [],
   "source": [
    "input_df =input_df.set_index('datetime_str').resample(\"15min\").mean().reset_index().reindex(columns=input_df.columns)"
   ]
  },
  {
   "cell_type": "code",
   "execution_count": 340,
   "metadata": {},
   "outputs": [
    {
     "data": {
      "text/html": [
       "<div>\n",
       "<style scoped>\n",
       "    .dataframe tbody tr th:only-of-type {\n",
       "        vertical-align: middle;\n",
       "    }\n",
       "\n",
       "    .dataframe tbody tr th {\n",
       "        vertical-align: top;\n",
       "    }\n",
       "\n",
       "    .dataframe thead th {\n",
       "        text-align: right;\n",
       "    }\n",
       "</style>\n",
       "<table border=\"1\" class=\"dataframe\">\n",
       "  <thead>\n",
       "    <tr style=\"text-align: right;\">\n",
       "      <th></th>\n",
       "      <th>datetime_str</th>\n",
       "      <th>RH</th>\n",
       "      <th>DBT</th>\n",
       "      <th>TCC</th>\n",
       "      <th>GHI</th>\n",
       "      <th>BP</th>\n",
       "      <th>WS</th>\n",
       "    </tr>\n",
       "  </thead>\n",
       "  <tbody>\n",
       "    <tr>\n",
       "      <th>0</th>\n",
       "      <td>2018-10-22 00:00:00</td>\n",
       "      <td>34.076071</td>\n",
       "      <td>53.763286</td>\n",
       "      <td>-1.0</td>\n",
       "      <td>-1.139005</td>\n",
       "      <td>819.694445</td>\n",
       "      <td>9.041640</td>\n",
       "    </tr>\n",
       "    <tr>\n",
       "      <th>1</th>\n",
       "      <td>2018-10-22 00:15:00</td>\n",
       "      <td>34.491333</td>\n",
       "      <td>53.134400</td>\n",
       "      <td>-1.0</td>\n",
       "      <td>-1.082448</td>\n",
       "      <td>819.649076</td>\n",
       "      <td>11.039303</td>\n",
       "    </tr>\n",
       "    <tr>\n",
       "      <th>2</th>\n",
       "      <td>2018-10-22 00:30:00</td>\n",
       "      <td>35.003334</td>\n",
       "      <td>52.816400</td>\n",
       "      <td>-1.0</td>\n",
       "      <td>-1.132512</td>\n",
       "      <td>819.679940</td>\n",
       "      <td>9.348578</td>\n",
       "    </tr>\n",
       "    <tr>\n",
       "      <th>3</th>\n",
       "      <td>2018-10-22 00:45:00</td>\n",
       "      <td>34.592000</td>\n",
       "      <td>52.854800</td>\n",
       "      <td>-1.0</td>\n",
       "      <td>-1.142429</td>\n",
       "      <td>819.654358</td>\n",
       "      <td>10.930883</td>\n",
       "    </tr>\n",
       "    <tr>\n",
       "      <th>4</th>\n",
       "      <td>2018-10-22 01:00:00</td>\n",
       "      <td>33.197667</td>\n",
       "      <td>53.549600</td>\n",
       "      <td>-1.0</td>\n",
       "      <td>-1.213715</td>\n",
       "      <td>819.607865</td>\n",
       "      <td>11.558586</td>\n",
       "    </tr>\n",
       "  </tbody>\n",
       "</table>\n",
       "</div>"
      ],
      "text/plain": [
       "         datetime_str         RH        DBT  TCC       GHI          BP  \\\n",
       "0 2018-10-22 00:00:00  34.076071  53.763286 -1.0 -1.139005  819.694445   \n",
       "1 2018-10-22 00:15:00  34.491333  53.134400 -1.0 -1.082448  819.649076   \n",
       "2 2018-10-22 00:30:00  35.003334  52.816400 -1.0 -1.132512  819.679940   \n",
       "3 2018-10-22 00:45:00  34.592000  52.854800 -1.0 -1.142429  819.654358   \n",
       "4 2018-10-22 01:00:00  33.197667  53.549600 -1.0 -1.213715  819.607865   \n",
       "\n",
       "          WS  \n",
       "0   9.041640  \n",
       "1  11.039303  \n",
       "2   9.348578  \n",
       "3  10.930883  \n",
       "4  11.558586  "
      ]
     },
     "execution_count": 340,
     "metadata": {},
     "output_type": "execute_result"
    }
   ],
   "source": [
    "input_df.head()"
   ]
  },
  {
   "cell_type": "markdown",
   "metadata": {},
   "source": [
    "### Merging input_df with df_EC"
   ]
  },
  {
   "cell_type": "code",
   "execution_count": 408,
   "metadata": {},
   "outputs": [],
   "source": [
    "df = input_df.merge(df_EC, how='outer', on='datetime_str')"
   ]
  },
  {
   "cell_type": "markdown",
   "metadata": {},
   "source": [
    "### feature engineering: adding new features \n",
    "- day of year\n",
    "- time in sec\n",
    "- cyclic time coordinates\n",
    "- potentially adding:\n",
    "    - friday_off, saturday_off, sunday_off\n",
    "    - holidays"
   ]
  },
  {
   "cell_type": "code",
   "execution_count": 405,
   "metadata": {},
   "outputs": [],
   "source": [
    "def get_static_features(df):\n",
    "    # inserting new columns at index 7 and onward\n",
    "    idx = 7\n",
    "    new_col = df.datetime_str.dt.dayofyear.astype(np.float32)\n",
    "    df.insert(loc=idx, column='Doy', value=new_col)\n",
    "\n",
    "    idx = idx+1\n",
    "    new_col = pd.to_timedelta(df.datetime_str.dt.strftime('%H:%M:%S')).dt.total_seconds().astype(int)\n",
    "    df.insert(loc=idx, column='TimeinSec', value=new_col)\n",
    "\n",
    "    # conversion to cyclic coordinates\n",
    "    seconds_in_day = 24 * 60 * 60\n",
    "\n",
    "    idx = idx + 1\n",
    "    new_col = np.sin(2 * np.pi * df.TimeinSec / seconds_in_day)\n",
    "    df.insert(loc=idx, column='sin_time', value=new_col)\n",
    "\n",
    "    idx = idx+1\n",
    "    new_col = np.cos(2 * np.pi * df.TimeinSec / seconds_in_day)\n",
    "    df.insert(loc=idx, column='cos_time', value=new_col)\n",
    "    \n",
    "    idx = idx+1\n",
    "    new_col = df['EC'].shift(4)\n",
    "    df.insert(loc=idx, column='EC_t-4', value=new_col)\n",
    "    \n",
    "    idx = idx+1\n",
    "    new_col = df['EC'].shift(3)\n",
    "    df.insert(loc=idx, column='EC_t-3', value=new_col)\n",
    "    \n",
    "    idx = idx+1\n",
    "    new_col = df['EC'].shift(2)\n",
    "    df.insert(loc=idx, column='EC_t-2', value=new_col)\n",
    "    \n",
    "    idx = idx+1\n",
    "    new_col = df['EC'].shift(1)\n",
    "    df.insert(loc=idx, column='EC_t-1', value=new_col)\n",
    "    \n",
    "    return df"
   ]
  },
  {
   "cell_type": "markdown",
   "metadata": {},
   "source": [
    "### filling in the nan values created in rows 1 to 4\n",
    "- getting the mean of the column for the rows where the time is same as the time of the Nan value cell"
   ]
  },
  {
   "cell_type": "code",
   "execution_count": 406,
   "metadata": {},
   "outputs": [],
   "source": [
    "def fill_nan(df):\n",
    "    df.loc[0,'EC_t-4'] = df[df.datetime_str.apply(lambda x: x.time()) == df.datetime_str[0].time()]['EC_t-4'].mean(axis=0)\n",
    "    df.loc[1,'EC_t-4'] = df[df.datetime_str.apply(lambda x: x.time()) == df.datetime_str[1].time()]['EC_t-4'].mean(axis=0)\n",
    "    df.loc[2,'EC_t-4'] = df[df.datetime_str.apply(lambda x: x.time()) == df.datetime_str[2].time()]['EC_t-4'].mean(axis=0)\n",
    "    df.loc[3,'EC_t-4'] = df[df.datetime_str.apply(lambda x: x.time()) == df.datetime_str[3].time()]['EC_t-4'].mean(axis=0)\n",
    "\n",
    "    df.loc[0,'EC_t-3'] = df[df.datetime_str.apply(lambda x: x.time()) == df.datetime_str[0].time()]['EC_t-3'].mean(axis=0)\n",
    "    df.loc[1,'EC_t-3'] = df[df.datetime_str.apply(lambda x: x.time()) == df.datetime_str[1].time()]['EC_t-3'].mean(axis=0)\n",
    "    df.loc[2,'EC_t-3'] = df[df.datetime_str.apply(lambda x: x.time()) == df.datetime_str[2].time()]['EC_t-3'].mean(axis=0)\n",
    "\n",
    "    df.loc[0,'EC_t-2'] = df[df.datetime_str.apply(lambda x: x.time()) == df.datetime_str[0].time()]['EC_t-2'].mean(axis=0)\n",
    "    df.loc[1,'EC_t-2'] = df[df.datetime_str.apply(lambda x: x.time()) == df.datetime_str[1].time()]['EC_t-2'].mean(axis=0)\n",
    "\n",
    "    df.loc[0,'EC_t-1'] = df[df.datetime_str.apply(lambda x: x.time()) == df.datetime_str[0].time()]['EC_t-1'].mean(axis=0)\n",
    "    \n",
    "    return df"
   ]
  },
  {
   "cell_type": "code",
   "execution_count": 409,
   "metadata": {},
   "outputs": [],
   "source": [
    "df = get_static_features(df)\n",
    "df = fill_nan(df)"
   ]
  },
  {
   "cell_type": "code",
   "execution_count": 410,
   "metadata": {},
   "outputs": [
    {
     "data": {
      "text/html": [
       "<div>\n",
       "<style scoped>\n",
       "    .dataframe tbody tr th:only-of-type {\n",
       "        vertical-align: middle;\n",
       "    }\n",
       "\n",
       "    .dataframe tbody tr th {\n",
       "        vertical-align: top;\n",
       "    }\n",
       "\n",
       "    .dataframe thead th {\n",
       "        text-align: right;\n",
       "    }\n",
       "</style>\n",
       "<table border=\"1\" class=\"dataframe\">\n",
       "  <thead>\n",
       "    <tr style=\"text-align: right;\">\n",
       "      <th></th>\n",
       "      <th>datetime_str</th>\n",
       "      <th>RH</th>\n",
       "      <th>DBT</th>\n",
       "      <th>TCC</th>\n",
       "      <th>GHI</th>\n",
       "      <th>BP</th>\n",
       "      <th>WS</th>\n",
       "      <th>Doy</th>\n",
       "      <th>TimeinSec</th>\n",
       "      <th>sin_time</th>\n",
       "      <th>cos_time</th>\n",
       "      <th>EC_t-4</th>\n",
       "      <th>EC_t-3</th>\n",
       "      <th>EC_t-2</th>\n",
       "      <th>EC_t-1</th>\n",
       "      <th>EC</th>\n",
       "    </tr>\n",
       "  </thead>\n",
       "  <tbody>\n",
       "    <tr>\n",
       "      <th>0</th>\n",
       "      <td>2018-10-22 00:00:00</td>\n",
       "      <td>34.076071</td>\n",
       "      <td>53.763286</td>\n",
       "      <td>-1.0</td>\n",
       "      <td>-1.139005</td>\n",
       "      <td>819.694445</td>\n",
       "      <td>9.041640</td>\n",
       "      <td>295.0</td>\n",
       "      <td>0</td>\n",
       "      <td>0.000000</td>\n",
       "      <td>1.000000</td>\n",
       "      <td>1101.122354</td>\n",
       "      <td>1104.141259</td>\n",
       "      <td>1101.763573</td>\n",
       "      <td>1094.773839</td>\n",
       "      <td>1121.757446</td>\n",
       "    </tr>\n",
       "    <tr>\n",
       "      <th>1</th>\n",
       "      <td>2018-10-22 00:15:00</td>\n",
       "      <td>34.491333</td>\n",
       "      <td>53.134400</td>\n",
       "      <td>-1.0</td>\n",
       "      <td>-1.082448</td>\n",
       "      <td>819.649076</td>\n",
       "      <td>11.039303</td>\n",
       "      <td>295.0</td>\n",
       "      <td>900</td>\n",
       "      <td>0.065403</td>\n",
       "      <td>0.997859</td>\n",
       "      <td>1104.141259</td>\n",
       "      <td>1101.763573</td>\n",
       "      <td>1094.773839</td>\n",
       "      <td>1121.757446</td>\n",
       "      <td>1124.623535</td>\n",
       "    </tr>\n",
       "    <tr>\n",
       "      <th>2</th>\n",
       "      <td>2018-10-22 00:30:00</td>\n",
       "      <td>35.003334</td>\n",
       "      <td>52.816400</td>\n",
       "      <td>-1.0</td>\n",
       "      <td>-1.132512</td>\n",
       "      <td>819.679940</td>\n",
       "      <td>9.348578</td>\n",
       "      <td>295.0</td>\n",
       "      <td>1800</td>\n",
       "      <td>0.130526</td>\n",
       "      <td>0.991445</td>\n",
       "      <td>1101.763573</td>\n",
       "      <td>1094.773839</td>\n",
       "      <td>1121.757446</td>\n",
       "      <td>1124.623535</td>\n",
       "      <td>1137.146484</td>\n",
       "    </tr>\n",
       "    <tr>\n",
       "      <th>3</th>\n",
       "      <td>2018-10-22 00:45:00</td>\n",
       "      <td>34.592000</td>\n",
       "      <td>52.854800</td>\n",
       "      <td>-1.0</td>\n",
       "      <td>-1.142429</td>\n",
       "      <td>819.654358</td>\n",
       "      <td>10.930883</td>\n",
       "      <td>295.0</td>\n",
       "      <td>2700</td>\n",
       "      <td>0.195090</td>\n",
       "      <td>0.980785</td>\n",
       "      <td>1094.773839</td>\n",
       "      <td>1121.757446</td>\n",
       "      <td>1124.623535</td>\n",
       "      <td>1137.146484</td>\n",
       "      <td>1127.491821</td>\n",
       "    </tr>\n",
       "    <tr>\n",
       "      <th>4</th>\n",
       "      <td>2018-10-22 01:00:00</td>\n",
       "      <td>33.197667</td>\n",
       "      <td>53.549600</td>\n",
       "      <td>-1.0</td>\n",
       "      <td>-1.213715</td>\n",
       "      <td>819.607865</td>\n",
       "      <td>11.558586</td>\n",
       "      <td>295.0</td>\n",
       "      <td>3600</td>\n",
       "      <td>0.258819</td>\n",
       "      <td>0.965926</td>\n",
       "      <td>1121.757446</td>\n",
       "      <td>1124.623535</td>\n",
       "      <td>1137.146484</td>\n",
       "      <td>1127.491821</td>\n",
       "      <td>1131.487305</td>\n",
       "    </tr>\n",
       "    <tr>\n",
       "      <th>5</th>\n",
       "      <td>2018-10-22 01:15:00</td>\n",
       "      <td>32.728000</td>\n",
       "      <td>53.819600</td>\n",
       "      <td>-1.0</td>\n",
       "      <td>-1.223561</td>\n",
       "      <td>819.611076</td>\n",
       "      <td>11.059585</td>\n",
       "      <td>295.0</td>\n",
       "      <td>4500</td>\n",
       "      <td>0.321439</td>\n",
       "      <td>0.946930</td>\n",
       "      <td>1124.623535</td>\n",
       "      <td>1137.146484</td>\n",
       "      <td>1127.491821</td>\n",
       "      <td>1131.487305</td>\n",
       "      <td>1123.311523</td>\n",
       "    </tr>\n",
       "    <tr>\n",
       "      <th>6</th>\n",
       "      <td>2018-10-22 01:30:00</td>\n",
       "      <td>32.794000</td>\n",
       "      <td>53.726000</td>\n",
       "      <td>-1.0</td>\n",
       "      <td>-1.207018</td>\n",
       "      <td>819.686275</td>\n",
       "      <td>9.449392</td>\n",
       "      <td>295.0</td>\n",
       "      <td>5400</td>\n",
       "      <td>0.382683</td>\n",
       "      <td>0.923880</td>\n",
       "      <td>1137.146484</td>\n",
       "      <td>1127.491821</td>\n",
       "      <td>1131.487305</td>\n",
       "      <td>1123.311523</td>\n",
       "      <td>1116.804199</td>\n",
       "    </tr>\n",
       "    <tr>\n",
       "      <th>7</th>\n",
       "      <td>2018-10-22 01:45:00</td>\n",
       "      <td>33.418666</td>\n",
       "      <td>53.177600</td>\n",
       "      <td>-1.0</td>\n",
       "      <td>-1.126639</td>\n",
       "      <td>819.746936</td>\n",
       "      <td>7.323048</td>\n",
       "      <td>295.0</td>\n",
       "      <td>6300</td>\n",
       "      <td>0.442289</td>\n",
       "      <td>0.896873</td>\n",
       "      <td>1127.491821</td>\n",
       "      <td>1131.487305</td>\n",
       "      <td>1123.311523</td>\n",
       "      <td>1116.804199</td>\n",
       "      <td>1119.799316</td>\n",
       "    </tr>\n",
       "    <tr>\n",
       "      <th>8</th>\n",
       "      <td>2018-10-22 02:00:00</td>\n",
       "      <td>34.002666</td>\n",
       "      <td>52.829600</td>\n",
       "      <td>-1.0</td>\n",
       "      <td>-1.151515</td>\n",
       "      <td>819.732654</td>\n",
       "      <td>8.139255</td>\n",
       "      <td>295.0</td>\n",
       "      <td>7200</td>\n",
       "      <td>0.500000</td>\n",
       "      <td>0.866025</td>\n",
       "      <td>1131.487305</td>\n",
       "      <td>1123.311523</td>\n",
       "      <td>1116.804199</td>\n",
       "      <td>1119.799316</td>\n",
       "      <td>1118.565918</td>\n",
       "    </tr>\n",
       "    <tr>\n",
       "      <th>9</th>\n",
       "      <td>2018-10-22 02:15:00</td>\n",
       "      <td>34.045333</td>\n",
       "      <td>52.824800</td>\n",
       "      <td>-1.0</td>\n",
       "      <td>-1.179323</td>\n",
       "      <td>819.790365</td>\n",
       "      <td>9.173793</td>\n",
       "      <td>295.0</td>\n",
       "      <td>8100</td>\n",
       "      <td>0.555570</td>\n",
       "      <td>0.831470</td>\n",
       "      <td>1123.311523</td>\n",
       "      <td>1116.804199</td>\n",
       "      <td>1119.799316</td>\n",
       "      <td>1118.565918</td>\n",
       "      <td>1118.629639</td>\n",
       "    </tr>\n",
       "  </tbody>\n",
       "</table>\n",
       "</div>"
      ],
      "text/plain": [
       "         datetime_str         RH        DBT  TCC       GHI          BP  \\\n",
       "0 2018-10-22 00:00:00  34.076071  53.763286 -1.0 -1.139005  819.694445   \n",
       "1 2018-10-22 00:15:00  34.491333  53.134400 -1.0 -1.082448  819.649076   \n",
       "2 2018-10-22 00:30:00  35.003334  52.816400 -1.0 -1.132512  819.679940   \n",
       "3 2018-10-22 00:45:00  34.592000  52.854800 -1.0 -1.142429  819.654358   \n",
       "4 2018-10-22 01:00:00  33.197667  53.549600 -1.0 -1.213715  819.607865   \n",
       "5 2018-10-22 01:15:00  32.728000  53.819600 -1.0 -1.223561  819.611076   \n",
       "6 2018-10-22 01:30:00  32.794000  53.726000 -1.0 -1.207018  819.686275   \n",
       "7 2018-10-22 01:45:00  33.418666  53.177600 -1.0 -1.126639  819.746936   \n",
       "8 2018-10-22 02:00:00  34.002666  52.829600 -1.0 -1.151515  819.732654   \n",
       "9 2018-10-22 02:15:00  34.045333  52.824800 -1.0 -1.179323  819.790365   \n",
       "\n",
       "          WS    Doy  TimeinSec  sin_time  cos_time       EC_t-4       EC_t-3  \\\n",
       "0   9.041640  295.0          0  0.000000  1.000000  1101.122354  1104.141259   \n",
       "1  11.039303  295.0        900  0.065403  0.997859  1104.141259  1101.763573   \n",
       "2   9.348578  295.0       1800  0.130526  0.991445  1101.763573  1094.773839   \n",
       "3  10.930883  295.0       2700  0.195090  0.980785  1094.773839  1121.757446   \n",
       "4  11.558586  295.0       3600  0.258819  0.965926  1121.757446  1124.623535   \n",
       "5  11.059585  295.0       4500  0.321439  0.946930  1124.623535  1137.146484   \n",
       "6   9.449392  295.0       5400  0.382683  0.923880  1137.146484  1127.491821   \n",
       "7   7.323048  295.0       6300  0.442289  0.896873  1127.491821  1131.487305   \n",
       "8   8.139255  295.0       7200  0.500000  0.866025  1131.487305  1123.311523   \n",
       "9   9.173793  295.0       8100  0.555570  0.831470  1123.311523  1116.804199   \n",
       "\n",
       "        EC_t-2       EC_t-1           EC  \n",
       "0  1101.763573  1094.773839  1121.757446  \n",
       "1  1094.773839  1121.757446  1124.623535  \n",
       "2  1121.757446  1124.623535  1137.146484  \n",
       "3  1124.623535  1137.146484  1127.491821  \n",
       "4  1137.146484  1127.491821  1131.487305  \n",
       "5  1127.491821  1131.487305  1123.311523  \n",
       "6  1131.487305  1123.311523  1116.804199  \n",
       "7  1123.311523  1116.804199  1119.799316  \n",
       "8  1116.804199  1119.799316  1118.565918  \n",
       "9  1119.799316  1118.565918  1118.629639  "
      ]
     },
     "execution_count": 410,
     "metadata": {},
     "output_type": "execute_result"
    }
   ],
   "source": [
    "df.head(10)"
   ]
  },
  {
   "cell_type": "markdown",
   "metadata": {},
   "source": [
    "#### To do:\n",
    "- normalize input_df \n",
    "- divide into train and test\n",
    "- make the dataset iterable\n",
    "- convert in into torch tensors\n",
    "- build the "
   ]
  },
  {
   "cell_type": "code",
   "execution_count": null,
   "metadata": {},
   "outputs": [],
   "source": []
  }
 ],
 "metadata": {
  "kernelspec": {
   "display_name": "python3.5",
   "language": "python",
   "name": "python3.5"
  },
  "language_info": {
   "codemirror_mode": {
    "name": "ipython",
    "version": 3
   },
   "file_extension": ".py",
   "mimetype": "text/x-python",
   "name": "python",
   "nbconvert_exporter": "python",
   "pygments_lexer": "ipython3",
   "version": "3.5.6"
  }
 },
 "nbformat": 4,
 "nbformat_minor": 2
}
