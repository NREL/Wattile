{
 "cells": [
  {
   "cell_type": "code",
   "execution_count": 102,
   "metadata": {},
   "outputs": [],
   "source": [
    "import numpy as np\n",
    "import pandas as pd\n",
    "import requests\n",
    "import json\n",
    "import re"
   ]
  },
  {
   "cell_type": "code",
   "execution_count": 24,
   "metadata": {},
   "outputs": [],
   "source": [
    "import dateutil\n",
    "from dateutil.parser import parse\n",
    "import datetime"
   ]
  },
  {
   "cell_type": "markdown",
   "metadata": {},
   "source": [
    "getting weather *measurements* datapoints (for solar irradiance) from NREL SRRL BMS through the API:<br>\n",
    "https://internal-apis.nrel.gov/intelligentcampus/hisRead?id=@p:nrel:r:20ed5df2-2c0e126b&range=\"2018-08-31%2c2018-09-02\"\n",
    "\n",
    "In the above request, note the manner in which the date range is specified.\n",
    "\n",
    "to plug in the ID of the specific measurement (Dry Bulb Temperature in the following example) in the above link:<br>\n",
    "NREL => Historian => Weather => NREL SRRL BMS => Dry Bulb Temperature => Aspects => Folio => ID"
   ]
  },
  {
   "cell_type": "markdown",
   "metadata": {},
   "source": [
    "List of ids:\n",
    "    - Energy Consumption => unit kwh => @p:nrel:r:225918db-bfbda16a\n",
    "    - Relative Humidity (RH) => unit %RH  => @p:nrel:r:20ed5e0a-275dbdc2\n",
    "    - Barometric Pressure (BP) => unit mbar  => @p:nrel:r:20ed5e0a-53e174aa\n",
    "    - Dry Bulb Temperature (DBT) => unit degree Far => @p:nrel:r:20ed5e0a-fe755c80\n",
    "    - Global Horizontal Irradiance (GHI) => unit watss/m2_irr => @p:nrel:r:20ed5df2-2c0e126b\n",
    "    - Total Cloud Cover(TCC) => unit % => @p:nrel:r:20ed5e0a-acc8beff\n",
    "    - Wind Speed at 19’ (5.7 meter) (WS) => unit mph => @p:nrel:r:20ed5df2-fd2eecc5\n",
    "    "
   ]
  },
  {
   "cell_type": "code",
   "execution_count": 106,
   "metadata": {},
   "outputs": [],
   "source": [
    "root_url = 'https://internal-apis.nrel.gov/intelligentcampus/hisRead?id='\n",
    "reference_id = ['@p:nrel:r:225918db-bfbda16a','@p:nrel:r:20ed5e0a-275dbdc2','@p:nrel:r:20ed5e0a-53e174aa',\n",
    "                '@p:nrel:r:20ed5e0a-fe755c80','@p:nrel:r:20ed5df2-2c0e126b','@p:nrel:r:20ed5e0a-acc8beff',\n",
    "                '@p:nrel:r:20ed5df2-fd2eecc5']\n",
    "date_range = '&range=\\\"2018-08-31%2c2018-09-06\\\"'\n",
    "feature_name = ['EC','RH','BP','DBT','GHI','TCC','WS']\n",
    "\n",
    "response_dict = {}\n",
    "for i in range(len(reference_id)):\n",
    "    response_dict['resp_'+feature_name[i]] = requests.get(root_url+reference_id[i]+date_range)\n",
    "    if response_dict['resp_'+feature_name[i]].status_code == 200:\n",
    "        pass\n",
    "    else:\n",
    "        print(\"response from {} is not getting fetched from API\".format(feature_name[i]))"
   ]
  },
  {
   "cell_type": "code",
   "execution_count": 107,
   "metadata": {},
   "outputs": [],
   "source": [
    "EC = response_dict['resp_EC'].content.decode('utf-8').split(\"\\n\")\n",
    "EC = EC[2:]\n",
    "EC = filter(None, EC)"
   ]
  },
  {
   "cell_type": "code",
   "execution_count": 108,
   "metadata": {},
   "outputs": [],
   "source": [
    "def str_split(row):\n",
    "    time_val = row.split(\",\")[0].strip(\" Denver\")\n",
    "    energy_val = row.split(\",\")[1]\n",
    "    energy_val = re.sub('[kwh%RHmbar°FW/m²_irrp]','', energy_val)\n",
    "    return (time_val, float(energy_val))\n",
    "\n",
    "EC = list(map(str_split, EC))\n",
    "EC = list(zip(*EC))\n",
    "EC_dt, EC_value = EC[0], EC[1]"
   ]
  },
  {
   "cell_type": "code",
   "execution_count": 109,
   "metadata": {},
   "outputs": [],
   "source": [
    "def date_parser(row):\n",
    "    parsed = parse(row)\n",
    "    datetime_var = parsed.strftime(format='%m-%d-%y %H:%M:%S')\n",
    "    date = parsed.date()\n",
    "    time = parsed.time()\n",
    "    return (datetime_var ,date, time)\n",
    "\n",
    "EC_dt_parsed = list(map(date_parser, EC_dt))\n",
    "EC_dt_parsed = list(zip(*EC_dt_parsed))\n",
    "EC_datetime, EC_date, EC_time = EC_dt_parsed[0], EC_dt_parsed[1], EC_dt_parsed[2]"
   ]
  },
  {
   "cell_type": "code",
   "execution_count": 110,
   "metadata": {},
   "outputs": [],
   "source": [
    "feature_name = ['EC','RH','BP','DBT','GHI','TCC','WS']\n",
    "parsed_dict = {}\n",
    "for i in range(len(feature_name)):\n",
    "    parsed_dict[feature_name[i]] = response_dict['resp_'+feature_name[i]].content.decode('utf-8').split(\"\\n\")\n",
    "    parsed_dict[feature_name[i]] = parsed_dict[feature_name[i]][2:]\n",
    "    parsed_dict[feature_name[i]] = filter(None, parsed_dict[feature_name[i]])"
   ]
  },
  {
   "cell_type": "code",
   "execution_count": null,
   "metadata": {},
   "outputs": [],
   "source": []
  }
 ],
 "metadata": {
  "kernelspec": {
   "display_name": "python3.5",
   "language": "python",
   "name": "python3.5"
  },
  "language_info": {
   "codemirror_mode": {
    "name": "ipython",
    "version": 3
   },
   "file_extension": ".py",
   "mimetype": "text/x-python",
   "name": "python",
   "nbconvert_exporter": "python",
   "pygments_lexer": "ipython3",
   "version": "3.5.6"
  }
 },
 "nbformat": 4,
 "nbformat_minor": 2
}
